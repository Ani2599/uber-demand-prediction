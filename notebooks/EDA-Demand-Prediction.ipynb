{
 "cells": [
  {
   "cell_type": "markdown",
   "id": "53d316e4",
   "metadata": {},
   "source": [
    "# Load the packages"
   ]
  },
  {
   "cell_type": "code",
   "execution_count": 3,
   "id": "ce552cc4",
   "metadata": {},
   "outputs": [],
   "source": [
    "import numpy as np\n",
    "import pandas as pd\n",
    "import dask.dataframe as dd\n",
    "import matplotlib.pyplot as plt\n",
    "import seaborn as sns"
   ]
  },
  {
   "cell_type": "code",
   "execution_count": 4,
   "id": "4f613f68",
   "metadata": {},
   "outputs": [],
   "source": [
    "import os\n",
    "os.environ[\"PATH\"] += os.pathsep + 'C:/Program Files/Graphviz/bin/'  # Adjust path as needed"
   ]
  },
  {
   "cell_type": "markdown",
   "id": "a8ec4f53",
   "metadata": {},
   "source": [
    "# Load the Data"
   ]
  },
  {
   "cell_type": "code",
   "execution_count": 5,
   "id": "dbb6385f",
   "metadata": {},
   "outputs": [],
   "source": [
    "# paths for the three dfs\n",
    "\n",
    "df_jan_path = \"../data/raw/yellow_tripdata_2016-01.csv\"\n",
    "df_feb_path = \"../data/raw/yellow_tripdata_2016-02.csv\"\n",
    "df_mar_path = \"../data/raw/yellow_tripdata_2016-03.csv\"\n",
    "\n",
    "# load the dataframes\n",
    "\n",
    "df_jan = dd.read_csv(df_jan_path, assume_missing=True)\n",
    "df_feb = dd.read_csv(df_feb_path, assume_missing=True)\n",
    "df_mar = dd.read_csv(df_mar_path, assume_missing=True)"
   ]
  },
  {
   "cell_type": "code",
   "execution_count": 4,
   "id": "83ddbd83",
   "metadata": {},
   "outputs": [
    {
     "data": {
      "text/html": [
       "<div><strong>Dask DataFrame Structure:</strong></div>\n",
       "<table border=\"1\" class=\"dataframe\">\n",
       "  <thead>\n",
       "    <tr style=\"text-align: right;\">\n",
       "      <th></th>\n",
       "      <th>VendorID</th>\n",
       "      <th>tpep_pickup_datetime</th>\n",
       "      <th>tpep_dropoff_datetime</th>\n",
       "      <th>passenger_count</th>\n",
       "      <th>trip_distance</th>\n",
       "      <th>pickup_longitude</th>\n",
       "      <th>pickup_latitude</th>\n",
       "      <th>RatecodeID</th>\n",
       "      <th>store_and_fwd_flag</th>\n",
       "      <th>dropoff_longitude</th>\n",
       "      <th>dropoff_latitude</th>\n",
       "      <th>payment_type</th>\n",
       "      <th>fare_amount</th>\n",
       "      <th>extra</th>\n",
       "      <th>mta_tax</th>\n",
       "      <th>tip_amount</th>\n",
       "      <th>tolls_amount</th>\n",
       "      <th>improvement_surcharge</th>\n",
       "      <th>total_amount</th>\n",
       "    </tr>\n",
       "    <tr>\n",
       "      <th>npartitions=26</th>\n",
       "      <th></th>\n",
       "      <th></th>\n",
       "      <th></th>\n",
       "      <th></th>\n",
       "      <th></th>\n",
       "      <th></th>\n",
       "      <th></th>\n",
       "      <th></th>\n",
       "      <th></th>\n",
       "      <th></th>\n",
       "      <th></th>\n",
       "      <th></th>\n",
       "      <th></th>\n",
       "      <th></th>\n",
       "      <th></th>\n",
       "      <th></th>\n",
       "      <th></th>\n",
       "      <th></th>\n",
       "      <th></th>\n",
       "    </tr>\n",
       "  </thead>\n",
       "  <tbody>\n",
       "    <tr>\n",
       "      <th></th>\n",
       "      <td>float64</td>\n",
       "      <td>string</td>\n",
       "      <td>string</td>\n",
       "      <td>float64</td>\n",
       "      <td>float64</td>\n",
       "      <td>float64</td>\n",
       "      <td>float64</td>\n",
       "      <td>float64</td>\n",
       "      <td>string</td>\n",
       "      <td>float64</td>\n",
       "      <td>float64</td>\n",
       "      <td>float64</td>\n",
       "      <td>float64</td>\n",
       "      <td>float64</td>\n",
       "      <td>float64</td>\n",
       "      <td>float64</td>\n",
       "      <td>float64</td>\n",
       "      <td>float64</td>\n",
       "      <td>float64</td>\n",
       "    </tr>\n",
       "    <tr>\n",
       "      <th></th>\n",
       "      <td>...</td>\n",
       "      <td>...</td>\n",
       "      <td>...</td>\n",
       "      <td>...</td>\n",
       "      <td>...</td>\n",
       "      <td>...</td>\n",
       "      <td>...</td>\n",
       "      <td>...</td>\n",
       "      <td>...</td>\n",
       "      <td>...</td>\n",
       "      <td>...</td>\n",
       "      <td>...</td>\n",
       "      <td>...</td>\n",
       "      <td>...</td>\n",
       "      <td>...</td>\n",
       "      <td>...</td>\n",
       "      <td>...</td>\n",
       "      <td>...</td>\n",
       "      <td>...</td>\n",
       "    </tr>\n",
       "    <tr>\n",
       "      <th>...</th>\n",
       "      <td>...</td>\n",
       "      <td>...</td>\n",
       "      <td>...</td>\n",
       "      <td>...</td>\n",
       "      <td>...</td>\n",
       "      <td>...</td>\n",
       "      <td>...</td>\n",
       "      <td>...</td>\n",
       "      <td>...</td>\n",
       "      <td>...</td>\n",
       "      <td>...</td>\n",
       "      <td>...</td>\n",
       "      <td>...</td>\n",
       "      <td>...</td>\n",
       "      <td>...</td>\n",
       "      <td>...</td>\n",
       "      <td>...</td>\n",
       "      <td>...</td>\n",
       "      <td>...</td>\n",
       "    </tr>\n",
       "    <tr>\n",
       "      <th></th>\n",
       "      <td>...</td>\n",
       "      <td>...</td>\n",
       "      <td>...</td>\n",
       "      <td>...</td>\n",
       "      <td>...</td>\n",
       "      <td>...</td>\n",
       "      <td>...</td>\n",
       "      <td>...</td>\n",
       "      <td>...</td>\n",
       "      <td>...</td>\n",
       "      <td>...</td>\n",
       "      <td>...</td>\n",
       "      <td>...</td>\n",
       "      <td>...</td>\n",
       "      <td>...</td>\n",
       "      <td>...</td>\n",
       "      <td>...</td>\n",
       "      <td>...</td>\n",
       "      <td>...</td>\n",
       "    </tr>\n",
       "    <tr>\n",
       "      <th></th>\n",
       "      <td>...</td>\n",
       "      <td>...</td>\n",
       "      <td>...</td>\n",
       "      <td>...</td>\n",
       "      <td>...</td>\n",
       "      <td>...</td>\n",
       "      <td>...</td>\n",
       "      <td>...</td>\n",
       "      <td>...</td>\n",
       "      <td>...</td>\n",
       "      <td>...</td>\n",
       "      <td>...</td>\n",
       "      <td>...</td>\n",
       "      <td>...</td>\n",
       "      <td>...</td>\n",
       "      <td>...</td>\n",
       "      <td>...</td>\n",
       "      <td>...</td>\n",
       "      <td>...</td>\n",
       "    </tr>\n",
       "  </tbody>\n",
       "</table>\n",
       "<div>Dask Name: to_string_dtype, 2 expressions</div>"
      ],
      "text/plain": [
       "Dask DataFrame Structure:\n",
       "               VendorID tpep_pickup_datetime tpep_dropoff_datetime passenger_count trip_distance pickup_longitude pickup_latitude RatecodeID store_and_fwd_flag dropoff_longitude dropoff_latitude payment_type fare_amount    extra  mta_tax tip_amount tolls_amount improvement_surcharge total_amount\n",
       "npartitions=26                                                                                                                                                                                                                                                                                          \n",
       "                float64               string                string         float64       float64          float64         float64    float64             string           float64          float64      float64     float64  float64  float64    float64      float64               float64      float64\n",
       "                    ...                  ...                   ...             ...           ...              ...             ...        ...                ...               ...              ...          ...         ...      ...      ...        ...          ...                   ...          ...\n",
       "...                 ...                  ...                   ...             ...           ...              ...             ...        ...                ...               ...              ...          ...         ...      ...      ...        ...          ...                   ...          ...\n",
       "                    ...                  ...                   ...             ...           ...              ...             ...        ...                ...               ...              ...          ...         ...      ...      ...        ...          ...                   ...          ...\n",
       "                    ...                  ...                   ...             ...           ...              ...             ...        ...                ...               ...              ...          ...         ...      ...      ...        ...          ...                   ...          ...\n",
       "Dask Name: to_string_dtype, 2 expressions\n",
       "Expr=ArrowStringConversion(frame=FromMapProjectable(4dedbbb))"
      ]
     },
     "execution_count": 4,
     "metadata": {},
     "output_type": "execute_result"
    }
   ],
   "source": [
    "# print any one of the dataframe\n",
    "\n",
    "df_jan"
   ]
  },
  {
   "cell_type": "code",
   "execution_count": 5,
   "id": "35c471ca",
   "metadata": {},
   "outputs": [
    {
     "data": {
      "image/png": "[encoded data removed]",
      "text/plain": [
       "<IPython.core.display.Image object>"
      ]
     },
     "execution_count": 5,
     "metadata": {},
     "output_type": "execute_result"
    }
   ],
   "source": [
    "df_jan.visualize(tasks=True)\n"
   ]
  },
  {
   "cell_type": "code",
   "execution_count": 6,
   "id": "a2f06b87",
   "metadata": {},
   "outputs": [
    {
     "name": "stdout",
     "output_type": "stream",
     "text": [
      "Shape of january dataset (<dask_expr.expr.Scalar: expr=ArrowStringConversion(frame=FromMapProjectable(4dedbbb)).size() // 19, dtype=int64>, 19)\n",
      "Shape of february dataset (<dask_expr.expr.Scalar: expr=ArrowStringConversion(frame=FromMapProjectable(a6ac6c6)).size() // 19, dtype=int64>, 19)\n",
      "Shape of march dataset (<dask_expr.expr.Scalar: expr=ArrowStringConversion(frame=FromMapProjectable(2bb129d)).size() // 19, dtype=int64>, 19)\n"
     ]
    }
   ],
   "source": [
    "# shape of all the three datasets\n",
    "\n",
    "print(\"Shape of january dataset\", df_jan.shape)\n",
    "print(\"Shape of february dataset\", df_feb.shape)\n",
    "print(\"Shape of march dataset\", df_mar.shape)"
   ]
  },
  {
   "cell_type": "markdown",
   "id": "d16319b5",
   "metadata": {},
   "source": [
    "# We can concat the three dataframes as the number of columns are same in all the three dfs"
   ]
  },
  {
   "cell_type": "code",
   "execution_count": 7,
   "id": "05b5f78c",
   "metadata": {},
   "outputs": [],
   "source": [
    "# concat the three dataframes as one\n",
    "\n",
    "df_final = dd.concat([df_jan, df_feb, df_mar], axis=0).drop(columns=['extra', 'mta_tax', 'tip_amount', 'tolls_amount',\n",
    "       'improvement_surcharge', 'total_amount', 'payment_type'])"
   ]
  },
  {
   "cell_type": "code",
   "execution_count": 8,
   "id": "39ada054",
   "metadata": {},
   "outputs": [
    {
     "data": {
      "text/html": [
       "<div><strong>Dask DataFrame Structure:</strong></div>\n",
       "<table border=\"1\" class=\"dataframe\">\n",
       "  <thead>\n",
       "    <tr style=\"text-align: right;\">\n",
       "      <th></th>\n",
       "      <th>VendorID</th>\n",
       "      <th>tpep_pickup_datetime</th>\n",
       "      <th>tpep_dropoff_datetime</th>\n",
       "      <th>passenger_count</th>\n",
       "      <th>trip_distance</th>\n",
       "      <th>pickup_longitude</th>\n",
       "      <th>pickup_latitude</th>\n",
       "      <th>RatecodeID</th>\n",
       "      <th>store_and_fwd_flag</th>\n",
       "      <th>dropoff_longitude</th>\n",
       "      <th>dropoff_latitude</th>\n",
       "      <th>fare_amount</th>\n",
       "    </tr>\n",
       "    <tr>\n",
       "      <th>npartitions=82</th>\n",
       "      <th></th>\n",
       "      <th></th>\n",
       "      <th></th>\n",
       "      <th></th>\n",
       "      <th></th>\n",
       "      <th></th>\n",
       "      <th></th>\n",
       "      <th></th>\n",
       "      <th></th>\n",
       "      <th></th>\n",
       "      <th></th>\n",
       "      <th></th>\n",
       "    </tr>\n",
       "  </thead>\n",
       "  <tbody>\n",
       "    <tr>\n",
       "      <th></th>\n",
       "      <td>float64</td>\n",
       "      <td>string</td>\n",
       "      <td>string</td>\n",
       "      <td>float64</td>\n",
       "      <td>float64</td>\n",
       "      <td>float64</td>\n",
       "      <td>float64</td>\n",
       "      <td>float64</td>\n",
       "      <td>string</td>\n",
       "      <td>float64</td>\n",
       "      <td>float64</td>\n",
       "      <td>float64</td>\n",
       "    </tr>\n",
       "    <tr>\n",
       "      <th></th>\n",
       "      <td>...</td>\n",
       "      <td>...</td>\n",
       "      <td>...</td>\n",
       "      <td>...</td>\n",
       "      <td>...</td>\n",
       "      <td>...</td>\n",
       "      <td>...</td>\n",
       "      <td>...</td>\n",
       "      <td>...</td>\n",
       "      <td>...</td>\n",
       "      <td>...</td>\n",
       "      <td>...</td>\n",
       "    </tr>\n",
       "    <tr>\n",
       "      <th>...</th>\n",
       "      <td>...</td>\n",
       "      <td>...</td>\n",
       "      <td>...</td>\n",
       "      <td>...</td>\n",
       "      <td>...</td>\n",
       "      <td>...</td>\n",
       "      <td>...</td>\n",
       "      <td>...</td>\n",
       "      <td>...</td>\n",
       "      <td>...</td>\n",
       "      <td>...</td>\n",
       "      <td>...</td>\n",
       "    </tr>\n",
       "    <tr>\n",
       "      <th></th>\n",
       "      <td>...</td>\n",
       "      <td>...</td>\n",
       "      <td>...</td>\n",
       "      <td>...</td>\n",
       "      <td>...</td>\n",
       "      <td>...</td>\n",
       "      <td>...</td>\n",
       "      <td>...</td>\n",
       "      <td>...</td>\n",
       "      <td>...</td>\n",
       "      <td>...</td>\n",
       "      <td>...</td>\n",
       "    </tr>\n",
       "    <tr>\n",
       "      <th></th>\n",
       "      <td>...</td>\n",
       "      <td>...</td>\n",
       "      <td>...</td>\n",
       "      <td>...</td>\n",
       "      <td>...</td>\n",
       "      <td>...</td>\n",
       "      <td>...</td>\n",
       "      <td>...</td>\n",
       "      <td>...</td>\n",
       "      <td>...</td>\n",
       "      <td>...</td>\n",
       "      <td>...</td>\n",
       "    </tr>\n",
       "  </tbody>\n",
       "</table>\n",
       "<div>Dask Name: drop_by_shallow_copy, 8 expressions</div>"
      ],
      "text/plain": [
       "Dask DataFrame Structure:\n",
       "               VendorID tpep_pickup_datetime tpep_dropoff_datetime passenger_count trip_distance pickup_longitude pickup_latitude RatecodeID store_and_fwd_flag dropoff_longitude dropoff_latitude fare_amount\n",
       "npartitions=82                                                                                                                                                                                                \n",
       "                float64               string                string         float64       float64          float64         float64    float64             string           float64          float64     float64\n",
       "                    ...                  ...                   ...             ...           ...              ...             ...        ...                ...               ...              ...         ...\n",
       "...                 ...                  ...                   ...             ...           ...              ...             ...        ...                ...               ...              ...         ...\n",
       "                    ...                  ...                   ...             ...           ...              ...             ...        ...                ...               ...              ...         ...\n",
       "                    ...                  ...                   ...             ...           ...              ...             ...        ...                ...               ...              ...         ...\n",
       "Dask Name: drop_by_shallow_copy, 8 expressions\n",
       "Expr=Drop(frame=Concat(frames=[ArrowStringConversion(frame=FromMapProjectable(4dedbbb)), ArrowStringConversion(frame=FromMapProjectable(a6ac6c6)), ArrowStringConversion(frame=FromMapProjectable(2bb129d))], ), columns=['extra', 'mta_tax', 'tip_amount', 'tolls_amount', 'improvement_surcharge', 'total_amount', 'payment_type'])"
      ]
     },
     "execution_count": 8,
     "metadata": {},
     "output_type": "execute_result"
    }
   ],
   "source": [
    "df_final"
   ]
  },
  {
   "cell_type": "code",
   "execution_count": 9,
   "id": "1c4ce12e",
   "metadata": {},
   "outputs": [
    {
     "data": {
      "image/svg+xml": [
       "<?xml version=\"1.0\" encoding=\"UTF-8\" standalone=\"no\"?>\n",
       "<!DOCTYPE svg PUBLIC \"-//W3C//DTD SVG 1.1//EN\"\n",
       " \"http://www.w3.org/Graphics/SVG/1.1/DTD/svg11.dtd\">\n",
       "<!-- Generated by graphviz version 12.2.1 (20241206.2353)\n",
       " -->\n",
       "<!-- Pages: 1 -->\n",
       "<svg width=\"1310pt\" height=\"260pt\"\n",
       " viewBox=\"0.00 0.00 1309.75 260.00\" xmlns=\"http://www.w3.org/2000/svg\" xmlns:xlink=\"http://www.w3.org/1999/xlink\">\n",
       "<g id=\"graph0\" class=\"graph\" transform=\"scale(1 1) rotate(0) translate(4 256)\">\n",
       "<polygon fill=\"white\" stroke=\"none\" points=\"-4,4 -4,-256 1305.75,-256 1305.75,4 -4,4\"/>\n",
       "<!-- 2533116306036115615 -->\n",
       "<g id=\"node1\" class=\"node\">\n",
       "<title>2533116306036115615</title>\n",
       "<polygon fill=\"none\" stroke=\"black\" points=\"718.88,-252 582.88,-252 582.88,-216 718.88,-216 718.88,-252\"/>\n",
       "<text text-anchor=\"middle\" x=\"650.88\" y=\"-226.62\" font-family=\"Helvetica,sans-Serif\" font-size=\"20.00\">Drop(Concat)</text>\n",
       "</g>\n",
       "<!-- 6054868841914164091 -->\n",
       "<g id=\"node2\" class=\"node\">\n",
       "<title>6054868841914164091</title>\n",
       "<polygon fill=\"none\" stroke=\"black\" points=\"1016.25,-180 285.5,-180 285.5,-144 1016.25,-144 1016.25,-180\"/>\n",
       "<text text-anchor=\"middle\" x=\"650.88\" y=\"-154.62\" font-family=\"Helvetica,sans-Serif\" font-size=\"20.00\">Concat(ArrowStringConversion, ArrowStringConversion, ArrowStringConversion)</text>\n",
       "</g>\n",
       "<!-- 6054868841914164091&#45;&gt;2533116306036115615 -->\n",
       "<g id=\"edge1\" class=\"edge\">\n",
       "<title>6054868841914164091&#45;&gt;2533116306036115615</title>\n",
       "<path fill=\"none\" stroke=\"black\" d=\"M650.88,-180.3C650.88,-187.59 650.88,-196.27 650.88,-204.46\"/>\n",
       "<polygon fill=\"black\" stroke=\"black\" points=\"647.38,-204.38 650.88,-214.38 654.38,-204.38 647.38,-204.38\"/>\n",
       "</g>\n",
       "<!-- 2655498160723194059 -->\n",
       "<g id=\"node3\" class=\"node\">\n",
       "<title>2655498160723194059</title>\n",
       "<polygon fill=\"none\" stroke=\"black\" points=\"421.75,-108 0,-108 0,-72 421.75,-72 421.75,-108\"/>\n",
       "<text text-anchor=\"middle\" x=\"210.88\" y=\"-82.62\" font-family=\"Helvetica,sans-Serif\" font-size=\"20.00\">ArrowStringConversion(FromMapProjectable)</text>\n",
       "</g>\n",
       "<!-- 2655498160723194059&#45;&gt;6054868841914164091 -->\n",
       "<g id=\"edge3\" class=\"edge\">\n",
       "<title>2655498160723194059&#45;&gt;6054868841914164091</title>\n",
       "<path fill=\"none\" stroke=\"black\" d=\"M320.77,-108.48C384.41,-118.61 464.62,-131.37 530.04,-141.78\"/>\n",
       "<polygon fill=\"black\" stroke=\"black\" points=\"529.32,-145.21 539.74,-143.32 530.42,-138.29 529.32,-145.21\"/>\n",
       "</g>\n",
       "<!-- 4375684276265909753 -->\n",
       "<g id=\"node4\" class=\"node\">\n",
       "<title>4375684276265909753</title>\n",
       "<polygon fill=\"none\" stroke=\"black\" points=\"311.88,-36 109.88,-36 109.88,0 311.88,0 311.88,-36\"/>\n",
       "<text text-anchor=\"middle\" x=\"210.88\" y=\"-10.62\" font-family=\"Helvetica,sans-Serif\" font-size=\"20.00\">FromMapProjectable</text>\n",
       "</g>\n",
       "<!-- 4375684276265909753&#45;&gt;2655498160723194059 -->\n",
       "<g id=\"edge5\" class=\"edge\">\n",
       "<title>4375684276265909753&#45;&gt;2655498160723194059</title>\n",
       "<path fill=\"none\" stroke=\"black\" d=\"M210.88,-36.3C210.88,-43.59 210.88,-52.27 210.88,-60.46\"/>\n",
       "<polygon fill=\"black\" stroke=\"black\" points=\"207.38,-60.38 210.88,-70.38 214.38,-60.38 207.38,-60.38\"/>\n",
       "</g>\n",
       "<!-- &#45;4538403960868856754 -->\n",
       "<g id=\"node5\" class=\"node\">\n",
       "<title>&#45;4538403960868856754</title>\n",
       "<polygon fill=\"none\" stroke=\"black\" points=\"861.75,-108 440,-108 440,-72 861.75,-72 861.75,-108\"/>\n",
       "<text text-anchor=\"middle\" x=\"650.88\" y=\"-82.62\" font-family=\"Helvetica,sans-Serif\" font-size=\"20.00\">ArrowStringConversion(FromMapProjectable)</text>\n",
       "</g>\n",
       "<!-- &#45;4538403960868856754&#45;&gt;6054868841914164091 -->\n",
       "<g id=\"edge4\" class=\"edge\">\n",
       "<title>&#45;4538403960868856754&#45;&gt;6054868841914164091</title>\n",
       "<path fill=\"none\" stroke=\"black\" d=\"M650.88,-108.3C650.88,-115.59 650.88,-124.27 650.88,-132.46\"/>\n",
       "<polygon fill=\"black\" stroke=\"black\" points=\"647.38,-132.38 650.88,-142.38 654.38,-132.38 647.38,-132.38\"/>\n",
       "</g>\n",
       "<!-- &#45;187858731540737045 -->\n",
       "<g id=\"node6\" class=\"node\">\n",
       "<title>&#45;187858731540737045</title>\n",
       "<polygon fill=\"none\" stroke=\"black\" points=\"751.88,-36 549.88,-36 549.88,0 751.88,0 751.88,-36\"/>\n",
       "<text text-anchor=\"middle\" x=\"650.88\" y=\"-10.62\" font-family=\"Helvetica,sans-Serif\" font-size=\"20.00\">FromMapProjectable</text>\n",
       "</g>\n",
       "<!-- &#45;187858731540737045&#45;&gt;&#45;4538403960868856754 -->\n",
       "<g id=\"edge6\" class=\"edge\">\n",
       "<title>&#45;187858731540737045&#45;&gt;&#45;4538403960868856754</title>\n",
       "<path fill=\"none\" stroke=\"black\" d=\"M650.88,-36.3C650.88,-43.59 650.88,-52.27 650.88,-60.46\"/>\n",
       "<polygon fill=\"black\" stroke=\"black\" points=\"647.38,-60.38 650.88,-70.38 654.38,-60.38 647.38,-60.38\"/>\n",
       "</g>\n",
       "<!-- &#45;5295946078150051326 -->\n",
       "<g id=\"node7\" class=\"node\">\n",
       "<title>&#45;5295946078150051326</title>\n",
       "<polygon fill=\"none\" stroke=\"black\" points=\"1301.75,-108 880,-108 880,-72 1301.75,-72 1301.75,-108\"/>\n",
       "<text text-anchor=\"middle\" x=\"1090.88\" y=\"-82.62\" font-family=\"Helvetica,sans-Serif\" font-size=\"20.00\">ArrowStringConversion(FromMapProjectable)</text>\n",
       "</g>\n",
       "<!-- &#45;5295946078150051326&#45;&gt;6054868841914164091 -->\n",
       "<g id=\"edge2\" class=\"edge\">\n",
       "<title>&#45;5295946078150051326&#45;&gt;6054868841914164091</title>\n",
       "<path fill=\"none\" stroke=\"black\" d=\"M980.98,-108.48C917.34,-118.61 837.13,-131.37 771.71,-141.78\"/>\n",
       "<polygon fill=\"black\" stroke=\"black\" points=\"771.33,-138.29 762.01,-143.32 772.43,-145.21 771.33,-138.29\"/>\n",
       "</g>\n",
       "<!-- &#45;6498182688942817229 -->\n",
       "<g id=\"node8\" class=\"node\">\n",
       "<title>&#45;6498182688942817229</title>\n",
       "<polygon fill=\"none\" stroke=\"black\" points=\"1191.88,-36 989.88,-36 989.88,0 1191.88,0 1191.88,-36\"/>\n",
       "<text text-anchor=\"middle\" x=\"1090.88\" y=\"-10.62\" font-family=\"Helvetica,sans-Serif\" font-size=\"20.00\">FromMapProjectable</text>\n",
       "</g>\n",
       "<!-- &#45;6498182688942817229&#45;&gt;&#45;5295946078150051326 -->\n",
       "<g id=\"edge7\" class=\"edge\">\n",
       "<title>&#45;6498182688942817229&#45;&gt;&#45;5295946078150051326</title>\n",
       "<path fill=\"none\" stroke=\"black\" d=\"M1090.88,-36.3C1090.88,-43.59 1090.88,-52.27 1090.88,-60.46\"/>\n",
       "<polygon fill=\"black\" stroke=\"black\" points=\"1087.38,-60.38 1090.88,-70.38 1094.38,-60.38 1087.38,-60.38\"/>\n",
       "</g>\n",
       "</g>\n",
       "</svg>\n"
      ],
      "text/plain": [
       "<graphviz.graphs.Digraph at 0x21c90bc8190>"
      ]
     },
     "execution_count": 9,
     "metadata": {},
     "output_type": "execute_result"
    }
   ],
   "source": [
    "# visualize the concatenation\n",
    "\n",
    "df_final.visualize()"
   ]
  },
  {
   "cell_type": "code",
   "execution_count": 10,
   "id": "8a062233",
   "metadata": {},
   "outputs": [
    {
     "data": {
      "text/plain": [
       "Index(['VendorID', 'tpep_pickup_datetime', 'tpep_dropoff_datetime',\n",
       "       'passenger_count', 'trip_distance', 'pickup_longitude',\n",
       "       'pickup_latitude', 'RatecodeID', 'store_and_fwd_flag',\n",
       "       'dropoff_longitude', 'dropoff_latitude', 'fare_amount'],\n",
       "      dtype='object')"
      ]
     },
     "execution_count": 10,
     "metadata": {},
     "output_type": "execute_result"
    }
   ],
   "source": [
    "# columns in the final dataset\n",
    "\n",
    "df_final.columns"
   ]
  },
  {
   "cell_type": "code",
   "execution_count": 11,
   "id": "b201be08",
   "metadata": {},
   "outputs": [
    {
     "data": {
      "text/html": [
       "<div>\n",
       "<style scoped>\n",
       "    .dataframe tbody tr th:only-of-type {\n",
       "        vertical-align: middle;\n",
       "    }\n",
       "\n",
       "    .dataframe tbody tr th {\n",
       "        vertical-align: top;\n",
       "    }\n",
       "\n",
       "    .dataframe thead th {\n",
       "        text-align: right;\n",
       "    }\n",
       "</style>\n",
       "<table border=\"1\" class=\"dataframe\">\n",
       "  <thead>\n",
       "    <tr style=\"text-align: right;\">\n",
       "      <th></th>\n",
       "      <th>VendorID</th>\n",
       "      <th>tpep_pickup_datetime</th>\n",
       "      <th>tpep_dropoff_datetime</th>\n",
       "      <th>passenger_count</th>\n",
       "      <th>trip_distance</th>\n",
       "      <th>pickup_longitude</th>\n",
       "      <th>pickup_latitude</th>\n",
       "      <th>RatecodeID</th>\n",
       "      <th>store_and_fwd_flag</th>\n",
       "      <th>dropoff_longitude</th>\n",
       "      <th>dropoff_latitude</th>\n",
       "      <th>fare_amount</th>\n",
       "    </tr>\n",
       "  </thead>\n",
       "  <tbody>\n",
       "    <tr>\n",
       "      <th>0</th>\n",
       "      <td>2.0</td>\n",
       "      <td>2016-01-01 00:00:00</td>\n",
       "      <td>2016-01-01 00:00:00</td>\n",
       "      <td>2.0</td>\n",
       "      <td>1.10</td>\n",
       "      <td>-73.990372</td>\n",
       "      <td>40.734695</td>\n",
       "      <td>1.0</td>\n",
       "      <td>N</td>\n",
       "      <td>-73.981842</td>\n",
       "      <td>40.732407</td>\n",
       "      <td>7.5</td>\n",
       "    </tr>\n",
       "    <tr>\n",
       "      <th>1</th>\n",
       "      <td>2.0</td>\n",
       "      <td>2016-01-01 00:00:00</td>\n",
       "      <td>2016-01-01 00:00:00</td>\n",
       "      <td>5.0</td>\n",
       "      <td>4.90</td>\n",
       "      <td>-73.980782</td>\n",
       "      <td>40.729912</td>\n",
       "      <td>1.0</td>\n",
       "      <td>N</td>\n",
       "      <td>-73.944473</td>\n",
       "      <td>40.716679</td>\n",
       "      <td>18.0</td>\n",
       "    </tr>\n",
       "    <tr>\n",
       "      <th>2</th>\n",
       "      <td>2.0</td>\n",
       "      <td>2016-01-01 00:00:00</td>\n",
       "      <td>2016-01-01 00:00:00</td>\n",
       "      <td>1.0</td>\n",
       "      <td>10.54</td>\n",
       "      <td>-73.984550</td>\n",
       "      <td>40.679565</td>\n",
       "      <td>1.0</td>\n",
       "      <td>N</td>\n",
       "      <td>-73.950272</td>\n",
       "      <td>40.788925</td>\n",
       "      <td>33.0</td>\n",
       "    </tr>\n",
       "    <tr>\n",
       "      <th>3</th>\n",
       "      <td>2.0</td>\n",
       "      <td>2016-01-01 00:00:00</td>\n",
       "      <td>2016-01-01 00:00:00</td>\n",
       "      <td>1.0</td>\n",
       "      <td>4.75</td>\n",
       "      <td>-73.993469</td>\n",
       "      <td>40.718990</td>\n",
       "      <td>1.0</td>\n",
       "      <td>N</td>\n",
       "      <td>-73.962242</td>\n",
       "      <td>40.657333</td>\n",
       "      <td>16.5</td>\n",
       "    </tr>\n",
       "    <tr>\n",
       "      <th>4</th>\n",
       "      <td>2.0</td>\n",
       "      <td>2016-01-01 00:00:00</td>\n",
       "      <td>2016-01-01 00:00:00</td>\n",
       "      <td>3.0</td>\n",
       "      <td>1.76</td>\n",
       "      <td>-73.960625</td>\n",
       "      <td>40.781330</td>\n",
       "      <td>1.0</td>\n",
       "      <td>N</td>\n",
       "      <td>-73.977264</td>\n",
       "      <td>40.758514</td>\n",
       "      <td>8.0</td>\n",
       "    </tr>\n",
       "    <tr>\n",
       "      <th>5</th>\n",
       "      <td>2.0</td>\n",
       "      <td>2016-01-01 00:00:00</td>\n",
       "      <td>2016-01-01 00:18:30</td>\n",
       "      <td>2.0</td>\n",
       "      <td>5.52</td>\n",
       "      <td>-73.980118</td>\n",
       "      <td>40.743050</td>\n",
       "      <td>1.0</td>\n",
       "      <td>N</td>\n",
       "      <td>-73.913490</td>\n",
       "      <td>40.763142</td>\n",
       "      <td>19.0</td>\n",
       "    </tr>\n",
       "    <tr>\n",
       "      <th>6</th>\n",
       "      <td>2.0</td>\n",
       "      <td>2016-01-01 00:00:00</td>\n",
       "      <td>2016-01-01 00:26:45</td>\n",
       "      <td>2.0</td>\n",
       "      <td>7.45</td>\n",
       "      <td>-73.994057</td>\n",
       "      <td>40.719990</td>\n",
       "      <td>1.0</td>\n",
       "      <td>N</td>\n",
       "      <td>-73.966362</td>\n",
       "      <td>40.789871</td>\n",
       "      <td>26.0</td>\n",
       "    </tr>\n",
       "    <tr>\n",
       "      <th>7</th>\n",
       "      <td>1.0</td>\n",
       "      <td>2016-01-01 00:00:01</td>\n",
       "      <td>2016-01-01 00:11:55</td>\n",
       "      <td>1.0</td>\n",
       "      <td>1.20</td>\n",
       "      <td>-73.979424</td>\n",
       "      <td>40.744614</td>\n",
       "      <td>1.0</td>\n",
       "      <td>N</td>\n",
       "      <td>-73.992035</td>\n",
       "      <td>40.753944</td>\n",
       "      <td>9.0</td>\n",
       "    </tr>\n",
       "    <tr>\n",
       "      <th>8</th>\n",
       "      <td>1.0</td>\n",
       "      <td>2016-01-01 00:00:02</td>\n",
       "      <td>2016-01-01 00:11:14</td>\n",
       "      <td>1.0</td>\n",
       "      <td>6.00</td>\n",
       "      <td>-73.947151</td>\n",
       "      <td>40.791046</td>\n",
       "      <td>1.0</td>\n",
       "      <td>N</td>\n",
       "      <td>-73.920769</td>\n",
       "      <td>40.865578</td>\n",
       "      <td>18.0</td>\n",
       "    </tr>\n",
       "    <tr>\n",
       "      <th>9</th>\n",
       "      <td>2.0</td>\n",
       "      <td>2016-01-01 00:00:02</td>\n",
       "      <td>2016-01-01 00:11:08</td>\n",
       "      <td>1.0</td>\n",
       "      <td>3.21</td>\n",
       "      <td>-73.998344</td>\n",
       "      <td>40.723896</td>\n",
       "      <td>1.0</td>\n",
       "      <td>N</td>\n",
       "      <td>-73.995850</td>\n",
       "      <td>40.688400</td>\n",
       "      <td>11.5</td>\n",
       "    </tr>\n",
       "  </tbody>\n",
       "</table>\n",
       "</div>"
      ],
      "text/plain": [
       "   VendorID tpep_pickup_datetime tpep_dropoff_datetime  passenger_count  \\\n",
       "0       2.0  2016-01-01 00:00:00   2016-01-01 00:00:00              2.0   \n",
       "1       2.0  2016-01-01 00:00:00   2016-01-01 00:00:00              5.0   \n",
       "2       2.0  2016-01-01 00:00:00   2016-01-01 00:00:00              1.0   \n",
       "3       2.0  2016-01-01 00:00:00   2016-01-01 00:00:00              1.0   \n",
       "4       2.0  2016-01-01 00:00:00   2016-01-01 00:00:00              3.0   \n",
       "5       2.0  2016-01-01 00:00:00   2016-01-01 00:18:30              2.0   \n",
       "6       2.0  2016-01-01 00:00:00   2016-01-01 00:26:45              2.0   \n",
       "7       1.0  2016-01-01 00:00:01   2016-01-01 00:11:55              1.0   \n",
       "8       1.0  2016-01-01 00:00:02   2016-01-01 00:11:14              1.0   \n",
       "9       2.0  2016-01-01 00:00:02   2016-01-01 00:11:08              1.0   \n",
       "\n",
       "   trip_distance  pickup_longitude  pickup_latitude  RatecodeID  \\\n",
       "0           1.10        -73.990372        40.734695         1.0   \n",
       "1           4.90        -73.980782        40.729912         1.0   \n",
       "2          10.54        -73.984550        40.679565         1.0   \n",
       "3           4.75        -73.993469        40.718990         1.0   \n",
       "4           1.76        -73.960625        40.781330         1.0   \n",
       "5           5.52        -73.980118        40.743050         1.0   \n",
       "6           7.45        -73.994057        40.719990         1.0   \n",
       "7           1.20        -73.979424        40.744614         1.0   \n",
       "8           6.00        -73.947151        40.791046         1.0   \n",
       "9           3.21        -73.998344        40.723896         1.0   \n",
       "\n",
       "  store_and_fwd_flag  dropoff_longitude  dropoff_latitude  fare_amount  \n",
       "0                  N         -73.981842         40.732407          7.5  \n",
       "1                  N         -73.944473         40.716679         18.0  \n",
       "2                  N         -73.950272         40.788925         33.0  \n",
       "3                  N         -73.962242         40.657333         16.5  \n",
       "4                  N         -73.977264         40.758514          8.0  \n",
       "5                  N         -73.913490         40.763142         19.0  \n",
       "6                  N         -73.966362         40.789871         26.0  \n",
       "7                  N         -73.992035         40.753944          9.0  \n",
       "8                  N         -73.920769         40.865578         18.0  \n",
       "9                  N         -73.995850         40.688400         11.5  "
      ]
     },
     "execution_count": 11,
     "metadata": {},
     "output_type": "execute_result"
    }
   ],
   "source": [
    "# print top ten rows\n",
    "\n",
    "df_final.head(10)"
   ]
  },
  {
   "cell_type": "code",
   "execution_count": 12,
   "id": "919d51ea",
   "metadata": {},
   "outputs": [
    {
     "data": {
      "text/plain": [
       "VendorID                 0\n",
       "tpep_pickup_datetime     0\n",
       "tpep_dropoff_datetime    0\n",
       "passenger_count          0\n",
       "trip_distance            0\n",
       "pickup_longitude         0\n",
       "pickup_latitude          0\n",
       "RatecodeID               0\n",
       "store_and_fwd_flag       0\n",
       "dropoff_longitude        0\n",
       "dropoff_latitude         0\n",
       "fare_amount              0\n",
       "dtype: int64"
      ]
     },
     "execution_count": 12,
     "metadata": {},
     "output_type": "execute_result"
    }
   ],
   "source": [
    "# check for missing values\n",
    "\n",
    "df_final.isna().sum().compute()"
   ]
  },
  {
   "cell_type": "markdown",
   "id": "a8c8ead4",
   "metadata": {},
   "source": [
    "# Data Analysis"
   ]
  },
  {
   "cell_type": "code",
   "execution_count": 13,
   "id": "ddce992a",
   "metadata": {},
   "outputs": [],
   "source": [
    "sns.set(style=\"whitegrid\")"
   ]
  },
  {
   "cell_type": "code",
   "execution_count": 14,
   "id": "57d9e1fc",
   "metadata": {},
   "outputs": [
    {
     "data": {
      "text/html": [
       "<div>\n",
       "<style scoped>\n",
       "    .dataframe tbody tr th:only-of-type {\n",
       "        vertical-align: middle;\n",
       "    }\n",
       "\n",
       "    .dataframe tbody tr th {\n",
       "        vertical-align: top;\n",
       "    }\n",
       "\n",
       "    .dataframe thead th {\n",
       "        text-align: right;\n",
       "    }\n",
       "</style>\n",
       "<table border=\"1\" class=\"dataframe\">\n",
       "  <thead>\n",
       "    <tr style=\"text-align: right;\">\n",
       "      <th></th>\n",
       "      <th>VendorID</th>\n",
       "      <th>passenger_count</th>\n",
       "      <th>trip_distance</th>\n",
       "      <th>pickup_longitude</th>\n",
       "      <th>pickup_latitude</th>\n",
       "      <th>RatecodeID</th>\n",
       "      <th>dropoff_longitude</th>\n",
       "      <th>dropoff_latitude</th>\n",
       "      <th>fare_amount</th>\n",
       "    </tr>\n",
       "  </thead>\n",
       "  <tbody>\n",
       "    <tr>\n",
       "      <th>count</th>\n",
       "      <td>3.449986e+07</td>\n",
       "      <td>3.449986e+07</td>\n",
       "      <td>3.449986e+07</td>\n",
       "      <td>3.449986e+07</td>\n",
       "      <td>3.449986e+07</td>\n",
       "      <td>3.449986e+07</td>\n",
       "      <td>3.449986e+07</td>\n",
       "      <td>3.449986e+07</td>\n",
       "      <td>3.449986e+07</td>\n",
       "    </tr>\n",
       "    <tr>\n",
       "      <th>mean</th>\n",
       "      <td>1.532576e+00</td>\n",
       "      <td>1.661700e+00</td>\n",
       "      <td>5.309408e+00</td>\n",
       "      <td>-7.283942e+01</td>\n",
       "      <td>4.012605e+01</td>\n",
       "      <td>1.039150e+00</td>\n",
       "      <td>-7.290482e+01</td>\n",
       "      <td>4.016297e+01</td>\n",
       "      <td>1.257198e+01</td>\n",
       "    </tr>\n",
       "    <tr>\n",
       "      <th>std</th>\n",
       "      <td>4.989377e-01</td>\n",
       "      <td>1.316154e+00</td>\n",
       "      <td>4.672575e+03</td>\n",
       "      <td>9.090656e+00</td>\n",
       "      <td>5.007832e+00</td>\n",
       "      <td>5.564537e-01</td>\n",
       "      <td>8.828348e+00</td>\n",
       "      <td>4.863875e+00</td>\n",
       "      <td>9.179006e+01</td>\n",
       "    </tr>\n",
       "    <tr>\n",
       "      <th>min</th>\n",
       "      <td>1.000000e+00</td>\n",
       "      <td>0.000000e+00</td>\n",
       "      <td>-3.390584e+06</td>\n",
       "      <td>-1.616987e+02</td>\n",
       "      <td>-7.703949e+01</td>\n",
       "      <td>1.000000e+00</td>\n",
       "      <td>-1.616987e+02</td>\n",
       "      <td>-7.703949e+01</td>\n",
       "      <td>-9.576000e+02</td>\n",
       "    </tr>\n",
       "    <tr>\n",
       "      <th>25%</th>\n",
       "      <td>1.000000e+00</td>\n",
       "      <td>1.000000e+00</td>\n",
       "      <td>1.100000e+00</td>\n",
       "      <td>-7.399055e+01</td>\n",
       "      <td>4.074137e+01</td>\n",
       "      <td>1.000000e+00</td>\n",
       "      <td>-7.399009e+01</td>\n",
       "      <td>4.074001e+01</td>\n",
       "      <td>7.000000e+00</td>\n",
       "    </tr>\n",
       "    <tr>\n",
       "      <th>50%</th>\n",
       "      <td>2.000000e+00</td>\n",
       "      <td>1.000000e+00</td>\n",
       "      <td>1.930000e+00</td>\n",
       "      <td>-7.397922e+01</td>\n",
       "      <td>4.075640e+01</td>\n",
       "      <td>1.000000e+00</td>\n",
       "      <td>-7.397832e+01</td>\n",
       "      <td>4.075612e+01</td>\n",
       "      <td>1.000000e+01</td>\n",
       "    </tr>\n",
       "    <tr>\n",
       "      <th>75%</th>\n",
       "      <td>2.000000e+00</td>\n",
       "      <td>2.000000e+00</td>\n",
       "      <td>3.800000e+00</td>\n",
       "      <td>-7.396252e+01</td>\n",
       "      <td>4.076979e+01</td>\n",
       "      <td>1.000000e+00</td>\n",
       "      <td>-7.395599e+01</td>\n",
       "      <td>4.077166e+01</td>\n",
       "      <td>1.550000e+01</td>\n",
       "    </tr>\n",
       "    <tr>\n",
       "      <th>max</th>\n",
       "      <td>2.000000e+00</td>\n",
       "      <td>9.000000e+00</td>\n",
       "      <td>1.907263e+07</td>\n",
       "      <td>9.464387e+01</td>\n",
       "      <td>6.685682e+01</td>\n",
       "      <td>9.900000e+01</td>\n",
       "      <td>3.889659e+01</td>\n",
       "      <td>4.053167e+02</td>\n",
       "      <td>4.294967e+05</td>\n",
       "    </tr>\n",
       "  </tbody>\n",
       "</table>\n",
       "</div>"
      ],
      "text/plain": [
       "           VendorID  passenger_count  trip_distance  pickup_longitude  \\\n",
       "count  3.449986e+07     3.449986e+07   3.449986e+07      3.449986e+07   \n",
       "mean   1.532576e+00     1.661700e+00   5.309408e+00     -7.283942e+01   \n",
       "std    4.989377e-01     1.316154e+00   4.672575e+03      9.090656e+00   \n",
       "min    1.000000e+00     0.000000e+00  -3.390584e+06     -1.616987e+02   \n",
       "25%    1.000000e+00     1.000000e+00   1.100000e+00     -7.399055e+01   \n",
       "50%    2.000000e+00     1.000000e+00   1.930000e+00     -7.397922e+01   \n",
       "75%    2.000000e+00     2.000000e+00   3.800000e+00     -7.396252e+01   \n",
       "max    2.000000e+00     9.000000e+00   1.907263e+07      9.464387e+01   \n",
       "\n",
       "       pickup_latitude    RatecodeID  dropoff_longitude  dropoff_latitude  \\\n",
       "count     3.449986e+07  3.449986e+07       3.449986e+07      3.449986e+07   \n",
       "mean      4.012605e+01  1.039150e+00      -7.290482e+01      4.016297e+01   \n",
       "std       5.007832e+00  5.564537e-01       8.828348e+00      4.863875e+00   \n",
       "min      -7.703949e+01  1.000000e+00      -1.616987e+02     -7.703949e+01   \n",
       "25%       4.074137e+01  1.000000e+00      -7.399009e+01      4.074001e+01   \n",
       "50%       4.075640e+01  1.000000e+00      -7.397832e+01      4.075612e+01   \n",
       "75%       4.076979e+01  1.000000e+00      -7.395599e+01      4.077166e+01   \n",
       "max       6.685682e+01  9.900000e+01       3.889659e+01      4.053167e+02   \n",
       "\n",
       "        fare_amount  \n",
       "count  3.449986e+07  \n",
       "mean   1.257198e+01  \n",
       "std    9.179006e+01  \n",
       "min   -9.576000e+02  \n",
       "25%    7.000000e+00  \n",
       "50%    1.000000e+01  \n",
       "75%    1.550000e+01  \n",
       "max    4.294967e+05  "
      ]
     },
     "execution_count": 14,
     "metadata": {},
     "output_type": "execute_result"
    }
   ],
   "source": [
    "# statistical summary of numerical columns\n",
    "\n",
    "df_final.describe().compute()"
   ]
  },
  {
   "cell_type": "markdown",
   "id": "4a016269",
   "metadata": {},
   "source": [
    "# Vendor ID"
   ]
  },
  {
   "cell_type": "code",
   "execution_count": 15,
   "id": "9fb46f25",
   "metadata": {},
   "outputs": [
    {
     "data": {
      "text/plain": [
       "VendorID\n",
       "2.0    0.532576\n",
       "1.0    0.467424\n",
       "Name: proportion, dtype: float64"
      ]
     },
     "execution_count": 15,
     "metadata": {},
     "output_type": "execute_result"
    }
   ],
   "source": [
    "vendor_share = df_final['VendorID'].value_counts(normalize=True).compute()\n",
    "vendor_share"
   ]
  },
  {
   "cell_type": "code",
   "execution_count": 16,
   "id": "bc1f2d65",
   "metadata": {},
   "outputs": [
    {
     "data": {
      "image/png": "[encoded data removed]",
      "text/plain": [
       "<Figure size 640x480 with 1 Axes>"
      ]
     },
     "metadata": {},
     "output_type": "display_data"
    }
   ],
   "source": [
    "# donut chart\n",
    "\n",
    "plt.pie(vendor_share, labels=[\"Creative Mobile Technologies\",\"VeriFone Inc.\"], autopct=\"%.2f%%\",\n",
    "       radius=1, wedgeprops=dict(width=0.5, edgecolor=\"w\"))\n",
    "plt.show()"
   ]
  },
  {
   "cell_type": "markdown",
   "id": "6155ea5c",
   "metadata": {},
   "source": [
    "# Passenger Count"
   ]
  },
  {
   "cell_type": "code",
   "execution_count": 17,
   "id": "42d686c8",
   "metadata": {},
   "outputs": [
    {
     "data": {
      "image/svg+xml": [
       "<?xml version=\"1.0\" encoding=\"UTF-8\" standalone=\"no\"?>\n",
       "<!DOCTYPE svg PUBLIC \"-//W3C//DTD SVG 1.1//EN\"\n",
       " \"http://www.w3.org/Graphics/SVG/1.1/DTD/svg11.dtd\">\n",
       "<!-- Generated by graphviz version 12.2.1 (20241206.2353)\n",
       " -->\n",
       "<!-- Pages: 1 -->\n",
       "<svg width=\"1310pt\" height=\"404pt\"\n",
       " viewBox=\"0.00 0.00 1309.75 404.00\" xmlns=\"http://www.w3.org/2000/svg\" xmlns:xlink=\"http://www.w3.org/1999/xlink\">\n",
       "<g id=\"graph0\" class=\"graph\" transform=\"scale(1 1) rotate(0) translate(4 400)\">\n",
       "<polygon fill=\"white\" stroke=\"none\" points=\"-4,4 -4,-400 1305.75,-400 1305.75,4 -4,4\"/>\n",
       "<!-- &#45;3266858940118117153 -->\n",
       "<g id=\"node1\" class=\"node\">\n",
       "<title>&#45;3266858940118117153</title>\n",
       "<polygon fill=\"none\" stroke=\"black\" points=\"766.88,-396 534.88,-396 534.88,-360 766.88,-360 766.88,-396\"/>\n",
       "<text text-anchor=\"middle\" x=\"650.88\" y=\"-370.62\" font-family=\"Helvetica,sans-Serif\" font-size=\"20.00\">ValueCounts(Projection)</text>\n",
       "</g>\n",
       "<!-- 2877734357129801685 -->\n",
       "<g id=\"node2\" class=\"node\">\n",
       "<title>2877734357129801685</title>\n",
       "<polygon fill=\"none\" stroke=\"black\" points=\"814.12,-324 487.62,-324 487.62,-288 814.12,-288 814.12,-324\"/>\n",
       "<text text-anchor=\"middle\" x=\"650.88\" y=\"-298.62\" font-family=\"Helvetica,sans-Serif\" font-size=\"20.00\">Projection(Drop, passenger_count)</text>\n",
       "</g>\n",
       "<!-- 2877734357129801685&#45;&gt;&#45;3266858940118117153 -->\n",
       "<g id=\"edge1\" class=\"edge\">\n",
       "<title>2877734357129801685&#45;&gt;&#45;3266858940118117153</title>\n",
       "<path fill=\"none\" stroke=\"black\" d=\"M650.88,-324.3C650.88,-331.59 650.88,-340.27 650.88,-348.46\"/>\n",
       "<polygon fill=\"black\" stroke=\"black\" points=\"647.38,-348.38 650.88,-358.38 654.38,-348.38 647.38,-348.38\"/>\n",
       "</g>\n",
       "<!-- 2533116306036115615 -->\n",
       "<g id=\"node3\" class=\"node\">\n",
       "<title>2533116306036115615</title>\n",
       "<polygon fill=\"none\" stroke=\"black\" points=\"718.88,-252 582.88,-252 582.88,-216 718.88,-216 718.88,-252\"/>\n",
       "<text text-anchor=\"middle\" x=\"650.88\" y=\"-226.62\" font-family=\"Helvetica,sans-Serif\" font-size=\"20.00\">Drop(Concat)</text>\n",
       "</g>\n",
       "<!-- 2533116306036115615&#45;&gt;2877734357129801685 -->\n",
       "<g id=\"edge2\" class=\"edge\">\n",
       "<title>2533116306036115615&#45;&gt;2877734357129801685</title>\n",
       "<path fill=\"none\" stroke=\"black\" d=\"M650.88,-252.3C650.88,-259.59 650.88,-268.27 650.88,-276.46\"/>\n",
       "<polygon fill=\"black\" stroke=\"black\" points=\"647.38,-276.38 650.88,-286.38 654.38,-276.38 647.38,-276.38\"/>\n",
       "</g>\n",
       "<!-- 6054868841914164091 -->\n",
       "<g id=\"node4\" class=\"node\">\n",
       "<title>6054868841914164091</title>\n",
       "<polygon fill=\"none\" stroke=\"black\" points=\"1016.25,-180 285.5,-180 285.5,-144 1016.25,-144 1016.25,-180\"/>\n",
       "<text text-anchor=\"middle\" x=\"650.88\" y=\"-154.62\" font-family=\"Helvetica,sans-Serif\" font-size=\"20.00\">Concat(ArrowStringConversion, ArrowStringConversion, ArrowStringConversion)</text>\n",
       "</g>\n",
       "<!-- 6054868841914164091&#45;&gt;2533116306036115615 -->\n",
       "<g id=\"edge3\" class=\"edge\">\n",
       "<title>6054868841914164091&#45;&gt;2533116306036115615</title>\n",
       "<path fill=\"none\" stroke=\"black\" d=\"M650.88,-180.3C650.88,-187.59 650.88,-196.27 650.88,-204.46\"/>\n",
       "<polygon fill=\"black\" stroke=\"black\" points=\"647.38,-204.38 650.88,-214.38 654.38,-204.38 647.38,-204.38\"/>\n",
       "</g>\n",
       "<!-- 2655498160723194059 -->\n",
       "<g id=\"node5\" class=\"node\">\n",
       "<title>2655498160723194059</title>\n",
       "<polygon fill=\"none\" stroke=\"black\" points=\"421.75,-108 0,-108 0,-72 421.75,-72 421.75,-108\"/>\n",
       "<text text-anchor=\"middle\" x=\"210.88\" y=\"-82.62\" font-family=\"Helvetica,sans-Serif\" font-size=\"20.00\">ArrowStringConversion(FromMapProjectable)</text>\n",
       "</g>\n",
       "<!-- 2655498160723194059&#45;&gt;6054868841914164091 -->\n",
       "<g id=\"edge5\" class=\"edge\">\n",
       "<title>2655498160723194059&#45;&gt;6054868841914164091</title>\n",
       "<path fill=\"none\" stroke=\"black\" d=\"M320.77,-108.48C384.41,-118.61 464.62,-131.37 530.04,-141.78\"/>\n",
       "<polygon fill=\"black\" stroke=\"black\" points=\"529.32,-145.21 539.74,-143.32 530.42,-138.29 529.32,-145.21\"/>\n",
       "</g>\n",
       "<!-- 4375684276265909753 -->\n",
       "<g id=\"node6\" class=\"node\">\n",
       "<title>4375684276265909753</title>\n",
       "<polygon fill=\"none\" stroke=\"black\" points=\"311.88,-36 109.88,-36 109.88,0 311.88,0 311.88,-36\"/>\n",
       "<text text-anchor=\"middle\" x=\"210.88\" y=\"-10.62\" font-family=\"Helvetica,sans-Serif\" font-size=\"20.00\">FromMapProjectable</text>\n",
       "</g>\n",
       "<!-- 4375684276265909753&#45;&gt;2655498160723194059 -->\n",
       "<g id=\"edge7\" class=\"edge\">\n",
       "<title>4375684276265909753&#45;&gt;2655498160723194059</title>\n",
       "<path fill=\"none\" stroke=\"black\" d=\"M210.88,-36.3C210.88,-43.59 210.88,-52.27 210.88,-60.46\"/>\n",
       "<polygon fill=\"black\" stroke=\"black\" points=\"207.38,-60.38 210.88,-70.38 214.38,-60.38 207.38,-60.38\"/>\n",
       "</g>\n",
       "<!-- &#45;4538403960868856754 -->\n",
       "<g id=\"node7\" class=\"node\">\n",
       "<title>&#45;4538403960868856754</title>\n",
       "<polygon fill=\"none\" stroke=\"black\" points=\"861.75,-108 440,-108 440,-72 861.75,-72 861.75,-108\"/>\n",
       "<text text-anchor=\"middle\" x=\"650.88\" y=\"-82.62\" font-family=\"Helvetica,sans-Serif\" font-size=\"20.00\">ArrowStringConversion(FromMapProjectable)</text>\n",
       "</g>\n",
       "<!-- &#45;4538403960868856754&#45;&gt;6054868841914164091 -->\n",
       "<g id=\"edge6\" class=\"edge\">\n",
       "<title>&#45;4538403960868856754&#45;&gt;6054868841914164091</title>\n",
       "<path fill=\"none\" stroke=\"black\" d=\"M650.88,-108.3C650.88,-115.59 650.88,-124.27 650.88,-132.46\"/>\n",
       "<polygon fill=\"black\" stroke=\"black\" points=\"647.38,-132.38 650.88,-142.38 654.38,-132.38 647.38,-132.38\"/>\n",
       "</g>\n",
       "<!-- &#45;187858731540737045 -->\n",
       "<g id=\"node8\" class=\"node\">\n",
       "<title>&#45;187858731540737045</title>\n",
       "<polygon fill=\"none\" stroke=\"black\" points=\"751.88,-36 549.88,-36 549.88,0 751.88,0 751.88,-36\"/>\n",
       "<text text-anchor=\"middle\" x=\"650.88\" y=\"-10.62\" font-family=\"Helvetica,sans-Serif\" font-size=\"20.00\">FromMapProjectable</text>\n",
       "</g>\n",
       "<!-- &#45;187858731540737045&#45;&gt;&#45;4538403960868856754 -->\n",
       "<g id=\"edge8\" class=\"edge\">\n",
       "<title>&#45;187858731540737045&#45;&gt;&#45;4538403960868856754</title>\n",
       "<path fill=\"none\" stroke=\"black\" d=\"M650.88,-36.3C650.88,-43.59 650.88,-52.27 650.88,-60.46\"/>\n",
       "<polygon fill=\"black\" stroke=\"black\" points=\"647.38,-60.38 650.88,-70.38 654.38,-60.38 647.38,-60.38\"/>\n",
       "</g>\n",
       "<!-- &#45;5295946078150051326 -->\n",
       "<g id=\"node9\" class=\"node\">\n",
       "<title>&#45;5295946078150051326</title>\n",
       "<polygon fill=\"none\" stroke=\"black\" points=\"1301.75,-108 880,-108 880,-72 1301.75,-72 1301.75,-108\"/>\n",
       "<text text-anchor=\"middle\" x=\"1090.88\" y=\"-82.62\" font-family=\"Helvetica,sans-Serif\" font-size=\"20.00\">ArrowStringConversion(FromMapProjectable)</text>\n",
       "</g>\n",
       "<!-- &#45;5295946078150051326&#45;&gt;6054868841914164091 -->\n",
       "<g id=\"edge4\" class=\"edge\">\n",
       "<title>&#45;5295946078150051326&#45;&gt;6054868841914164091</title>\n",
       "<path fill=\"none\" stroke=\"black\" d=\"M980.98,-108.48C917.34,-118.61 837.13,-131.37 771.71,-141.78\"/>\n",
       "<polygon fill=\"black\" stroke=\"black\" points=\"771.33,-138.29 762.01,-143.32 772.43,-145.21 771.33,-138.29\"/>\n",
       "</g>\n",
       "<!-- &#45;6498182688942817229 -->\n",
       "<g id=\"node10\" class=\"node\">\n",
       "<title>&#45;6498182688942817229</title>\n",
       "<polygon fill=\"none\" stroke=\"black\" points=\"1191.88,-36 989.88,-36 989.88,0 1191.88,0 1191.88,-36\"/>\n",
       "<text text-anchor=\"middle\" x=\"1090.88\" y=\"-10.62\" font-family=\"Helvetica,sans-Serif\" font-size=\"20.00\">FromMapProjectable</text>\n",
       "</g>\n",
       "<!-- &#45;6498182688942817229&#45;&gt;&#45;5295946078150051326 -->\n",
       "<g id=\"edge9\" class=\"edge\">\n",
       "<title>&#45;6498182688942817229&#45;&gt;&#45;5295946078150051326</title>\n",
       "<path fill=\"none\" stroke=\"black\" d=\"M1090.88,-36.3C1090.88,-43.59 1090.88,-52.27 1090.88,-60.46\"/>\n",
       "<polygon fill=\"black\" stroke=\"black\" points=\"1087.38,-60.38 1090.88,-70.38 1094.38,-60.38 1087.38,-60.38\"/>\n",
       "</g>\n",
       "</g>\n",
       "</svg>\n"
      ],
      "text/plain": [
       "<graphviz.graphs.Digraph at 0x21c90bc9810>"
      ]
     },
     "execution_count": 17,
     "metadata": {},
     "output_type": "execute_result"
    }
   ],
   "source": [
    "df_final['passenger_count'].value_counts().visualize()"
   ]
  },
  {
   "cell_type": "code",
   "execution_count": 18,
   "id": "10395189",
   "metadata": {},
   "outputs": [
    {
     "data": {
      "text/plain": [
       "passenger_count\n",
       "8.0          68\n",
       "0.0        1649\n",
       "3.0     1383805\n",
       "4.0      658123\n",
       "9.0          57\n",
       "2.0     4904836\n",
       "6.0     1153190\n",
       "1.0    24544044\n",
       "7.0          72\n",
       "5.0     1854015\n",
       "Name: count, dtype: int64"
      ]
     },
     "execution_count": 18,
     "metadata": {},
     "output_type": "execute_result"
    }
   ],
   "source": [
    "# passenger count\n",
    "\n",
    "passenger_count = df_final['passenger_count'].value_counts().compute()\n",
    "passenger_count"
   ]
  },
  {
   "cell_type": "code",
   "execution_count": 18,
   "id": "2561e30e",
   "metadata": {},
   "outputs": [
    {
     "data": {
      "image/png": "[encoded data removed]",
      "text/plain": [
       "<Figure size 640x480 with 1 Axes>"
      ]
     },
     "metadata": {},
     "output_type": "display_data"
    }
   ],
   "source": [
    "passenger_count.sort_index().plot(kind = 'bar')\n",
    "plt.show()"
   ]
  },
  {
   "cell_type": "markdown",
   "id": "e3f5983f",
   "metadata": {},
   "source": [
    "Passenger count value outside the range of 1 to 5 passengers are erroneous and not allowed by the taxi commission in NYC"
   ]
  },
  {
   "cell_type": "markdown",
   "id": "5532688e",
   "metadata": {},
   "source": [
    "# Trip Distance"
   ]
  },
  {
   "cell_type": "code",
   "execution_count": 19,
   "id": "ad93841e",
   "metadata": {},
   "outputs": [
    {
     "data": {
      "image/svg+xml": [
       "<?xml version=\"1.0\" encoding=\"UTF-8\" standalone=\"no\"?>\n",
       "<!DOCTYPE svg PUBLIC \"-//W3C//DTD SVG 1.1//EN\"\n",
       " \"http://www.w3.org/Graphics/SVG/1.1/DTD/svg11.dtd\">\n",
       "<!-- Generated by graphviz version 12.2.1 (20241206.2353)\n",
       " -->\n",
       "<!-- Pages: 1 -->\n",
       "<svg width=\"1310pt\" height=\"332pt\"\n",
       " viewBox=\"0.00 0.00 1309.75 332.00\" xmlns=\"http://www.w3.org/2000/svg\" xmlns:xlink=\"http://www.w3.org/1999/xlink\">\n",
       "<g id=\"graph0\" class=\"graph\" transform=\"scale(1 1) rotate(0) translate(4 328)\">\n",
       "<polygon fill=\"white\" stroke=\"none\" points=\"-4,4 -4,-328 1305.75,-328 1305.75,4 -4,4\"/>\n",
       "<!-- 4977297886156287657 -->\n",
       "<g id=\"node1\" class=\"node\">\n",
       "<title>4977297886156287657</title>\n",
       "<polygon fill=\"none\" stroke=\"black\" points=\"793.88,-324 507.88,-324 507.88,-288 793.88,-288 793.88,-324\"/>\n",
       "<text text-anchor=\"middle\" x=\"650.88\" y=\"-298.62\" font-family=\"Helvetica,sans-Serif\" font-size=\"20.00\">Projection(Drop, trip_distance)</text>\n",
       "</g>\n",
       "<!-- 5928975956988526121 -->\n",
       "<g id=\"node2\" class=\"node\">\n",
       "<title>5928975956988526121</title>\n",
       "<polygon fill=\"none\" stroke=\"black\" points=\"718.88,-252 582.88,-252 582.88,-216 718.88,-216 718.88,-252\"/>\n",
       "<text text-anchor=\"middle\" x=\"650.88\" y=\"-226.62\" font-family=\"Helvetica,sans-Serif\" font-size=\"20.00\">Drop(Concat)</text>\n",
       "</g>\n",
       "<!-- 5928975956988526121&#45;&gt;4977297886156287657 -->\n",
       "<g id=\"edge1\" class=\"edge\">\n",
       "<title>5928975956988526121&#45;&gt;4977297886156287657</title>\n",
       "<path fill=\"none\" stroke=\"black\" d=\"M650.88,-252.3C650.88,-259.59 650.88,-268.27 650.88,-276.46\"/>\n",
       "<polygon fill=\"black\" stroke=\"black\" points=\"647.38,-276.38 650.88,-286.38 654.38,-276.38 647.38,-276.38\"/>\n",
       "</g>\n",
       "<!-- &#45;6097550876761534056 -->\n",
       "<g id=\"node3\" class=\"node\">\n",
       "<title>&#45;6097550876761534056</title>\n",
       "<polygon fill=\"none\" stroke=\"black\" points=\"1016.25,-180 285.5,-180 285.5,-144 1016.25,-144 1016.25,-180\"/>\n",
       "<text text-anchor=\"middle\" x=\"650.88\" y=\"-154.62\" font-family=\"Helvetica,sans-Serif\" font-size=\"20.00\">Concat(ArrowStringConversion, ArrowStringConversion, ArrowStringConversion)</text>\n",
       "</g>\n",
       "<!-- &#45;6097550876761534056&#45;&gt;5928975956988526121 -->\n",
       "<g id=\"edge2\" class=\"edge\">\n",
       "<title>&#45;6097550876761534056&#45;&gt;5928975956988526121</title>\n",
       "<path fill=\"none\" stroke=\"black\" d=\"M650.88,-180.3C650.88,-187.59 650.88,-196.27 650.88,-204.46\"/>\n",
       "<polygon fill=\"black\" stroke=\"black\" points=\"647.38,-204.38 650.88,-214.38 654.38,-204.38 647.38,-204.38\"/>\n",
       "</g>\n",
       "<!-- &#45;8066751588075685057 -->\n",
       "<g id=\"node4\" class=\"node\">\n",
       "<title>&#45;8066751588075685057</title>\n",
       "<polygon fill=\"none\" stroke=\"black\" points=\"421.75,-108 0,-108 0,-72 421.75,-72 421.75,-108\"/>\n",
       "<text text-anchor=\"middle\" x=\"210.88\" y=\"-82.62\" font-family=\"Helvetica,sans-Serif\" font-size=\"20.00\">ArrowStringConversion(FromMapProjectable)</text>\n",
       "</g>\n",
       "<!-- &#45;8066751588075685057&#45;&gt;&#45;6097550876761534056 -->\n",
       "<g id=\"edge5\" class=\"edge\">\n",
       "<title>&#45;8066751588075685057&#45;&gt;&#45;6097550876761534056</title>\n",
       "<path fill=\"none\" stroke=\"black\" d=\"M320.77,-108.48C384.41,-118.61 464.62,-131.37 530.04,-141.78\"/>\n",
       "<polygon fill=\"black\" stroke=\"black\" points=\"529.32,-145.21 539.74,-143.32 530.42,-138.29 529.32,-145.21\"/>\n",
       "</g>\n",
       "<!-- &#45;2921352843400926903 -->\n",
       "<g id=\"node5\" class=\"node\">\n",
       "<title>&#45;2921352843400926903</title>\n",
       "<polygon fill=\"none\" stroke=\"black\" points=\"311.88,-36 109.88,-36 109.88,0 311.88,0 311.88,-36\"/>\n",
       "<text text-anchor=\"middle\" x=\"210.88\" y=\"-10.62\" font-family=\"Helvetica,sans-Serif\" font-size=\"20.00\">FromMapProjectable</text>\n",
       "</g>\n",
       "<!-- &#45;2921352843400926903&#45;&gt;&#45;8066751588075685057 -->\n",
       "<g id=\"edge6\" class=\"edge\">\n",
       "<title>&#45;2921352843400926903&#45;&gt;&#45;8066751588075685057</title>\n",
       "<path fill=\"none\" stroke=\"black\" d=\"M210.88,-36.3C210.88,-43.59 210.88,-52.27 210.88,-60.46\"/>\n",
       "<polygon fill=\"black\" stroke=\"black\" points=\"207.38,-60.38 210.88,-70.38 214.38,-60.38 207.38,-60.38\"/>\n",
       "</g>\n",
       "<!-- 8103707237572272717 -->\n",
       "<g id=\"node6\" class=\"node\">\n",
       "<title>8103707237572272717</title>\n",
       "<polygon fill=\"none\" stroke=\"black\" points=\"861.75,-108 440,-108 440,-72 861.75,-72 861.75,-108\"/>\n",
       "<text text-anchor=\"middle\" x=\"650.88\" y=\"-82.62\" font-family=\"Helvetica,sans-Serif\" font-size=\"20.00\">ArrowStringConversion(FromMapProjectable)</text>\n",
       "</g>\n",
       "<!-- 8103707237572272717&#45;&gt;&#45;6097550876761534056 -->\n",
       "<g id=\"edge3\" class=\"edge\">\n",
       "<title>8103707237572272717&#45;&gt;&#45;6097550876761534056</title>\n",
       "<path fill=\"none\" stroke=\"black\" d=\"M650.88,-108.3C650.88,-115.59 650.88,-124.27 650.88,-132.46\"/>\n",
       "<polygon fill=\"black\" stroke=\"black\" points=\"647.38,-132.38 650.88,-142.38 654.38,-132.38 647.38,-132.38\"/>\n",
       "</g>\n",
       "<!-- &#45;3002171904175710143 -->\n",
       "<g id=\"node7\" class=\"node\">\n",
       "<title>&#45;3002171904175710143</title>\n",
       "<polygon fill=\"none\" stroke=\"black\" points=\"751.88,-36 549.88,-36 549.88,0 751.88,0 751.88,-36\"/>\n",
       "<text text-anchor=\"middle\" x=\"650.88\" y=\"-10.62\" font-family=\"Helvetica,sans-Serif\" font-size=\"20.00\">FromMapProjectable</text>\n",
       "</g>\n",
       "<!-- &#45;3002171904175710143&#45;&gt;8103707237572272717 -->\n",
       "<g id=\"edge7\" class=\"edge\">\n",
       "<title>&#45;3002171904175710143&#45;&gt;8103707237572272717</title>\n",
       "<path fill=\"none\" stroke=\"black\" d=\"M650.88,-36.3C650.88,-43.59 650.88,-52.27 650.88,-60.46\"/>\n",
       "<polygon fill=\"black\" stroke=\"black\" points=\"647.38,-60.38 650.88,-70.38 654.38,-60.38 647.38,-60.38\"/>\n",
       "</g>\n",
       "<!-- &#45;5958948568223814210 -->\n",
       "<g id=\"node8\" class=\"node\">\n",
       "<title>&#45;5958948568223814210</title>\n",
       "<polygon fill=\"none\" stroke=\"black\" points=\"1301.75,-108 880,-108 880,-72 1301.75,-72 1301.75,-108\"/>\n",
       "<text text-anchor=\"middle\" x=\"1090.88\" y=\"-82.62\" font-family=\"Helvetica,sans-Serif\" font-size=\"20.00\">ArrowStringConversion(FromMapProjectable)</text>\n",
       "</g>\n",
       "<!-- &#45;5958948568223814210&#45;&gt;&#45;6097550876761534056 -->\n",
       "<g id=\"edge4\" class=\"edge\">\n",
       "<title>&#45;5958948568223814210&#45;&gt;&#45;6097550876761534056</title>\n",
       "<path fill=\"none\" stroke=\"black\" d=\"M980.98,-108.48C917.34,-118.61 837.13,-131.37 771.71,-141.78\"/>\n",
       "<polygon fill=\"black\" stroke=\"black\" points=\"771.33,-138.29 762.01,-143.32 772.43,-145.21 771.33,-138.29\"/>\n",
       "</g>\n",
       "<!-- &#45;2436610935868394941 -->\n",
       "<g id=\"node9\" class=\"node\">\n",
       "<title>&#45;2436610935868394941</title>\n",
       "<polygon fill=\"none\" stroke=\"black\" points=\"1191.88,-36 989.88,-36 989.88,0 1191.88,0 1191.88,-36\"/>\n",
       "<text text-anchor=\"middle\" x=\"1090.88\" y=\"-10.62\" font-family=\"Helvetica,sans-Serif\" font-size=\"20.00\">FromMapProjectable</text>\n",
       "</g>\n",
       "<!-- &#45;2436610935868394941&#45;&gt;&#45;5958948568223814210 -->\n",
       "<g id=\"edge8\" class=\"edge\">\n",
       "<title>&#45;2436610935868394941&#45;&gt;&#45;5958948568223814210</title>\n",
       "<path fill=\"none\" stroke=\"black\" d=\"M1090.88,-36.3C1090.88,-43.59 1090.88,-52.27 1090.88,-60.46\"/>\n",
       "<polygon fill=\"black\" stroke=\"black\" points=\"1087.38,-60.38 1090.88,-70.38 1094.38,-60.38 1087.38,-60.38\"/>\n",
       "</g>\n",
       "</g>\n",
       "</svg>\n"
      ],
      "text/plain": [
       "<graphviz.graphs.Digraph at 0x27afce4d090>"
      ]
     },
     "execution_count": 19,
     "metadata": {},
     "output_type": "execute_result"
    }
   ],
   "source": [
    "df_final.loc[:,\"trip_distance\"].visualize()"
   ]
  },
  {
   "cell_type": "code",
   "execution_count": 20,
   "id": "686b195b",
   "metadata": {},
   "outputs": [
    {
     "data": {
      "text/plain": [
       "<Axes: ylabel='trip_distance'>"
      ]
     },
     "execution_count": 20,
     "metadata": {},
     "output_type": "execute_result"
    },
    {
     "data": {
      "image/png": "[encoded data removed]",
      "text/plain": [
       "<Figure size 640x480 with 1 Axes>"
      ]
     },
     "metadata": {},
     "output_type": "display_data"
    }
   ],
   "source": [
    "# box plot for trip distance\n",
    "\n",
    "sns.boxplot(df_final.loc[:,\"trip_distance\"].compute())"
   ]
  },
  {
   "cell_type": "code",
   "execution_count": 21,
   "id": "2bae4319",
   "metadata": {},
   "outputs": [
    {
     "data": {
      "text/plain": [
       "array([0.1, 0.2, 0.3, 0.4, 0.5, 0.6, 0.7, 0.8, 0.9])"
      ]
     },
     "execution_count": 21,
     "metadata": {},
     "output_type": "execute_result"
    }
   ],
   "source": [
    "percentile_values = np.arange(0.1,1.0,0.1)\n",
    "percentile_values"
   ]
  },
  {
   "cell_type": "code",
   "execution_count": null,
   "id": "155b5fee",
   "metadata": {},
   "outputs": [
    {
     "name": "stdout",
     "output_type": "stream",
     "text": [
      "The trip distance value for 10th percentile is 0.7\n"
     ]
    }
   ],
   "source": [
    "# percentile values for trip distance\n",
    "\n",
    "percentile_values = np.arange(0.1,1.0,0.1)\n",
    "percentile_values\n",
    "\n",
    "for percentile in percentile_values:\n",
    "    print(f\"The trip distance value for {int(percentile * 100)}th percentile is {df_final['trip_distance'].quantile(q=percentile).compute()}\")"
   ]
  },
  {
   "cell_type": "code",
   "execution_count": 23,
   "id": "12dd72f2",
   "metadata": {},
   "outputs": [
    {
     "data": {
      "text/plain": [
       "array([0.9 , 0.91, 0.92, 0.93, 0.94, 0.95, 0.96, 0.97, 0.98, 0.99, 1.  ])"
      ]
     },
     "execution_count": 23,
     "metadata": {},
     "output_type": "execute_result"
    }
   ],
   "source": [
    "percentile_values = np.arange(0.90,1.01,0.01)\n",
    "percentile_values"
   ]
  },
  {
   "cell_type": "code",
   "execution_count": 25,
   "id": "7aefec85",
   "metadata": {},
   "outputs": [
    {
     "name": "stdout",
     "output_type": "stream",
     "text": [
      "The trip distance value for 90th percentile is 8.3\n",
      "The trip distance value for 91th percentile is 8.91\n",
      "The trip distance value for 92th percentile is 9.53\n",
      "The trip distance value for 93th percentile is 10.2\n",
      "The trip distance value for 94th percentile is 10.95\n",
      "The trip distance value for 95th percentile is 12.1\n",
      "The trip distance value for 96th percentile is 14.680000000000582\n",
      "The trip distance value for 97th percentile is 16.91\n",
      "The trip distance value for 98th percentile is 17.95\n",
      "The trip distance value for 99th percentile is 19.375500000000464\n",
      "The trip distance value for 100th percentile is 19072628.8\n"
     ]
    }
   ],
   "source": [
    "for percentile in percentile_values:\n",
    "    print(f\"The trip distance value for {int(percentile * 100)}th percentile is {df_final['trip_distance'].quantile(q=percentile).compute()}\")"
   ]
  },
  {
   "cell_type": "markdown",
   "id": "42ccca96",
   "metadata": {},
   "source": [
    "# Fare Amount"
   ]
  },
  {
   "cell_type": "code",
   "execution_count": 27,
   "id": "5d0a02ef",
   "metadata": {},
   "outputs": [
    {
     "data": {
      "text/plain": [
       "<Axes: ylabel='fare_amount'>"
      ]
     },
     "execution_count": 27,
     "metadata": {},
     "output_type": "execute_result"
    },
    {
     "data": {
      "image/png": "[encoded data removed]",
      "text/plain": [
       "<Figure size 640x480 with 1 Axes>"
      ]
     },
     "metadata": {},
     "output_type": "display_data"
    }
   ],
   "source": [
    "sns.boxplot(df_final.loc[:,\"fare_amount\"].compute())"
   ]
  },
  {
   "cell_type": "code",
   "execution_count": 29,
   "id": "3e8c5231",
   "metadata": {},
   "outputs": [
    {
     "name": "stdout",
     "output_type": "stream",
     "text": [
      "The trip distance value for 10th percentile is 5.0\n",
      "The trip distance value for 20th percentile is 6.0\n",
      "The trip distance value for 30th percentile is 7.5\n",
      "The trip distance value for 40th percentile is 8.5\n",
      "The trip distance value for 50th percentile is 10.0\n",
      "The trip distance value for 60th percentile is 11.5\n",
      "The trip distance value for 70th percentile is 14.0\n",
      "The trip distance value for 80th percentile is 18.0\n",
      "The trip distance value for 90th percentile is 27.0\n"
     ]
    }
   ],
   "source": [
    "# percentile values for fare amount\n",
    "\n",
    "percentile_values = np.arange(0.1,1.0,0.1)\n",
    "percentile_values\n",
    "\n",
    "for percentile in percentile_values:\n",
    "    print(f\"The trip distance value for {int(percentile * 100)}th percentile is {df_final['fare_amount'].quantile(q=percentile).compute()}\")"
   ]
  },
  {
   "cell_type": "code",
   "execution_count": 9,
   "id": "106891b3",
   "metadata": {},
   "outputs": [
    {
     "data": {
      "text/plain": [
       "array([0.9 , 0.91, 0.92, 0.93, 0.94, 0.95, 0.96, 0.97, 0.98, 0.99, 1.  ])"
      ]
     },
     "execution_count": 9,
     "metadata": {},
     "output_type": "execute_result"
    }
   ],
   "source": [
    "percentile_values = np.arange(0.90,1.01,0.01)\n",
    "percentile_values"
   ]
  },
  {
   "cell_type": "code",
   "execution_count": 10,
   "id": "4c8cb77d",
   "metadata": {},
   "outputs": [
    {
     "name": "stdout",
     "output_type": "stream",
     "text": [
      "The trip distance value for 90th percentile is 27.0\n",
      "The trip distance value for 91th percentile is 29.0\n",
      "The trip distance value for 92th percentile is 30.5\n",
      "The trip distance value for 93th percentile is 33.0\n",
      "The trip distance value for 94th percentile is 35.5\n",
      "The trip distance value for 95th percentile is 40.0\n",
      "The trip distance value for 96th percentile is 49.5\n",
      "The trip distance value for 97th percentile is 52.0\n",
      "The trip distance value for 98th percentile is 52.0\n",
      "The trip distance value for 99th percentile is 52.0\n",
      "The trip distance value for 100th percentile is 429496.72\n"
     ]
    }
   ],
   "source": [
    "for percentile in percentile_values:\n",
    "    print(f\"The trip distance value for {int(percentile * 100)}th percentile is {df_final['fare_amount'].quantile(q=percentile).compute()}\")"
   ]
  },
  {
   "cell_type": "markdown",
   "id": "eab75d3d",
   "metadata": {},
   "source": [
    "# RateCode ID"
   ]
  },
  {
   "cell_type": "code",
   "execution_count": 11,
   "id": "8e2d7d57",
   "metadata": {},
   "outputs": [],
   "source": [
    "rate_code_ids = df_final.loc[:,\"RatecodeID\"].value_counts().compute()"
   ]
  },
  {
   "cell_type": "code",
   "execution_count": 12,
   "id": "c6670c79",
   "metadata": {},
   "outputs": [
    {
     "data": {
      "text/plain": [
       "RatecodeID\n",
       "1.0     33627000\n",
       "2.0       697595\n",
       "3.0        56169\n",
       "4.0        14459\n",
       "5.0       103481\n",
       "6.0          320\n",
       "99.0         835\n",
       "Name: count, dtype: int64"
      ]
     },
     "execution_count": 12,
     "metadata": {},
     "output_type": "execute_result"
    }
   ],
   "source": [
    "rate_code_ids.sort_index()"
   ]
  },
  {
   "cell_type": "code",
   "execution_count": 13,
   "id": "e3277a98",
   "metadata": {},
   "outputs": [
    {
     "data": {
      "text/plain": [
       "<Axes: xlabel='RatecodeID'>"
      ]
     },
     "execution_count": 13,
     "metadata": {},
     "output_type": "execute_result"
    },
    {
     "data": {
      "image/png": "[encoded data removed]",
      "text/plain": [
       "<Figure size 640x480 with 1 Axes>"
      ]
     },
     "metadata": {},
     "output_type": "display_data"
    }
   ],
   "source": [
    "rate_code_ids.sort_index().plot(kind='bar')"
   ]
  },
  {
   "cell_type": "markdown",
   "id": "83b2bf38",
   "metadata": {},
   "source": [
    "Missing values is replaced by 99"
   ]
  },
  {
   "cell_type": "markdown",
   "id": "b7f523d1",
   "metadata": {},
   "source": [
    "# Location based columns"
   ]
  },
  {
   "cell_type": "code",
   "execution_count": 14,
   "id": "8ab14fc4",
   "metadata": {},
   "outputs": [
    {
     "data": {
      "text/html": [
       "<div><strong>Dask DataFrame Structure:</strong></div>\n",
       "<table border=\"1\" class=\"dataframe\">\n",
       "  <thead>\n",
       "    <tr style=\"text-align: right;\">\n",
       "      <th></th>\n",
       "      <th>pickup_longitude</th>\n",
       "      <th>pickup_latitude</th>\n",
       "      <th>dropoff_longitude</th>\n",
       "      <th>dropoff_latitude</th>\n",
       "    </tr>\n",
       "    <tr>\n",
       "      <th>npartitions=82</th>\n",
       "      <th></th>\n",
       "      <th></th>\n",
       "      <th></th>\n",
       "      <th></th>\n",
       "    </tr>\n",
       "  </thead>\n",
       "  <tbody>\n",
       "    <tr>\n",
       "      <th></th>\n",
       "      <td>float64</td>\n",
       "      <td>float64</td>\n",
       "      <td>float64</td>\n",
       "      <td>float64</td>\n",
       "    </tr>\n",
       "    <tr>\n",
       "      <th></th>\n",
       "      <td>...</td>\n",
       "      <td>...</td>\n",
       "      <td>...</td>\n",
       "      <td>...</td>\n",
       "    </tr>\n",
       "    <tr>\n",
       "      <th>...</th>\n",
       "      <td>...</td>\n",
       "      <td>...</td>\n",
       "      <td>...</td>\n",
       "      <td>...</td>\n",
       "    </tr>\n",
       "    <tr>\n",
       "      <th></th>\n",
       "      <td>...</td>\n",
       "      <td>...</td>\n",
       "      <td>...</td>\n",
       "      <td>...</td>\n",
       "    </tr>\n",
       "    <tr>\n",
       "      <th></th>\n",
       "      <td>...</td>\n",
       "      <td>...</td>\n",
       "      <td>...</td>\n",
       "      <td>...</td>\n",
       "    </tr>\n",
       "  </tbody>\n",
       "</table>\n",
       "<div>Dask Name: getitem, 9 expressions</div>"
      ],
      "text/plain": [
       "Dask DataFrame Structure:\n",
       "               pickup_longitude pickup_latitude dropoff_longitude dropoff_latitude\n",
       "npartitions=82                                                                    \n",
       "                        float64         float64           float64          float64\n",
       "                            ...             ...               ...              ...\n",
       "...                         ...             ...               ...              ...\n",
       "                            ...             ...               ...              ...\n",
       "                            ...             ...               ...              ...\n",
       "Dask Name: getitem, 9 expressions\n",
       "Expr=(Drop(frame=Concat(frames=[ArrowStringConversion(frame=FromMapProjectable(4dedbbb)), ArrowStringConversion(frame=FromMapProjectable(a6ac6c6)), ArrowStringConversion(frame=FromMapProjectable(2bb129d))], ), columns=['extra', 'mta_tax', 'tip_amount', 'tolls_amount', 'improvement_surcharge', 'total_amount', 'payment_type']))[['pickup_longitude', 'pickup_latitude', 'dropoff_longitude', 'dropoff_latitude']]"
      ]
     },
     "execution_count": 14,
     "metadata": {},
     "output_type": "execute_result"
    }
   ],
   "source": [
    "location_subset = df_final[['pickup_longitude', 'pickup_latitude', 'dropoff_longitude', 'dropoff_latitude']]\n",
    "location_subset"
   ]
  },
  {
   "cell_type": "code",
   "execution_count": 15,
   "id": "0d2c1a93",
   "metadata": {},
   "outputs": [
    {
     "data": {
      "image/png": "[encoded data removed]",
      "text/plain": [
       "<Figure size 1200x500 with 4 Axes>"
      ]
     },
     "metadata": {},
     "output_type": "display_data"
    }
   ],
   "source": [
    "# boxplots for location based columns\n",
    "\n",
    "fig, (ax1, ax2) = plt.subplots(nrows=2, ncols=2, figsize=(12,5))\n",
    "for i in range(4):\n",
    "    if i <= 1:\n",
    "        # plot the boxplot\n",
    "        sns.boxplot(y=location_subset.iloc[:,i].compute(),ax=ax1[i])\n",
    "    else:\n",
    "        # plot the boxplot\n",
    "        sns.boxplot(y=location_subset.iloc[:,i].compute(),ax=ax2[i - 2])"
   ]
  },
  {
   "cell_type": "markdown",
   "id": "cfa19cd1",
   "metadata": {},
   "source": [
    "# Store and Fwd Flag"
   ]
  },
  {
   "cell_type": "code",
   "execution_count": 17,
   "id": "9a328bdc",
   "metadata": {},
   "outputs": [
    {
     "data": {
      "text/plain": [
       "<Axes: xlabel='count', ylabel='store_and_fwd_flag'>"
      ]
     },
     "execution_count": 17,
     "metadata": {},
     "output_type": "execute_result"
    },
    {
     "data": {
      "image/png": "[encoded data removed]",
      "text/plain": [
       "<Figure size 640x480 with 1 Axes>"
      ]
     },
     "metadata": {},
     "output_type": "display_data"
    }
   ],
   "source": [
    "# count plot\n",
    "\n",
    "sns.countplot(df_final[\"store_and_fwd_flag\"].compute())"
   ]
  },
  {
   "cell_type": "markdown",
   "id": "aea756c6",
   "metadata": {},
   "source": [
    "# Datetime Columns"
   ]
  },
  {
   "cell_type": "code",
   "execution_count": 18,
   "id": "73824f35",
   "metadata": {},
   "outputs": [
    {
     "data": {
      "text/plain": [
       "Index(['VendorID', 'tpep_pickup_datetime', 'tpep_dropoff_datetime',\n",
       "       'passenger_count', 'trip_distance', 'pickup_longitude',\n",
       "       'pickup_latitude', 'RatecodeID', 'store_and_fwd_flag',\n",
       "       'dropoff_longitude', 'dropoff_latitude', 'fare_amount'],\n",
       "      dtype='object')"
      ]
     },
     "execution_count": 18,
     "metadata": {},
     "output_type": "execute_result"
    }
   ],
   "source": [
    "df_final.columns"
   ]
  },
  {
   "cell_type": "code",
   "execution_count": 19,
   "id": "b49136d0",
   "metadata": {},
   "outputs": [],
   "source": [
    "# convert the columns to datetime\n",
    "\n",
    "df_final[\"tpep_pickup_datetime\"] = dd.to_datetime(df_final[\"tpep_pickup_datetime\"], yearfirst=True, format=\"mixed\")\n",
    "df_final[\"tpep_dropoff_datetime\"] = dd.to_datetime(df_final[\"tpep_dropoff_datetime\"], yearfirst=True, format=\"mixed\")"
   ]
  },
  {
   "cell_type": "code",
   "execution_count": 20,
   "id": "e71fdd53",
   "metadata": {},
   "outputs": [],
   "source": [
    "# create new columns\n",
    "\n",
    "df_final[\"pickup_months\"] = df_final[\"tpep_pickup_datetime\"].dt.month\n",
    "df_final[\"pickup_day_of_week\"] = df_final[\"tpep_pickup_datetime\"].dt.dayofweek\n",
    "df_final[\"pickup_hour\"] = df_final[\"tpep_pickup_datetime\"].dt.hour"
   ]
  },
  {
   "cell_type": "code",
   "execution_count": 21,
   "id": "33812ea0",
   "metadata": {},
   "outputs": [
    {
     "data": {
      "text/plain": [
       "Index(['VendorID', 'tpep_pickup_datetime', 'tpep_dropoff_datetime',\n",
       "       'passenger_count', 'trip_distance', 'pickup_longitude',\n",
       "       'pickup_latitude', 'RatecodeID', 'store_and_fwd_flag',\n",
       "       'dropoff_longitude', 'dropoff_latitude', 'fare_amount', 'pickup_months',\n",
       "       'pickup_day_of_week', 'pickup_hour'],\n",
       "      dtype='object')"
      ]
     },
     "execution_count": 21,
     "metadata": {},
     "output_type": "execute_result"
    }
   ],
   "source": [
    "df_final.columns"
   ]
  },
  {
   "cell_type": "code",
   "execution_count": 22,
   "id": "ce2a768e",
   "metadata": {},
   "outputs": [
    {
     "data": {
      "image/svg+xml": [
       "<?xml version=\"1.0\" encoding=\"UTF-8\" standalone=\"no\"?>\n",
       "<!DOCTYPE svg PUBLIC \"-//W3C//DTD SVG 1.1//EN\"\n",
       " \"http://www.w3.org/Graphics/SVG/1.1/DTD/svg11.dtd\">\n",
       "<!-- Generated by graphviz version 12.2.1 (20241206.2353)\n",
       " -->\n",
       "<!-- Pages: 1 -->\n",
       "<svg width=\"1310pt\" height=\"1340pt\"\n",
       " viewBox=\"0.00 0.00 1309.75 1340.00\" xmlns=\"http://www.w3.org/2000/svg\" xmlns:xlink=\"http://www.w3.org/1999/xlink\">\n",
       "<g id=\"graph0\" class=\"graph\" transform=\"scale(1 1) rotate(0) translate(4 1336)\">\n",
       "<polygon fill=\"white\" stroke=\"none\" points=\"-4,4 -4,-1336 1305.75,-1336 1305.75,4 -4,4\"/>\n",
       "<!-- &#45;2250589350078096882 -->\n",
       "<g id=\"node1\" class=\"node\">\n",
       "<title>&#45;2250589350078096882</title>\n",
       "<polygon fill=\"none\" stroke=\"black\" points=\"654.5,-1332 261.25,-1332 261.25,-1296 654.5,-1296 654.5,-1332\"/>\n",
       "<text text-anchor=\"middle\" x=\"457.88\" y=\"-1306.62\" font-family=\"Helvetica,sans-Serif\" font-size=\"20.00\">Assign(Assign, pickup_hour, PropertyMap)</text>\n",
       "</g>\n",
       "<!-- &#45;4161095707130972106 -->\n",
       "<g id=\"node2\" class=\"node\">\n",
       "<title>&#45;4161095707130972106</title>\n",
       "<polygon fill=\"none\" stroke=\"black\" points=\"685.62,-1260 452.12,-1260 452.12,-1224 685.62,-1224 685.62,-1260\"/>\n",
       "<text text-anchor=\"middle\" x=\"568.88\" y=\"-1234.62\" font-family=\"Helvetica,sans-Serif\" font-size=\"20.00\">PropertyMap(Projection)</text>\n",
       "</g>\n",
       "<!-- &#45;4161095707130972106&#45;&gt;&#45;2250589350078096882 -->\n",
       "<g id=\"edge2\" class=\"edge\">\n",
       "<title>&#45;4161095707130972106&#45;&gt;&#45;2250589350078096882</title>\n",
       "<path fill=\"none\" stroke=\"black\" d=\"M541.15,-1260.48C527.14,-1269.32 509.95,-1280.16 494.83,-1289.7\"/>\n",
       "<polygon fill=\"black\" stroke=\"black\" points=\"493.12,-1286.64 486.53,-1294.93 496.85,-1292.56 493.12,-1286.64\"/>\n",
       "</g>\n",
       "<!-- &#45;6966549882828676166 -->\n",
       "<g id=\"node3\" class=\"node\">\n",
       "<title>&#45;6966549882828676166</title>\n",
       "<polygon fill=\"none\" stroke=\"black\" points=\"799.38,-1188 414.38,-1188 414.38,-1152 799.38,-1152 799.38,-1188\"/>\n",
       "<text text-anchor=\"middle\" x=\"606.88\" y=\"-1162.62\" font-family=\"Helvetica,sans-Serif\" font-size=\"20.00\">Projection(Assign, tpep_pickup_datetime)</text>\n",
       "</g>\n",
       "<!-- &#45;6966549882828676166&#45;&gt;&#45;4161095707130972106 -->\n",
       "<g id=\"edge3\" class=\"edge\">\n",
       "<title>&#45;6966549882828676166&#45;&gt;&#45;4161095707130972106</title>\n",
       "<path fill=\"none\" stroke=\"black\" d=\"M597.48,-1188.3C593.29,-1196.02 588.26,-1205.29 583.59,-1213.89\"/>\n",
       "<polygon fill=\"black\" stroke=\"black\" points=\"580.58,-1212.11 578.88,-1222.57 586.73,-1215.45 580.58,-1212.11\"/>\n",
       "</g>\n",
       "<!-- &#45;1948457253464927779 -->\n",
       "<g id=\"node4\" class=\"node\">\n",
       "<title>&#45;1948457253464927779</title>\n",
       "<polygon fill=\"none\" stroke=\"black\" points=\"731.88,-1116 259.88,-1116 259.88,-1080 731.88,-1080 731.88,-1116\"/>\n",
       "<text text-anchor=\"middle\" x=\"495.88\" y=\"-1090.62\" font-family=\"Helvetica,sans-Serif\" font-size=\"20.00\">Assign(Assign, pickup_day_of_week, PropertyMap)</text>\n",
       "</g>\n",
       "<!-- &#45;1948457253464927779&#45;&gt;&#45;2250589350078096882 -->\n",
       "<g id=\"edge1\" class=\"edge\">\n",
       "<title>&#45;1948457253464927779&#45;&gt;&#45;2250589350078096882</title>\n",
       "<path fill=\"none\" stroke=\"black\" d=\"M445.83,-1116.4C429.86,-1124.59 413.99,-1136.15 404.88,-1152 379.65,-1195.89 412.25,-1253.49 436.36,-1286.56\"/>\n",
       "<polygon fill=\"black\" stroke=\"black\" points=\"433.46,-1288.52 442.28,-1294.39 439.04,-1284.3 433.46,-1288.52\"/>\n",
       "</g>\n",
       "<!-- &#45;1948457253464927779&#45;&gt;&#45;6966549882828676166 -->\n",
       "<g id=\"edge4\" class=\"edge\">\n",
       "<title>&#45;1948457253464927779&#45;&gt;&#45;6966549882828676166</title>\n",
       "<path fill=\"none\" stroke=\"black\" d=\"M523.6,-1116.48C537.61,-1125.32 554.8,-1136.16 569.92,-1145.7\"/>\n",
       "<polygon fill=\"black\" stroke=\"black\" points=\"567.9,-1148.56 578.22,-1150.93 571.63,-1142.64 567.9,-1148.56\"/>\n",
       "</g>\n",
       "<!-- 1641376885269772319 -->\n",
       "<g id=\"node5\" class=\"node\">\n",
       "<title>1641376885269772319</title>\n",
       "<polygon fill=\"none\" stroke=\"black\" points=\"723.62,-1044 490.12,-1044 490.12,-1008 723.62,-1008 723.62,-1044\"/>\n",
       "<text text-anchor=\"middle\" x=\"606.88\" y=\"-1018.62\" font-family=\"Helvetica,sans-Serif\" font-size=\"20.00\">PropertyMap(Projection)</text>\n",
       "</g>\n",
       "<!-- 1641376885269772319&#45;&gt;&#45;1948457253464927779 -->\n",
       "<g id=\"edge5\" class=\"edge\">\n",
       "<title>1641376885269772319&#45;&gt;&#45;1948457253464927779</title>\n",
       "<path fill=\"none\" stroke=\"black\" d=\"M579.15,-1044.48C565.14,-1053.32 547.95,-1064.16 532.83,-1073.7\"/>\n",
       "<polygon fill=\"black\" stroke=\"black\" points=\"531.12,-1070.64 524.53,-1078.93 534.85,-1076.56 531.12,-1070.64\"/>\n",
       "</g>\n",
       "<!-- &#45;518390957950602330 -->\n",
       "<g id=\"node6\" class=\"node\">\n",
       "<title>&#45;518390957950602330</title>\n",
       "<polygon fill=\"none\" stroke=\"black\" points=\"837.38,-972 452.38,-972 452.38,-936 837.38,-936 837.38,-972\"/>\n",
       "<text text-anchor=\"middle\" x=\"644.88\" y=\"-946.62\" font-family=\"Helvetica,sans-Serif\" font-size=\"20.00\">Projection(Assign, tpep_pickup_datetime)</text>\n",
       "</g>\n",
       "<!-- &#45;518390957950602330&#45;&gt;1641376885269772319 -->\n",
       "<g id=\"edge7\" class=\"edge\">\n",
       "<title>&#45;518390957950602330&#45;&gt;1641376885269772319</title>\n",
       "<path fill=\"none\" stroke=\"black\" d=\"M635.48,-972.3C631.29,-980.02 626.26,-989.29 621.59,-997.89\"/>\n",
       "<polygon fill=\"black\" stroke=\"black\" points=\"618.58,-996.11 616.88,-1006.57 624.73,-999.45 618.58,-996.11\"/>\n",
       "</g>\n",
       "<!-- &#45;627175988181175481 -->\n",
       "<g id=\"node7\" class=\"node\">\n",
       "<title>&#45;627175988181175481</title>\n",
       "<polygon fill=\"none\" stroke=\"black\" points=\"743.62,-900 324.12,-900 324.12,-864 743.62,-864 743.62,-900\"/>\n",
       "<text text-anchor=\"middle\" x=\"533.88\" y=\"-874.62\" font-family=\"Helvetica,sans-Serif\" font-size=\"20.00\">Assign(Assign, pickup_months, PropertyMap)</text>\n",
       "</g>\n",
       "<!-- &#45;627175988181175481&#45;&gt;&#45;1948457253464927779 -->\n",
       "<g id=\"edge6\" class=\"edge\">\n",
       "<title>&#45;627175988181175481&#45;&gt;&#45;1948457253464927779</title>\n",
       "<path fill=\"none\" stroke=\"black\" d=\"M483.83,-900.4C467.86,-908.59 451.99,-920.15 442.88,-936 417.65,-979.89 450.25,-1037.49 474.36,-1070.56\"/>\n",
       "<polygon fill=\"black\" stroke=\"black\" points=\"471.46,-1072.52 480.28,-1078.39 477.04,-1068.3 471.46,-1072.52\"/>\n",
       "</g>\n",
       "<!-- &#45;627175988181175481&#45;&gt;&#45;518390957950602330 -->\n",
       "<g id=\"edge8\" class=\"edge\">\n",
       "<title>&#45;627175988181175481&#45;&gt;&#45;518390957950602330</title>\n",
       "<path fill=\"none\" stroke=\"black\" d=\"M561.6,-900.48C575.61,-909.32 592.8,-920.16 607.92,-929.7\"/>\n",
       "<polygon fill=\"black\" stroke=\"black\" points=\"605.9,-932.56 616.22,-934.93 609.63,-926.64 605.9,-932.56\"/>\n",
       "</g>\n",
       "<!-- 4484771296895901730 -->\n",
       "<g id=\"node8\" class=\"node\">\n",
       "<title>4484771296895901730</title>\n",
       "<polygon fill=\"none\" stroke=\"black\" points=\"761.62,-828 528.12,-828 528.12,-792 761.62,-792 761.62,-828\"/>\n",
       "<text text-anchor=\"middle\" x=\"644.88\" y=\"-802.62\" font-family=\"Helvetica,sans-Serif\" font-size=\"20.00\">PropertyMap(Projection)</text>\n",
       "</g>\n",
       "<!-- 4484771296895901730&#45;&gt;&#45;627175988181175481 -->\n",
       "<g id=\"edge10\" class=\"edge\">\n",
       "<title>4484771296895901730&#45;&gt;&#45;627175988181175481</title>\n",
       "<path fill=\"none\" stroke=\"black\" d=\"M617.15,-828.48C603.14,-837.32 585.95,-848.16 570.83,-857.7\"/>\n",
       "<polygon fill=\"black\" stroke=\"black\" points=\"569.12,-854.64 562.53,-862.93 572.85,-860.56 569.12,-854.64\"/>\n",
       "</g>\n",
       "<!-- 7187286770570699964 -->\n",
       "<g id=\"node9\" class=\"node\">\n",
       "<title>7187286770570699964</title>\n",
       "<polygon fill=\"none\" stroke=\"black\" points=\"875.38,-756 490.38,-756 490.38,-720 875.38,-720 875.38,-756\"/>\n",
       "<text text-anchor=\"middle\" x=\"682.88\" y=\"-730.62\" font-family=\"Helvetica,sans-Serif\" font-size=\"20.00\">Projection(Assign, tpep_pickup_datetime)</text>\n",
       "</g>\n",
       "<!-- 7187286770570699964&#45;&gt;4484771296895901730 -->\n",
       "<g id=\"edge11\" class=\"edge\">\n",
       "<title>7187286770570699964&#45;&gt;4484771296895901730</title>\n",
       "<path fill=\"none\" stroke=\"black\" d=\"M673.48,-756.3C669.29,-764.02 664.26,-773.29 659.59,-781.89\"/>\n",
       "<polygon fill=\"black\" stroke=\"black\" points=\"656.58,-780.11 654.88,-790.57 662.73,-783.45 656.58,-780.11\"/>\n",
       "</g>\n",
       "<!-- &#45;9199825333687943247 -->\n",
       "<g id=\"node10\" class=\"node\">\n",
       "<title>&#45;9199825333687943247</title>\n",
       "<polygon fill=\"none\" stroke=\"black\" points=\"807.5,-684 336.25,-684 336.25,-648 807.5,-648 807.5,-684\"/>\n",
       "<text text-anchor=\"middle\" x=\"571.88\" y=\"-658.62\" font-family=\"Helvetica,sans-Serif\" font-size=\"20.00\">Assign(Assign, tpep_dropoff_datetime, ToDatetime)</text>\n",
       "</g>\n",
       "<!-- &#45;9199825333687943247&#45;&gt;&#45;627175988181175481 -->\n",
       "<g id=\"edge9\" class=\"edge\">\n",
       "<title>&#45;9199825333687943247&#45;&gt;&#45;627175988181175481</title>\n",
       "<path fill=\"none\" stroke=\"black\" d=\"M521.83,-684.4C505.86,-692.59 489.99,-704.15 480.88,-720 455.65,-763.89 488.25,-821.49 512.36,-854.56\"/>\n",
       "<polygon fill=\"black\" stroke=\"black\" points=\"509.46,-856.52 518.28,-862.39 515.04,-852.3 509.46,-856.52\"/>\n",
       "</g>\n",
       "<!-- &#45;9199825333687943247&#45;&gt;7187286770570699964 -->\n",
       "<g id=\"edge12\" class=\"edge\">\n",
       "<title>&#45;9199825333687943247&#45;&gt;7187286770570699964</title>\n",
       "<path fill=\"none\" stroke=\"black\" d=\"M599.6,-684.48C613.61,-693.32 630.8,-704.16 645.92,-713.7\"/>\n",
       "<polygon fill=\"black\" stroke=\"black\" points=\"643.9,-716.56 654.22,-718.93 647.63,-710.64 643.9,-716.56\"/>\n",
       "</g>\n",
       "<!-- &#45;4687314599317782026 -->\n",
       "<g id=\"node11\" class=\"node\">\n",
       "<title>&#45;4687314599317782026</title>\n",
       "<polygon fill=\"none\" stroke=\"black\" points=\"792.5,-612 573.25,-612 573.25,-576 792.5,-576 792.5,-612\"/>\n",
       "<text text-anchor=\"middle\" x=\"682.88\" y=\"-586.62\" font-family=\"Helvetica,sans-Serif\" font-size=\"20.00\">ToDatetime(Projection)</text>\n",
       "</g>\n",
       "<!-- &#45;4687314599317782026&#45;&gt;&#45;9199825333687943247 -->\n",
       "<g id=\"edge14\" class=\"edge\">\n",
       "<title>&#45;4687314599317782026&#45;&gt;&#45;9199825333687943247</title>\n",
       "<path fill=\"none\" stroke=\"black\" d=\"M655.15,-612.48C641.14,-621.32 623.95,-632.16 608.83,-641.7\"/>\n",
       "<polygon fill=\"black\" stroke=\"black\" points=\"607.12,-638.64 600.53,-646.93 610.85,-644.56 607.12,-638.64\"/>\n",
       "</g>\n",
       "<!-- &#45;7082932546137939659 -->\n",
       "<g id=\"node12\" class=\"node\">\n",
       "<title>&#45;7082932546137939659</title>\n",
       "<polygon fill=\"none\" stroke=\"black\" points=\"920.62,-540 531.12,-540 531.12,-504 920.62,-504 920.62,-540\"/>\n",
       "<text text-anchor=\"middle\" x=\"725.88\" y=\"-514.62\" font-family=\"Helvetica,sans-Serif\" font-size=\"20.00\">Projection(Assign, tpep_dropoff_datetime)</text>\n",
       "</g>\n",
       "<!-- &#45;7082932546137939659&#45;&gt;&#45;4687314599317782026 -->\n",
       "<g id=\"edge15\" class=\"edge\">\n",
       "<title>&#45;7082932546137939659&#45;&gt;&#45;4687314599317782026</title>\n",
       "<path fill=\"none\" stroke=\"black\" d=\"M715.25,-540.3C710.46,-548.1 704.69,-557.49 699.36,-566.17\"/>\n",
       "<polygon fill=\"black\" stroke=\"black\" points=\"696.43,-564.25 694.17,-574.61 702.39,-567.92 696.43,-564.25\"/>\n",
       "</g>\n",
       "<!-- &#45;6332600244228904824 -->\n",
       "<g id=\"node13\" class=\"node\">\n",
       "<title>&#45;6332600244228904824</title>\n",
       "<polygon fill=\"none\" stroke=\"black\" points=\"839,-468 388.75,-468 388.75,-432 839,-432 839,-468\"/>\n",
       "<text text-anchor=\"middle\" x=\"613.88\" y=\"-442.62\" font-family=\"Helvetica,sans-Serif\" font-size=\"20.00\">Assign(Drop, tpep_pickup_datetime, ToDatetime)</text>\n",
       "</g>\n",
       "<!-- &#45;6332600244228904824&#45;&gt;&#45;9199825333687943247 -->\n",
       "<g id=\"edge13\" class=\"edge\">\n",
       "<title>&#45;6332600244228904824&#45;&gt;&#45;9199825333687943247</title>\n",
       "<path fill=\"none\" stroke=\"black\" d=\"M563.3,-468.28C547.15,-476.46 531.1,-488.04 521.88,-504 496.68,-547.59 527.92,-605.29 551.13,-638.46\"/>\n",
       "<polygon fill=\"black\" stroke=\"black\" points=\"548.11,-640.26 556.82,-646.3 553.78,-636.15 548.11,-640.26\"/>\n",
       "</g>\n",
       "<!-- &#45;6332600244228904824&#45;&gt;&#45;7082932546137939659 -->\n",
       "<g id=\"edge16\" class=\"edge\">\n",
       "<title>&#45;6332600244228904824&#45;&gt;&#45;7082932546137939659</title>\n",
       "<path fill=\"none\" stroke=\"black\" d=\"M641.85,-468.48C655.99,-477.32 673.34,-488.16 688.59,-497.7\"/>\n",
       "<polygon fill=\"black\" stroke=\"black\" points=\"686.64,-500.61 696.97,-502.94 690.35,-494.67 686.64,-500.61\"/>\n",
       "</g>\n",
       "<!-- 5434169127925854688 -->\n",
       "<g id=\"node14\" class=\"node\">\n",
       "<title>5434169127925854688</title>\n",
       "<polygon fill=\"none\" stroke=\"black\" points=\"829.5,-396 610.25,-396 610.25,-360 829.5,-360 829.5,-396\"/>\n",
       "<text text-anchor=\"middle\" x=\"719.88\" y=\"-370.62\" font-family=\"Helvetica,sans-Serif\" font-size=\"20.00\">ToDatetime(Projection)</text>\n",
       "</g>\n",
       "<!-- 5434169127925854688&#45;&gt;&#45;6332600244228904824 -->\n",
       "<g id=\"edge17\" class=\"edge\">\n",
       "<title>5434169127925854688&#45;&gt;&#45;6332600244228904824</title>\n",
       "<path fill=\"none\" stroke=\"black\" d=\"M693.4,-396.48C680.15,-405.24 663.91,-415.96 649.58,-425.42\"/>\n",
       "<polygon fill=\"black\" stroke=\"black\" points=\"647.69,-422.47 641.28,-430.91 651.55,-428.32 647.69,-422.47\"/>\n",
       "</g>\n",
       "<!-- &#45;2490444255197575230 -->\n",
       "<g id=\"node15\" class=\"node\">\n",
       "<title>&#45;2490444255197575230</title>\n",
       "<polygon fill=\"none\" stroke=\"black\" points=\"941.12,-324 572.62,-324 572.62,-288 941.12,-288 941.12,-324\"/>\n",
       "<text text-anchor=\"middle\" x=\"756.88\" y=\"-298.62\" font-family=\"Helvetica,sans-Serif\" font-size=\"20.00\">Projection(Drop, tpep_pickup_datetime)</text>\n",
       "</g>\n",
       "<!-- &#45;2490444255197575230&#45;&gt;5434169127925854688 -->\n",
       "<g id=\"edge19\" class=\"edge\">\n",
       "<title>&#45;2490444255197575230&#45;&gt;5434169127925854688</title>\n",
       "<path fill=\"none\" stroke=\"black\" d=\"M747.73,-324.3C743.65,-332.02 738.75,-341.29 734.21,-349.89\"/>\n",
       "<polygon fill=\"black\" stroke=\"black\" points=\"731.2,-348.08 729.62,-358.56 737.39,-351.35 731.2,-348.08\"/>\n",
       "</g>\n",
       "<!-- &#45;1916483624209697655 -->\n",
       "<g id=\"node16\" class=\"node\">\n",
       "<title>&#45;1916483624209697655</title>\n",
       "<polygon fill=\"none\" stroke=\"black\" points=\"718.88,-252 582.88,-252 582.88,-216 718.88,-216 718.88,-252\"/>\n",
       "<text text-anchor=\"middle\" x=\"650.88\" y=\"-226.62\" font-family=\"Helvetica,sans-Serif\" font-size=\"20.00\">Drop(Concat)</text>\n",
       "</g>\n",
       "<!-- &#45;1916483624209697655&#45;&gt;&#45;6332600244228904824 -->\n",
       "<g id=\"edge18\" class=\"edge\">\n",
       "<title>&#45;1916483624209697655&#45;&gt;&#45;6332600244228904824</title>\n",
       "<path fill=\"none\" stroke=\"black\" d=\"M603.9,-252.39C588.32,-260.66 572.71,-272.27 563.88,-288 539.22,-331.9 570.27,-389.49 593.3,-422.56\"/>\n",
       "<polygon fill=\"black\" stroke=\"black\" points=\"590.25,-424.31 598.94,-430.37 595.93,-420.21 590.25,-424.31\"/>\n",
       "</g>\n",
       "<!-- &#45;1916483624209697655&#45;&gt;&#45;2490444255197575230 -->\n",
       "<g id=\"edge20\" class=\"edge\">\n",
       "<title>&#45;1916483624209697655&#45;&gt;&#45;2490444255197575230</title>\n",
       "<path fill=\"none\" stroke=\"black\" d=\"M677.35,-252.48C690.6,-261.24 706.84,-271.96 721.17,-281.42\"/>\n",
       "<polygon fill=\"black\" stroke=\"black\" points=\"719.2,-284.32 729.47,-286.91 723.06,-278.47 719.2,-284.32\"/>\n",
       "</g>\n",
       "<!-- 2024056020936035021 -->\n",
       "<g id=\"node17\" class=\"node\">\n",
       "<title>2024056020936035021</title>\n",
       "<polygon fill=\"none\" stroke=\"black\" points=\"1016.25,-180 285.5,-180 285.5,-144 1016.25,-144 1016.25,-180\"/>\n",
       "<text text-anchor=\"middle\" x=\"650.88\" y=\"-154.62\" font-family=\"Helvetica,sans-Serif\" font-size=\"20.00\">Concat(ArrowStringConversion, ArrowStringConversion, ArrowStringConversion)</text>\n",
       "</g>\n",
       "<!-- 2024056020936035021&#45;&gt;&#45;1916483624209697655 -->\n",
       "<g id=\"edge21\" class=\"edge\">\n",
       "<title>2024056020936035021&#45;&gt;&#45;1916483624209697655</title>\n",
       "<path fill=\"none\" stroke=\"black\" d=\"M650.88,-180.3C650.88,-187.59 650.88,-196.27 650.88,-204.46\"/>\n",
       "<polygon fill=\"black\" stroke=\"black\" points=\"647.38,-204.38 650.88,-214.38 654.38,-204.38 647.38,-204.38\"/>\n",
       "</g>\n",
       "<!-- &#45;6648857076040976602 -->\n",
       "<g id=\"node18\" class=\"node\">\n",
       "<title>&#45;6648857076040976602</title>\n",
       "<polygon fill=\"none\" stroke=\"black\" points=\"421.75,-108 0,-108 0,-72 421.75,-72 421.75,-108\"/>\n",
       "<text text-anchor=\"middle\" x=\"210.88\" y=\"-82.62\" font-family=\"Helvetica,sans-Serif\" font-size=\"20.00\">ArrowStringConversion(FromMapProjectable)</text>\n",
       "</g>\n",
       "<!-- &#45;6648857076040976602&#45;&gt;2024056020936035021 -->\n",
       "<g id=\"edge23\" class=\"edge\">\n",
       "<title>&#45;6648857076040976602&#45;&gt;2024056020936035021</title>\n",
       "<path fill=\"none\" stroke=\"black\" d=\"M320.77,-108.48C384.41,-118.61 464.62,-131.37 530.04,-141.78\"/>\n",
       "<polygon fill=\"black\" stroke=\"black\" points=\"529.32,-145.21 539.74,-143.32 530.42,-138.29 529.32,-145.21\"/>\n",
       "</g>\n",
       "<!-- &#45;4599389285285592355 -->\n",
       "<g id=\"node19\" class=\"node\">\n",
       "<title>&#45;4599389285285592355</title>\n",
       "<polygon fill=\"none\" stroke=\"black\" points=\"311.88,-36 109.88,-36 109.88,0 311.88,0 311.88,-36\"/>\n",
       "<text text-anchor=\"middle\" x=\"210.88\" y=\"-10.62\" font-family=\"Helvetica,sans-Serif\" font-size=\"20.00\">FromMapProjectable</text>\n",
       "</g>\n",
       "<!-- &#45;4599389285285592355&#45;&gt;&#45;6648857076040976602 -->\n",
       "<g id=\"edge25\" class=\"edge\">\n",
       "<title>&#45;4599389285285592355&#45;&gt;&#45;6648857076040976602</title>\n",
       "<path fill=\"none\" stroke=\"black\" d=\"M210.88,-36.3C210.88,-43.59 210.88,-52.27 210.88,-60.46\"/>\n",
       "<polygon fill=\"black\" stroke=\"black\" points=\"207.38,-60.38 210.88,-70.38 214.38,-60.38 207.38,-60.38\"/>\n",
       "</g>\n",
       "<!-- &#45;1803561414276460865 -->\n",
       "<g id=\"node20\" class=\"node\">\n",
       "<title>&#45;1803561414276460865</title>\n",
       "<polygon fill=\"none\" stroke=\"black\" points=\"861.75,-108 440,-108 440,-72 861.75,-72 861.75,-108\"/>\n",
       "<text text-anchor=\"middle\" x=\"650.88\" y=\"-82.62\" font-family=\"Helvetica,sans-Serif\" font-size=\"20.00\">ArrowStringConversion(FromMapProjectable)</text>\n",
       "</g>\n",
       "<!-- &#45;1803561414276460865&#45;&gt;2024056020936035021 -->\n",
       "<g id=\"edge24\" class=\"edge\">\n",
       "<title>&#45;1803561414276460865&#45;&gt;2024056020936035021</title>\n",
       "<path fill=\"none\" stroke=\"black\" d=\"M650.88,-108.3C650.88,-115.59 650.88,-124.27 650.88,-132.46\"/>\n",
       "<polygon fill=\"black\" stroke=\"black\" points=\"647.38,-132.38 650.88,-142.38 654.38,-132.38 647.38,-132.38\"/>\n",
       "</g>\n",
       "<!-- 823994337333902043 -->\n",
       "<g id=\"node21\" class=\"node\">\n",
       "<title>823994337333902043</title>\n",
       "<polygon fill=\"none\" stroke=\"black\" points=\"751.88,-36 549.88,-36 549.88,0 751.88,0 751.88,-36\"/>\n",
       "<text text-anchor=\"middle\" x=\"650.88\" y=\"-10.62\" font-family=\"Helvetica,sans-Serif\" font-size=\"20.00\">FromMapProjectable</text>\n",
       "</g>\n",
       "<!-- 823994337333902043&#45;&gt;&#45;1803561414276460865 -->\n",
       "<g id=\"edge26\" class=\"edge\">\n",
       "<title>823994337333902043&#45;&gt;&#45;1803561414276460865</title>\n",
       "<path fill=\"none\" stroke=\"black\" d=\"M650.88,-36.3C650.88,-43.59 650.88,-52.27 650.88,-60.46\"/>\n",
       "<polygon fill=\"black\" stroke=\"black\" points=\"647.38,-60.38 650.88,-70.38 654.38,-60.38 647.38,-60.38\"/>\n",
       "</g>\n",
       "<!-- &#45;4752184995286659294 -->\n",
       "<g id=\"node22\" class=\"node\">\n",
       "<title>&#45;4752184995286659294</title>\n",
       "<polygon fill=\"none\" stroke=\"black\" points=\"1301.75,-108 880,-108 880,-72 1301.75,-72 1301.75,-108\"/>\n",
       "<text text-anchor=\"middle\" x=\"1090.88\" y=\"-82.62\" font-family=\"Helvetica,sans-Serif\" font-size=\"20.00\">ArrowStringConversion(FromMapProjectable)</text>\n",
       "</g>\n",
       "<!-- &#45;4752184995286659294&#45;&gt;2024056020936035021 -->\n",
       "<g id=\"edge22\" class=\"edge\">\n",
       "<title>&#45;4752184995286659294&#45;&gt;2024056020936035021</title>\n",
       "<path fill=\"none\" stroke=\"black\" d=\"M980.98,-108.48C917.34,-118.61 837.13,-131.37 771.71,-141.78\"/>\n",
       "<polygon fill=\"black\" stroke=\"black\" points=\"771.33,-138.29 762.01,-143.32 772.43,-145.21 771.33,-138.29\"/>\n",
       "</g>\n",
       "<!-- &#45;3115245574667518000 -->\n",
       "<g id=\"node23\" class=\"node\">\n",
       "<title>&#45;3115245574667518000</title>\n",
       "<polygon fill=\"none\" stroke=\"black\" points=\"1191.88,-36 989.88,-36 989.88,0 1191.88,0 1191.88,-36\"/>\n",
       "<text text-anchor=\"middle\" x=\"1090.88\" y=\"-10.62\" font-family=\"Helvetica,sans-Serif\" font-size=\"20.00\">FromMapProjectable</text>\n",
       "</g>\n",
       "<!-- &#45;3115245574667518000&#45;&gt;&#45;4752184995286659294 -->\n",
       "<g id=\"edge27\" class=\"edge\">\n",
       "<title>&#45;3115245574667518000&#45;&gt;&#45;4752184995286659294</title>\n",
       "<path fill=\"none\" stroke=\"black\" d=\"M1090.88,-36.3C1090.88,-43.59 1090.88,-52.27 1090.88,-60.46\"/>\n",
       "<polygon fill=\"black\" stroke=\"black\" points=\"1087.38,-60.38 1090.88,-70.38 1094.38,-60.38 1087.38,-60.38\"/>\n",
       "</g>\n",
       "</g>\n",
       "</svg>\n"
      ],
      "text/plain": [
       "<graphviz.graphs.Digraph at 0x1ae9b33fb10>"
      ]
     },
     "execution_count": 22,
     "metadata": {},
     "output_type": "execute_result"
    }
   ],
   "source": [
    "df_final.visualize()"
   ]
  },
  {
   "cell_type": "code",
   "execution_count": 23,
   "id": "49f7949d",
   "metadata": {},
   "outputs": [],
   "source": [
    "# plot the number of pickups\n",
    "\n",
    "pickups_every_3_days = (\n",
    "                            df_final\n",
    "                            .set_index('tpep_pickup_datetime')\n",
    "                            .resample(\"3D\")\n",
    "                            .size()\n",
    "                            .compute()\n",
    ")"
   ]
  },
  {
   "cell_type": "code",
   "execution_count": 24,
   "id": "6160234a",
   "metadata": {},
   "outputs": [
    {
     "data": {
      "text/plain": [
       "tpep_pickup_datetime\n",
       "2016-01-01     960746\n",
       "2016-01-04    1007938\n",
       "2016-01-07    1162789\n",
       "2016-01-10    1061829\n",
       "2016-01-13    1192852\n",
       "2016-01-16    1132536\n",
       "2016-01-19    1166946\n",
       "2016-01-22     658061\n",
       "2016-01-25     968922\n",
       "2016-01-28    1232734\n",
       "2016-01-31    1065990\n",
       "2016-02-03    1176173\n",
       "2016-02-06    1144752\n",
       "2016-02-09    1192598\n",
       "2016-02-12    1285409\n",
       "2016-02-15    1101217\n",
       "2016-02-18    1256220\n",
       "2016-02-21    1114674\n",
       "2016-02-24    1251497\n",
       "2016-02-27    1155024\n",
       "2016-03-01    1208179\n",
       "2016-03-04    1270530\n",
       "2016-03-07    1106194\n",
       "2016-03-10    1273983\n",
       "2016-03-13    1134075\n",
       "2016-03-16    1234570\n",
       "2016-03-19    1176151\n",
       "2016-03-22    1155525\n",
       "2016-03-25    1149227\n",
       "2016-03-28    1108463\n",
       "2016-03-31     394055\n",
       "Freq: 3D, dtype: int64"
      ]
     },
     "execution_count": 24,
     "metadata": {},
     "output_type": "execute_result"
    }
   ],
   "source": [
    "pickups_every_3_days"
   ]
  },
  {
   "cell_type": "code",
   "execution_count": 25,
   "id": "37170b85",
   "metadata": {},
   "outputs": [
    {
     "data": {
      "image/png": "[encoded data removed]",
      "text/plain": [
       "<Figure size 640x480 with 1 Axes>"
      ]
     },
     "metadata": {},
     "output_type": "display_data"
    }
   ],
   "source": [
    "# plot the graph of pickups\n",
    "\n",
    "sns.lineplot(pickups_every_3_days)\n",
    "plt.xticks(rotation=45)\n",
    "plt.show()"
   ]
  },
  {
   "cell_type": "code",
   "execution_count": 26,
   "id": "d4a54bf5",
   "metadata": {},
   "outputs": [],
   "source": [
    "# pickups for each hour of the day\n",
    "\n",
    "pickups_each_hour = (\n",
    "    df_final\n",
    "    .groupby([\"pickup_hour\",\"pickup_day_of_week\"])[\"VendorID\"]\n",
    "    .count()\n",
    "    .compute()\n",
    ")"
   ]
  },
  {
   "cell_type": "code",
   "execution_count": 27,
   "id": "970d0a6f",
   "metadata": {},
   "outputs": [
    {
     "data": {
      "text/plain": [
       "pickup_hour  pickup_day_of_week\n",
       "4            2                      29498\n",
       "             3                      32480\n",
       "5            2                      49844\n",
       "6            2                     136330\n",
       "             3                     138392\n",
       "                                    ...  \n",
       "23           5                     299024\n",
       "0            0                     100903\n",
       "             1                     101299\n",
       "19           0                     291911\n",
       "23           0                     154325\n",
       "Name: VendorID, Length: 168, dtype: int64"
      ]
     },
     "execution_count": 27,
     "metadata": {},
     "output_type": "execute_result"
    }
   ],
   "source": [
    "pickups_each_hour"
   ]
  },
  {
   "cell_type": "code",
   "execution_count": 28,
   "id": "4db01919",
   "metadata": {},
   "outputs": [],
   "source": [
    "pickups_each_hour = pickups_each_hour.reset_index()"
   ]
  },
  {
   "cell_type": "code",
   "execution_count": 29,
   "id": "d5a79c4c",
   "metadata": {},
   "outputs": [],
   "source": [
    "pickups_each_hour.rename(columns={\"VendorID\":\"Number of Pickups\"},inplace=True)"
   ]
  },
  {
   "cell_type": "code",
   "execution_count": 30,
   "id": "65418e66",
   "metadata": {},
   "outputs": [
    {
     "data": {
      "text/plain": [
       "{0: 'Mon', 1: 'Tue', 2: 'Wed', 3: 'Thu', 4: 'Fri', 5: 'Sat', 6: 'Sun'}"
      ]
     },
     "execution_count": 30,
     "metadata": {},
     "output_type": "execute_result"
    }
   ],
   "source": [
    "day_names = [\"Mon\", \"Tue\", \"Wed\", \"Thu\", \"Fri\", \"Sat\", \"Sun\"]\n",
    "\n",
    "replacement_mapper = {k:v for k,v in enumerate(day_names)}\n",
    "\n",
    "replacement_mapper"
   ]
  },
  {
   "cell_type": "code",
   "execution_count": 31,
   "id": "90eb38de",
   "metadata": {},
   "outputs": [],
   "source": [
    "pickups_each_hour.replace({\"pickup_day_of_week\":replacement_mapper},inplace=True)"
   ]
  },
  {
   "cell_type": "code",
   "execution_count": 32,
   "id": "66a1f69b",
   "metadata": {},
   "outputs": [
    {
     "data": {
      "image/png": "[encoded data removed]",
      "text/plain": [
       "<Figure size 1200x600 with 1 Axes>"
      ]
     },
     "metadata": {},
     "output_type": "display_data"
    }
   ],
   "source": [
    "# plot the lineplot\n",
    "\n",
    "fig = plt.figure(figsize=(12,6))\n",
    "\n",
    "sns.lineplot(pickups_each_hour, x=\"pickup_hour\", y=\"Number of Pickups\", \n",
    "             hue=\"pickup_day_of_week\",hue_order=day_names)\n",
    "\n",
    "plt.show()"
   ]
  },
  {
   "cell_type": "code",
   "execution_count": null,
   "id": "3a74faf7",
   "metadata": {},
   "outputs": [],
   "source": []
  },
  {
   "cell_type": "code",
   "execution_count": null,
   "id": "ea58ea88",
   "metadata": {},
   "outputs": [],
   "source": []
  },
  {
   "cell_type": "code",
   "execution_count": null,
   "id": "156b89f8",
   "metadata": {},
   "outputs": [],
   "source": []
  }
 ],
 "metadata": {
  "kernelspec": {
   "display_name": "MYENV",
   "language": "python",
   "name": "python3"
  },
  "language_info": {
   "codemirror_mode": {
    "name": "ipython",
    "version": 3
   },
   "file_extension": ".py",
   "mimetype": "text/x-python",
   "name": "python",
   "nbconvert_exporter": "python",
   "pygments_lexer": "ipython3",
   "version": "3.13.1"
  }
 },
 "nbformat": 4,
 "nbformat_minor": 5
}
