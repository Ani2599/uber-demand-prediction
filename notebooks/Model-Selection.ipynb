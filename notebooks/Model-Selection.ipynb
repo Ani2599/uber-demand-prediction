{
 "cells": [
  {
   "cell_type": "code",
   "execution_count": 2,
   "id": "43c20a34",
   "metadata": {},
   "outputs": [],
   "source": [
    "import pandas as pd\n",
    "import numpy as np\n",
    "\n",
    "from sklearn.preprocessing import OneHotEncoder\n",
    "from sklearn.compose import ColumnTransformer\n",
    "from sklearn.linear_model import LinearRegression, Ridge\n",
    "from sklearn.pipeline import Pipeline\n",
    "from sklearn.metrics import mean_absolute_percentage_error\n",
    "from sklearn.svm import SVR\n",
    "\n",
    "from sklearn.ensemble import RandomForestRegressor, GradientBoostingRegressor\n",
    "from xgboost import XGBRegressor\n",
    "\n",
    "import mlflow"
   ]
  },
  {
   "cell_type": "code",
   "execution_count": 3,
   "id": "756a5923",
   "metadata": {},
   "outputs": [],
   "source": [
    "# set the dagshub tracking server\n",
    "\n",
    "mlflow.set_tracking_uri(\"https://dagshub.com/aniketnandanwar09/uber-demand-prediction.mlflow\")"
   ]
  },
  {
   "cell_type": "code",
   "execution_count": 4,
   "id": "4085cc2a",
   "metadata": {},
   "outputs": [
    {
     "data": {
      "text/html": [
       "<pre style=\"white-space:pre;overflow-x:auto;line-height:normal;font-family:Menlo,'DejaVu Sans Mono',consolas,'Courier New',monospace\">Accessing as aniketnandanwar09\n",
       "</pre>\n"
      ],
      "text/plain": [
       "Accessing as aniketnandanwar09\n"
      ]
     },
     "metadata": {},
     "output_type": "display_data"
    },
    {
     "data": {
      "text/html": [
       "<pre style=\"white-space:pre;overflow-x:auto;line-height:normal;font-family:Menlo,'DejaVu Sans Mono',consolas,'Courier New',monospace\">Initialized MLflow to track repo <span style=\"color: #008000; text-decoration-color: #008000\">\"aniketnandanwar09/uber-demand-prediction\"</span>\n",
       "</pre>\n"
      ],
      "text/plain": [
       "Initialized MLflow to track repo \u001b[32m\"aniketnandanwar09/uber-demand-prediction\"\u001b[0m\n"
      ]
     },
     "metadata": {},
     "output_type": "display_data"
    },
    {
     "data": {
      "text/html": [
       "<pre style=\"white-space:pre;overflow-x:auto;line-height:normal;font-family:Menlo,'DejaVu Sans Mono',consolas,'Courier New',monospace\">Repository aniketnandanwar09/uber-demand-prediction initialized!\n",
       "</pre>\n"
      ],
      "text/plain": [
       "Repository aniketnandanwar09/uber-demand-prediction initialized!\n"
      ]
     },
     "metadata": {},
     "output_type": "display_data"
    }
   ],
   "source": [
    "import dagshub\n",
    "dagshub.init(repo_owner='aniketnandanwar09', repo_name='uber-demand-prediction', mlflow=True)"
   ]
  },
  {
   "cell_type": "code",
   "execution_count": 5,
   "id": "5d736a74",
   "metadata": {},
   "outputs": [
    {
     "data": {
      "text/html": [
       "<div>\n",
       "<style scoped>\n",
       "    .dataframe tbody tr th:only-of-type {\n",
       "        vertical-align: middle;\n",
       "    }\n",
       "\n",
       "    .dataframe tbody tr th {\n",
       "        vertical-align: top;\n",
       "    }\n",
       "\n",
       "    .dataframe thead th {\n",
       "        text-align: right;\n",
       "    }\n",
       "</style>\n",
       "<table border=\"1\" class=\"dataframe\">\n",
       "  <thead>\n",
       "    <tr style=\"text-align: right;\">\n",
       "      <th></th>\n",
       "      <th>lag_1</th>\n",
       "      <th>lag_2</th>\n",
       "      <th>lag_3</th>\n",
       "      <th>lag_4</th>\n",
       "      <th>region</th>\n",
       "      <th>total_pickups</th>\n",
       "      <th>avg_pickups</th>\n",
       "      <th>day_of_week</th>\n",
       "    </tr>\n",
       "    <tr>\n",
       "      <th>tpep_pickup_datetime</th>\n",
       "      <th></th>\n",
       "      <th></th>\n",
       "      <th></th>\n",
       "      <th></th>\n",
       "      <th></th>\n",
       "      <th></th>\n",
       "      <th></th>\n",
       "      <th></th>\n",
       "    </tr>\n",
       "  </thead>\n",
       "  <tbody>\n",
       "    <tr>\n",
       "      <th>2016-01-01 01:00:00</th>\n",
       "      <td>160.0</td>\n",
       "      <td>149.0</td>\n",
       "      <td>120.0</td>\n",
       "      <td>58.0</td>\n",
       "      <td>0</td>\n",
       "      <td>187</td>\n",
       "      <td>161.0</td>\n",
       "      <td>4</td>\n",
       "    </tr>\n",
       "    <tr>\n",
       "      <th>2016-01-01 01:15:00</th>\n",
       "      <td>187.0</td>\n",
       "      <td>160.0</td>\n",
       "      <td>149.0</td>\n",
       "      <td>120.0</td>\n",
       "      <td>0</td>\n",
       "      <td>194</td>\n",
       "      <td>175.0</td>\n",
       "      <td>4</td>\n",
       "    </tr>\n",
       "    <tr>\n",
       "      <th>2016-01-01 01:30:00</th>\n",
       "      <td>194.0</td>\n",
       "      <td>187.0</td>\n",
       "      <td>160.0</td>\n",
       "      <td>149.0</td>\n",
       "      <td>0</td>\n",
       "      <td>180</td>\n",
       "      <td>177.0</td>\n",
       "      <td>4</td>\n",
       "    </tr>\n",
       "    <tr>\n",
       "      <th>2016-01-01 01:45:00</th>\n",
       "      <td>180.0</td>\n",
       "      <td>194.0</td>\n",
       "      <td>187.0</td>\n",
       "      <td>160.0</td>\n",
       "      <td>0</td>\n",
       "      <td>197</td>\n",
       "      <td>185.0</td>\n",
       "      <td>4</td>\n",
       "    </tr>\n",
       "    <tr>\n",
       "      <th>2016-01-01 02:00:00</th>\n",
       "      <td>197.0</td>\n",
       "      <td>180.0</td>\n",
       "      <td>194.0</td>\n",
       "      <td>187.0</td>\n",
       "      <td>0</td>\n",
       "      <td>185</td>\n",
       "      <td>185.0</td>\n",
       "      <td>4</td>\n",
       "    </tr>\n",
       "    <tr>\n",
       "      <th>...</th>\n",
       "      <td>...</td>\n",
       "      <td>...</td>\n",
       "      <td>...</td>\n",
       "      <td>...</td>\n",
       "      <td>...</td>\n",
       "      <td>...</td>\n",
       "      <td>...</td>\n",
       "      <td>...</td>\n",
       "    </tr>\n",
       "    <tr>\n",
       "      <th>2016-02-29 22:45:00</th>\n",
       "      <td>15.0</td>\n",
       "      <td>9.0</td>\n",
       "      <td>11.0</td>\n",
       "      <td>11.0</td>\n",
       "      <td>29</td>\n",
       "      <td>12</td>\n",
       "      <td>12.0</td>\n",
       "      <td>0</td>\n",
       "    </tr>\n",
       "    <tr>\n",
       "      <th>2016-02-29 23:00:00</th>\n",
       "      <td>12.0</td>\n",
       "      <td>15.0</td>\n",
       "      <td>9.0</td>\n",
       "      <td>11.0</td>\n",
       "      <td>29</td>\n",
       "      <td>17</td>\n",
       "      <td>14.0</td>\n",
       "      <td>0</td>\n",
       "    </tr>\n",
       "    <tr>\n",
       "      <th>2016-02-29 23:15:00</th>\n",
       "      <td>17.0</td>\n",
       "      <td>12.0</td>\n",
       "      <td>15.0</td>\n",
       "      <td>9.0</td>\n",
       "      <td>29</td>\n",
       "      <td>15</td>\n",
       "      <td>14.0</td>\n",
       "      <td>0</td>\n",
       "    </tr>\n",
       "    <tr>\n",
       "      <th>2016-02-29 23:30:00</th>\n",
       "      <td>15.0</td>\n",
       "      <td>17.0</td>\n",
       "      <td>12.0</td>\n",
       "      <td>15.0</td>\n",
       "      <td>29</td>\n",
       "      <td>15</td>\n",
       "      <td>15.0</td>\n",
       "      <td>0</td>\n",
       "    </tr>\n",
       "    <tr>\n",
       "      <th>2016-02-29 23:45:00</th>\n",
       "      <td>15.0</td>\n",
       "      <td>15.0</td>\n",
       "      <td>17.0</td>\n",
       "      <td>12.0</td>\n",
       "      <td>29</td>\n",
       "      <td>12</td>\n",
       "      <td>14.0</td>\n",
       "      <td>0</td>\n",
       "    </tr>\n",
       "  </tbody>\n",
       "</table>\n",
       "<p>172680 rows × 8 columns</p>\n",
       "</div>"
      ],
      "text/plain": [
       "                      lag_1  lag_2  lag_3  lag_4  region  total_pickups  \\\n",
       "tpep_pickup_datetime                                                      \n",
       "2016-01-01 01:00:00   160.0  149.0  120.0   58.0       0            187   \n",
       "2016-01-01 01:15:00   187.0  160.0  149.0  120.0       0            194   \n",
       "2016-01-01 01:30:00   194.0  187.0  160.0  149.0       0            180   \n",
       "2016-01-01 01:45:00   180.0  194.0  187.0  160.0       0            197   \n",
       "2016-01-01 02:00:00   197.0  180.0  194.0  187.0       0            185   \n",
       "...                     ...    ...    ...    ...     ...            ...   \n",
       "2016-02-29 22:45:00    15.0    9.0   11.0   11.0      29             12   \n",
       "2016-02-29 23:00:00    12.0   15.0    9.0   11.0      29             17   \n",
       "2016-02-29 23:15:00    17.0   12.0   15.0    9.0      29             15   \n",
       "2016-02-29 23:30:00    15.0   17.0   12.0   15.0      29             15   \n",
       "2016-02-29 23:45:00    15.0   15.0   17.0   12.0      29             12   \n",
       "\n",
       "                      avg_pickups  day_of_week  \n",
       "tpep_pickup_datetime                            \n",
       "2016-01-01 01:00:00         161.0            4  \n",
       "2016-01-01 01:15:00         175.0            4  \n",
       "2016-01-01 01:30:00         177.0            4  \n",
       "2016-01-01 01:45:00         185.0            4  \n",
       "2016-01-01 02:00:00         185.0            4  \n",
       "...                           ...          ...  \n",
       "2016-02-29 22:45:00          12.0            0  \n",
       "2016-02-29 23:00:00          14.0            0  \n",
       "2016-02-29 23:15:00          14.0            0  \n",
       "2016-02-29 23:30:00          15.0            0  \n",
       "2016-02-29 23:45:00          14.0            0  \n",
       "\n",
       "[172680 rows x 8 columns]"
      ]
     },
     "execution_count": 5,
     "metadata": {},
     "output_type": "execute_result"
    }
   ],
   "source": [
    "# load the training and test data\n",
    "\n",
    "train_data_path = \"../data/processed/train.csv\"\n",
    "test_data_path = \"../data/processed/test.csv\"\n",
    "\n",
    "train_df = pd.read_csv(train_data_path, parse_dates=[\"tpep_pickup_datetime\"]).set_index(\"tpep_pickup_datetime\")\n",
    "\n",
    "test_df = pd.read_csv(test_data_path, parse_dates=[\"tpep_pickup_datetime\"]).set_index(\"tpep_pickup_datetime\")\n",
    "\n",
    "train_df"
   ]
  },
  {
   "cell_type": "code",
   "execution_count": 6,
   "id": "b91e288d",
   "metadata": {},
   "outputs": [
    {
     "data": {
      "text/plain": [
       "lag_1            0\n",
       "lag_2            0\n",
       "lag_3            0\n",
       "lag_4            0\n",
       "region           0\n",
       "total_pickups    0\n",
       "avg_pickups      0\n",
       "day_of_week      0\n",
       "dtype: int64"
      ]
     },
     "execution_count": 6,
     "metadata": {},
     "output_type": "execute_result"
    }
   ],
   "source": [
    "# missing value in training data\n",
    "\n",
    "train_df.isna().sum()"
   ]
  },
  {
   "cell_type": "code",
   "execution_count": 7,
   "id": "60bb6a70",
   "metadata": {},
   "outputs": [
    {
     "data": {
      "text/plain": [
       "lag_1            0\n",
       "lag_2            0\n",
       "lag_3            0\n",
       "lag_4            0\n",
       "region           0\n",
       "total_pickups    0\n",
       "avg_pickups      0\n",
       "day_of_week      0\n",
       "dtype: int64"
      ]
     },
     "execution_count": 7,
     "metadata": {},
     "output_type": "execute_result"
    }
   ],
   "source": [
    "# missing values in the test data\n",
    "\n",
    "test_df.isna().sum()"
   ]
  },
  {
   "cell_type": "code",
   "execution_count": 8,
   "id": "1c2236a4",
   "metadata": {},
   "outputs": [],
   "source": [
    "# make X_train and y_train\n",
    "\n",
    "X_train = train_df.drop(columns=[\"total_pickups\"])\n",
    "\n",
    "y_train = train_df[\"total_pickups\"]"
   ]
  },
  {
   "cell_type": "code",
   "execution_count": 9,
   "id": "c7a491c8",
   "metadata": {},
   "outputs": [
    {
     "data": {
      "text/html": [
       "<div>\n",
       "<style scoped>\n",
       "    .dataframe tbody tr th:only-of-type {\n",
       "        vertical-align: middle;\n",
       "    }\n",
       "\n",
       "    .dataframe tbody tr th {\n",
       "        vertical-align: top;\n",
       "    }\n",
       "\n",
       "    .dataframe thead th {\n",
       "        text-align: right;\n",
       "    }\n",
       "</style>\n",
       "<table border=\"1\" class=\"dataframe\">\n",
       "  <thead>\n",
       "    <tr style=\"text-align: right;\">\n",
       "      <th></th>\n",
       "      <th>lag_1</th>\n",
       "      <th>lag_2</th>\n",
       "      <th>lag_3</th>\n",
       "      <th>lag_4</th>\n",
       "      <th>region</th>\n",
       "      <th>avg_pickups</th>\n",
       "      <th>day_of_week</th>\n",
       "    </tr>\n",
       "    <tr>\n",
       "      <th>tpep_pickup_datetime</th>\n",
       "      <th></th>\n",
       "      <th></th>\n",
       "      <th></th>\n",
       "      <th></th>\n",
       "      <th></th>\n",
       "      <th></th>\n",
       "      <th></th>\n",
       "    </tr>\n",
       "  </thead>\n",
       "  <tbody>\n",
       "    <tr>\n",
       "      <th>2016-01-01 01:00:00</th>\n",
       "      <td>160.0</td>\n",
       "      <td>149.0</td>\n",
       "      <td>120.0</td>\n",
       "      <td>58.0</td>\n",
       "      <td>0</td>\n",
       "      <td>161.0</td>\n",
       "      <td>4</td>\n",
       "    </tr>\n",
       "    <tr>\n",
       "      <th>2016-01-01 01:15:00</th>\n",
       "      <td>187.0</td>\n",
       "      <td>160.0</td>\n",
       "      <td>149.0</td>\n",
       "      <td>120.0</td>\n",
       "      <td>0</td>\n",
       "      <td>175.0</td>\n",
       "      <td>4</td>\n",
       "    </tr>\n",
       "    <tr>\n",
       "      <th>2016-01-01 01:30:00</th>\n",
       "      <td>194.0</td>\n",
       "      <td>187.0</td>\n",
       "      <td>160.0</td>\n",
       "      <td>149.0</td>\n",
       "      <td>0</td>\n",
       "      <td>177.0</td>\n",
       "      <td>4</td>\n",
       "    </tr>\n",
       "    <tr>\n",
       "      <th>2016-01-01 01:45:00</th>\n",
       "      <td>180.0</td>\n",
       "      <td>194.0</td>\n",
       "      <td>187.0</td>\n",
       "      <td>160.0</td>\n",
       "      <td>0</td>\n",
       "      <td>185.0</td>\n",
       "      <td>4</td>\n",
       "    </tr>\n",
       "    <tr>\n",
       "      <th>2016-01-01 02:00:00</th>\n",
       "      <td>197.0</td>\n",
       "      <td>180.0</td>\n",
       "      <td>194.0</td>\n",
       "      <td>187.0</td>\n",
       "      <td>0</td>\n",
       "      <td>185.0</td>\n",
       "      <td>4</td>\n",
       "    </tr>\n",
       "  </tbody>\n",
       "</table>\n",
       "</div>"
      ],
      "text/plain": [
       "                      lag_1  lag_2  lag_3  lag_4  region  avg_pickups  \\\n",
       "tpep_pickup_datetime                                                    \n",
       "2016-01-01 01:00:00   160.0  149.0  120.0   58.0       0        161.0   \n",
       "2016-01-01 01:15:00   187.0  160.0  149.0  120.0       0        175.0   \n",
       "2016-01-01 01:30:00   194.0  187.0  160.0  149.0       0        177.0   \n",
       "2016-01-01 01:45:00   180.0  194.0  187.0  160.0       0        185.0   \n",
       "2016-01-01 02:00:00   197.0  180.0  194.0  187.0       0        185.0   \n",
       "\n",
       "                      day_of_week  \n",
       "tpep_pickup_datetime               \n",
       "2016-01-01 01:00:00             4  \n",
       "2016-01-01 01:15:00             4  \n",
       "2016-01-01 01:30:00             4  \n",
       "2016-01-01 01:45:00             4  \n",
       "2016-01-01 02:00:00             4  "
      ]
     },
     "execution_count": 9,
     "metadata": {},
     "output_type": "execute_result"
    }
   ],
   "source": [
    "X_train.head()"
   ]
  },
  {
   "cell_type": "code",
   "execution_count": 10,
   "id": "bb6858c4",
   "metadata": {},
   "outputs": [],
   "source": [
    "# make X_test and y_test\n",
    "\n",
    "X_test = test_df.drop(columns=[\"total_pickups\"])\n",
    "\n",
    "y_test = test_df[\"total_pickups\"]"
   ]
  },
  {
   "cell_type": "code",
   "execution_count": 11,
   "id": "96a6bbdc",
   "metadata": {},
   "outputs": [
    {
     "data": {
      "text/html": [
       "<div>\n",
       "<style scoped>\n",
       "    .dataframe tbody tr th:only-of-type {\n",
       "        vertical-align: middle;\n",
       "    }\n",
       "\n",
       "    .dataframe tbody tr th {\n",
       "        vertical-align: top;\n",
       "    }\n",
       "\n",
       "    .dataframe thead th {\n",
       "        text-align: right;\n",
       "    }\n",
       "</style>\n",
       "<table border=\"1\" class=\"dataframe\">\n",
       "  <thead>\n",
       "    <tr style=\"text-align: right;\">\n",
       "      <th></th>\n",
       "      <th>lag_1</th>\n",
       "      <th>lag_2</th>\n",
       "      <th>lag_3</th>\n",
       "      <th>lag_4</th>\n",
       "      <th>region</th>\n",
       "      <th>avg_pickups</th>\n",
       "      <th>day_of_week</th>\n",
       "    </tr>\n",
       "    <tr>\n",
       "      <th>tpep_pickup_datetime</th>\n",
       "      <th></th>\n",
       "      <th></th>\n",
       "      <th></th>\n",
       "      <th></th>\n",
       "      <th></th>\n",
       "      <th></th>\n",
       "      <th></th>\n",
       "    </tr>\n",
       "  </thead>\n",
       "  <tbody>\n",
       "    <tr>\n",
       "      <th>2016-03-01 00:00:00</th>\n",
       "      <td>36.0</td>\n",
       "      <td>44.0</td>\n",
       "      <td>31.0</td>\n",
       "      <td>29.0</td>\n",
       "      <td>0</td>\n",
       "      <td>39.0</td>\n",
       "      <td>1</td>\n",
       "    </tr>\n",
       "    <tr>\n",
       "      <th>2016-03-01 00:15:00</th>\n",
       "      <td>41.0</td>\n",
       "      <td>36.0</td>\n",
       "      <td>44.0</td>\n",
       "      <td>31.0</td>\n",
       "      <td>0</td>\n",
       "      <td>37.0</td>\n",
       "      <td>1</td>\n",
       "    </tr>\n",
       "    <tr>\n",
       "      <th>2016-03-01 00:30:00</th>\n",
       "      <td>35.0</td>\n",
       "      <td>41.0</td>\n",
       "      <td>36.0</td>\n",
       "      <td>44.0</td>\n",
       "      <td>0</td>\n",
       "      <td>41.0</td>\n",
       "      <td>1</td>\n",
       "    </tr>\n",
       "    <tr>\n",
       "      <th>2016-03-01 00:45:00</th>\n",
       "      <td>47.0</td>\n",
       "      <td>35.0</td>\n",
       "      <td>41.0</td>\n",
       "      <td>36.0</td>\n",
       "      <td>0</td>\n",
       "      <td>38.0</td>\n",
       "      <td>1</td>\n",
       "    </tr>\n",
       "    <tr>\n",
       "      <th>2016-03-01 01:00:00</th>\n",
       "      <td>34.0</td>\n",
       "      <td>47.0</td>\n",
       "      <td>35.0</td>\n",
       "      <td>41.0</td>\n",
       "      <td>0</td>\n",
       "      <td>35.0</td>\n",
       "      <td>1</td>\n",
       "    </tr>\n",
       "  </tbody>\n",
       "</table>\n",
       "</div>"
      ],
      "text/plain": [
       "                      lag_1  lag_2  lag_3  lag_4  region  avg_pickups  \\\n",
       "tpep_pickup_datetime                                                    \n",
       "2016-03-01 00:00:00    36.0   44.0   31.0   29.0       0         39.0   \n",
       "2016-03-01 00:15:00    41.0   36.0   44.0   31.0       0         37.0   \n",
       "2016-03-01 00:30:00    35.0   41.0   36.0   44.0       0         41.0   \n",
       "2016-03-01 00:45:00    47.0   35.0   41.0   36.0       0         38.0   \n",
       "2016-03-01 01:00:00    34.0   47.0   35.0   41.0       0         35.0   \n",
       "\n",
       "                      day_of_week  \n",
       "tpep_pickup_datetime               \n",
       "2016-03-01 00:00:00             1  \n",
       "2016-03-01 00:15:00             1  \n",
       "2016-03-01 00:30:00             1  \n",
       "2016-03-01 00:45:00             1  \n",
       "2016-03-01 01:00:00             1  "
      ]
     },
     "execution_count": 11,
     "metadata": {},
     "output_type": "execute_result"
    }
   ],
   "source": [
    "X_test.head()"
   ]
  },
  {
   "cell_type": "code",
   "execution_count": 12,
   "id": "70f042da",
   "metadata": {},
   "outputs": [],
   "source": [
    "from sklearn import set_config\n",
    "\n",
    "set_config(transform_output=\"pandas\")"
   ]
  },
  {
   "cell_type": "code",
   "execution_count": 13,
   "id": "d0e0e661",
   "metadata": {},
   "outputs": [],
   "source": [
    "# encode the data\n",
    "\n",
    "encoder = ColumnTransformer([\n",
    "    (\"ohe\", OneHotEncoder(drop=\"first\",sparse_output=False), [\"region\",\"day_of_week\"])\n",
    "], remainder=\"passthrough\", n_jobs=-1,force_int_remainder_cols=False)"
   ]
  },
  {
   "cell_type": "code",
   "execution_count": 14,
   "id": "f8b412ba",
   "metadata": {},
   "outputs": [
    {
     "data": {
      "text/html": [
       "<style>#sk-container-id-1 {\n",
       "  /* Definition of color scheme common for light and dark mode */\n",
       "  --sklearn-color-text: #000;\n",
       "  --sklearn-color-text-muted: #666;\n",
       "  --sklearn-color-line: gray;\n",
       "  /* Definition of color scheme for unfitted estimators */\n",
       "  --sklearn-color-unfitted-level-0: #fff5e6;\n",
       "  --sklearn-color-unfitted-level-1: #f6e4d2;\n",
       "  --sklearn-color-unfitted-level-2: #ffe0b3;\n",
       "  --sklearn-color-unfitted-level-3: chocolate;\n",
       "  /* Definition of color scheme for fitted estimators */\n",
       "  --sklearn-color-fitted-level-0: #f0f8ff;\n",
       "  --sklearn-color-fitted-level-1: #d4ebff;\n",
       "  --sklearn-color-fitted-level-2: #b3dbfd;\n",
       "  --sklearn-color-fitted-level-3: cornflowerblue;\n",
       "\n",
       "  /* Specific color for light theme */\n",
       "  --sklearn-color-text-on-default-background: var(--sg-text-color, var(--theme-code-foreground, var(--jp-content-font-color1, black)));\n",
       "  --sklearn-color-background: var(--sg-background-color, var(--theme-background, var(--jp-layout-color0, white)));\n",
       "  --sklearn-color-border-box: var(--sg-text-color, var(--theme-code-foreground, var(--jp-content-font-color1, black)));\n",
       "  --sklearn-color-icon: #696969;\n",
       "\n",
       "  @media (prefers-color-scheme: dark) {\n",
       "    /* Redefinition of color scheme for dark theme */\n",
       "    --sklearn-color-text-on-default-background: var(--sg-text-color, var(--theme-code-foreground, var(--jp-content-font-color1, white)));\n",
       "    --sklearn-color-background: var(--sg-background-color, var(--theme-background, var(--jp-layout-color0, #111)));\n",
       "    --sklearn-color-border-box: var(--sg-text-color, var(--theme-code-foreground, var(--jp-content-font-color1, white)));\n",
       "    --sklearn-color-icon: #878787;\n",
       "  }\n",
       "}\n",
       "\n",
       "#sk-container-id-1 {\n",
       "  color: var(--sklearn-color-text);\n",
       "}\n",
       "\n",
       "#sk-container-id-1 pre {\n",
       "  padding: 0;\n",
       "}\n",
       "\n",
       "#sk-container-id-1 input.sk-hidden--visually {\n",
       "  border: 0;\n",
       "  clip: rect(1px 1px 1px 1px);\n",
       "  clip: rect(1px, 1px, 1px, 1px);\n",
       "  height: 1px;\n",
       "  margin: -1px;\n",
       "  overflow: hidden;\n",
       "  padding: 0;\n",
       "  position: absolute;\n",
       "  width: 1px;\n",
       "}\n",
       "\n",
       "#sk-container-id-1 div.sk-dashed-wrapped {\n",
       "  border: 1px dashed var(--sklearn-color-line);\n",
       "  margin: 0 0.4em 0.5em 0.4em;\n",
       "  box-sizing: border-box;\n",
       "  padding-bottom: 0.4em;\n",
       "  background-color: var(--sklearn-color-background);\n",
       "}\n",
       "\n",
       "#sk-container-id-1 div.sk-container {\n",
       "  /* jupyter's `normalize.less` sets `[hidden] { display: none; }`\n",
       "     but bootstrap.min.css set `[hidden] { display: none !important; }`\n",
       "     so we also need the `!important` here to be able to override the\n",
       "     default hidden behavior on the sphinx rendered scikit-learn.org.\n",
       "     See: https://github.com/scikit-learn/scikit-learn/issues/21755 */\n",
       "  display: inline-block !important;\n",
       "  position: relative;\n",
       "}\n",
       "\n",
       "#sk-container-id-1 div.sk-text-repr-fallback {\n",
       "  display: none;\n",
       "}\n",
       "\n",
       "div.sk-parallel-item,\n",
       "div.sk-serial,\n",
       "div.sk-item {\n",
       "  /* draw centered vertical line to link estimators */\n",
       "  background-image: linear-gradient(var(--sklearn-color-text-on-default-background), var(--sklearn-color-text-on-default-background));\n",
       "  background-size: 2px 100%;\n",
       "  background-repeat: no-repeat;\n",
       "  background-position: center center;\n",
       "}\n",
       "\n",
       "/* Parallel-specific style estimator block */\n",
       "\n",
       "#sk-container-id-1 div.sk-parallel-item::after {\n",
       "  content: \"\";\n",
       "  width: 100%;\n",
       "  border-bottom: 2px solid var(--sklearn-color-text-on-default-background);\n",
       "  flex-grow: 1;\n",
       "}\n",
       "\n",
       "#sk-container-id-1 div.sk-parallel {\n",
       "  display: flex;\n",
       "  align-items: stretch;\n",
       "  justify-content: center;\n",
       "  background-color: var(--sklearn-color-background);\n",
       "  position: relative;\n",
       "}\n",
       "\n",
       "#sk-container-id-1 div.sk-parallel-item {\n",
       "  display: flex;\n",
       "  flex-direction: column;\n",
       "}\n",
       "\n",
       "#sk-container-id-1 div.sk-parallel-item:first-child::after {\n",
       "  align-self: flex-end;\n",
       "  width: 50%;\n",
       "}\n",
       "\n",
       "#sk-container-id-1 div.sk-parallel-item:last-child::after {\n",
       "  align-self: flex-start;\n",
       "  width: 50%;\n",
       "}\n",
       "\n",
       "#sk-container-id-1 div.sk-parallel-item:only-child::after {\n",
       "  width: 0;\n",
       "}\n",
       "\n",
       "/* Serial-specific style estimator block */\n",
       "\n",
       "#sk-container-id-1 div.sk-serial {\n",
       "  display: flex;\n",
       "  flex-direction: column;\n",
       "  align-items: center;\n",
       "  background-color: var(--sklearn-color-background);\n",
       "  padding-right: 1em;\n",
       "  padding-left: 1em;\n",
       "}\n",
       "\n",
       "\n",
       "/* Toggleable style: style used for estimator/Pipeline/ColumnTransformer box that is\n",
       "clickable and can be expanded/collapsed.\n",
       "- Pipeline and ColumnTransformer use this feature and define the default style\n",
       "- Estimators will overwrite some part of the style using the `sk-estimator` class\n",
       "*/\n",
       "\n",
       "/* Pipeline and ColumnTransformer style (default) */\n",
       "\n",
       "#sk-container-id-1 div.sk-toggleable {\n",
       "  /* Default theme specific background. It is overwritten whether we have a\n",
       "  specific estimator or a Pipeline/ColumnTransformer */\n",
       "  background-color: var(--sklearn-color-background);\n",
       "}\n",
       "\n",
       "/* Toggleable label */\n",
       "#sk-container-id-1 label.sk-toggleable__label {\n",
       "  cursor: pointer;\n",
       "  display: flex;\n",
       "  width: 100%;\n",
       "  margin-bottom: 0;\n",
       "  padding: 0.5em;\n",
       "  box-sizing: border-box;\n",
       "  text-align: center;\n",
       "  align-items: start;\n",
       "  justify-content: space-between;\n",
       "  gap: 0.5em;\n",
       "}\n",
       "\n",
       "#sk-container-id-1 label.sk-toggleable__label .caption {\n",
       "  font-size: 0.6rem;\n",
       "  font-weight: lighter;\n",
       "  color: var(--sklearn-color-text-muted);\n",
       "}\n",
       "\n",
       "#sk-container-id-1 label.sk-toggleable__label-arrow:before {\n",
       "  /* Arrow on the left of the label */\n",
       "  content: \"▸\";\n",
       "  float: left;\n",
       "  margin-right: 0.25em;\n",
       "  color: var(--sklearn-color-icon);\n",
       "}\n",
       "\n",
       "#sk-container-id-1 label.sk-toggleable__label-arrow:hover:before {\n",
       "  color: var(--sklearn-color-text);\n",
       "}\n",
       "\n",
       "/* Toggleable content - dropdown */\n",
       "\n",
       "#sk-container-id-1 div.sk-toggleable__content {\n",
       "  max-height: 0;\n",
       "  max-width: 0;\n",
       "  overflow: hidden;\n",
       "  text-align: left;\n",
       "  /* unfitted */\n",
       "  background-color: var(--sklearn-color-unfitted-level-0);\n",
       "}\n",
       "\n",
       "#sk-container-id-1 div.sk-toggleable__content.fitted {\n",
       "  /* fitted */\n",
       "  background-color: var(--sklearn-color-fitted-level-0);\n",
       "}\n",
       "\n",
       "#sk-container-id-1 div.sk-toggleable__content pre {\n",
       "  margin: 0.2em;\n",
       "  border-radius: 0.25em;\n",
       "  color: var(--sklearn-color-text);\n",
       "  /* unfitted */\n",
       "  background-color: var(--sklearn-color-unfitted-level-0);\n",
       "}\n",
       "\n",
       "#sk-container-id-1 div.sk-toggleable__content.fitted pre {\n",
       "  /* unfitted */\n",
       "  background-color: var(--sklearn-color-fitted-level-0);\n",
       "}\n",
       "\n",
       "#sk-container-id-1 input.sk-toggleable__control:checked~div.sk-toggleable__content {\n",
       "  /* Expand drop-down */\n",
       "  max-height: 200px;\n",
       "  max-width: 100%;\n",
       "  overflow: auto;\n",
       "}\n",
       "\n",
       "#sk-container-id-1 input.sk-toggleable__control:checked~label.sk-toggleable__label-arrow:before {\n",
       "  content: \"▾\";\n",
       "}\n",
       "\n",
       "/* Pipeline/ColumnTransformer-specific style */\n",
       "\n",
       "#sk-container-id-1 div.sk-label input.sk-toggleable__control:checked~label.sk-toggleable__label {\n",
       "  color: var(--sklearn-color-text);\n",
       "  background-color: var(--sklearn-color-unfitted-level-2);\n",
       "}\n",
       "\n",
       "#sk-container-id-1 div.sk-label.fitted input.sk-toggleable__control:checked~label.sk-toggleable__label {\n",
       "  background-color: var(--sklearn-color-fitted-level-2);\n",
       "}\n",
       "\n",
       "/* Estimator-specific style */\n",
       "\n",
       "/* Colorize estimator box */\n",
       "#sk-container-id-1 div.sk-estimator input.sk-toggleable__control:checked~label.sk-toggleable__label {\n",
       "  /* unfitted */\n",
       "  background-color: var(--sklearn-color-unfitted-level-2);\n",
       "}\n",
       "\n",
       "#sk-container-id-1 div.sk-estimator.fitted input.sk-toggleable__control:checked~label.sk-toggleable__label {\n",
       "  /* fitted */\n",
       "  background-color: var(--sklearn-color-fitted-level-2);\n",
       "}\n",
       "\n",
       "#sk-container-id-1 div.sk-label label.sk-toggleable__label,\n",
       "#sk-container-id-1 div.sk-label label {\n",
       "  /* The background is the default theme color */\n",
       "  color: var(--sklearn-color-text-on-default-background);\n",
       "}\n",
       "\n",
       "/* On hover, darken the color of the background */\n",
       "#sk-container-id-1 div.sk-label:hover label.sk-toggleable__label {\n",
       "  color: var(--sklearn-color-text);\n",
       "  background-color: var(--sklearn-color-unfitted-level-2);\n",
       "}\n",
       "\n",
       "/* Label box, darken color on hover, fitted */\n",
       "#sk-container-id-1 div.sk-label.fitted:hover label.sk-toggleable__label.fitted {\n",
       "  color: var(--sklearn-color-text);\n",
       "  background-color: var(--sklearn-color-fitted-level-2);\n",
       "}\n",
       "\n",
       "/* Estimator label */\n",
       "\n",
       "#sk-container-id-1 div.sk-label label {\n",
       "  font-family: monospace;\n",
       "  font-weight: bold;\n",
       "  display: inline-block;\n",
       "  line-height: 1.2em;\n",
       "}\n",
       "\n",
       "#sk-container-id-1 div.sk-label-container {\n",
       "  text-align: center;\n",
       "}\n",
       "\n",
       "/* Estimator-specific */\n",
       "#sk-container-id-1 div.sk-estimator {\n",
       "  font-family: monospace;\n",
       "  border: 1px dotted var(--sklearn-color-border-box);\n",
       "  border-radius: 0.25em;\n",
       "  box-sizing: border-box;\n",
       "  margin-bottom: 0.5em;\n",
       "  /* unfitted */\n",
       "  background-color: var(--sklearn-color-unfitted-level-0);\n",
       "}\n",
       "\n",
       "#sk-container-id-1 div.sk-estimator.fitted {\n",
       "  /* fitted */\n",
       "  background-color: var(--sklearn-color-fitted-level-0);\n",
       "}\n",
       "\n",
       "/* on hover */\n",
       "#sk-container-id-1 div.sk-estimator:hover {\n",
       "  /* unfitted */\n",
       "  background-color: var(--sklearn-color-unfitted-level-2);\n",
       "}\n",
       "\n",
       "#sk-container-id-1 div.sk-estimator.fitted:hover {\n",
       "  /* fitted */\n",
       "  background-color: var(--sklearn-color-fitted-level-2);\n",
       "}\n",
       "\n",
       "/* Specification for estimator info (e.g. \"i\" and \"?\") */\n",
       "\n",
       "/* Common style for \"i\" and \"?\" */\n",
       "\n",
       ".sk-estimator-doc-link,\n",
       "a:link.sk-estimator-doc-link,\n",
       "a:visited.sk-estimator-doc-link {\n",
       "  float: right;\n",
       "  font-size: smaller;\n",
       "  line-height: 1em;\n",
       "  font-family: monospace;\n",
       "  background-color: var(--sklearn-color-background);\n",
       "  border-radius: 1em;\n",
       "  height: 1em;\n",
       "  width: 1em;\n",
       "  text-decoration: none !important;\n",
       "  margin-left: 0.5em;\n",
       "  text-align: center;\n",
       "  /* unfitted */\n",
       "  border: var(--sklearn-color-unfitted-level-1) 1pt solid;\n",
       "  color: var(--sklearn-color-unfitted-level-1);\n",
       "}\n",
       "\n",
       ".sk-estimator-doc-link.fitted,\n",
       "a:link.sk-estimator-doc-link.fitted,\n",
       "a:visited.sk-estimator-doc-link.fitted {\n",
       "  /* fitted */\n",
       "  border: var(--sklearn-color-fitted-level-1) 1pt solid;\n",
       "  color: var(--sklearn-color-fitted-level-1);\n",
       "}\n",
       "\n",
       "/* On hover */\n",
       "div.sk-estimator:hover .sk-estimator-doc-link:hover,\n",
       ".sk-estimator-doc-link:hover,\n",
       "div.sk-label-container:hover .sk-estimator-doc-link:hover,\n",
       ".sk-estimator-doc-link:hover {\n",
       "  /* unfitted */\n",
       "  background-color: var(--sklearn-color-unfitted-level-3);\n",
       "  color: var(--sklearn-color-background);\n",
       "  text-decoration: none;\n",
       "}\n",
       "\n",
       "div.sk-estimator.fitted:hover .sk-estimator-doc-link.fitted:hover,\n",
       ".sk-estimator-doc-link.fitted:hover,\n",
       "div.sk-label-container:hover .sk-estimator-doc-link.fitted:hover,\n",
       ".sk-estimator-doc-link.fitted:hover {\n",
       "  /* fitted */\n",
       "  background-color: var(--sklearn-color-fitted-level-3);\n",
       "  color: var(--sklearn-color-background);\n",
       "  text-decoration: none;\n",
       "}\n",
       "\n",
       "/* Span, style for the box shown on hovering the info icon */\n",
       ".sk-estimator-doc-link span {\n",
       "  display: none;\n",
       "  z-index: 9999;\n",
       "  position: relative;\n",
       "  font-weight: normal;\n",
       "  right: .2ex;\n",
       "  padding: .5ex;\n",
       "  margin: .5ex;\n",
       "  width: min-content;\n",
       "  min-width: 20ex;\n",
       "  max-width: 50ex;\n",
       "  color: var(--sklearn-color-text);\n",
       "  box-shadow: 2pt 2pt 4pt #999;\n",
       "  /* unfitted */\n",
       "  background: var(--sklearn-color-unfitted-level-0);\n",
       "  border: .5pt solid var(--sklearn-color-unfitted-level-3);\n",
       "}\n",
       "\n",
       ".sk-estimator-doc-link.fitted span {\n",
       "  /* fitted */\n",
       "  background: var(--sklearn-color-fitted-level-0);\n",
       "  border: var(--sklearn-color-fitted-level-3);\n",
       "}\n",
       "\n",
       ".sk-estimator-doc-link:hover span {\n",
       "  display: block;\n",
       "}\n",
       "\n",
       "/* \"?\"-specific style due to the `<a>` HTML tag */\n",
       "\n",
       "#sk-container-id-1 a.estimator_doc_link {\n",
       "  float: right;\n",
       "  font-size: 1rem;\n",
       "  line-height: 1em;\n",
       "  font-family: monospace;\n",
       "  background-color: var(--sklearn-color-background);\n",
       "  border-radius: 1rem;\n",
       "  height: 1rem;\n",
       "  width: 1rem;\n",
       "  text-decoration: none;\n",
       "  /* unfitted */\n",
       "  color: var(--sklearn-color-unfitted-level-1);\n",
       "  border: var(--sklearn-color-unfitted-level-1) 1pt solid;\n",
       "}\n",
       "\n",
       "#sk-container-id-1 a.estimator_doc_link.fitted {\n",
       "  /* fitted */\n",
       "  border: var(--sklearn-color-fitted-level-1) 1pt solid;\n",
       "  color: var(--sklearn-color-fitted-level-1);\n",
       "}\n",
       "\n",
       "/* On hover */\n",
       "#sk-container-id-1 a.estimator_doc_link:hover {\n",
       "  /* unfitted */\n",
       "  background-color: var(--sklearn-color-unfitted-level-3);\n",
       "  color: var(--sklearn-color-background);\n",
       "  text-decoration: none;\n",
       "}\n",
       "\n",
       "#sk-container-id-1 a.estimator_doc_link.fitted:hover {\n",
       "  /* fitted */\n",
       "  background-color: var(--sklearn-color-fitted-level-3);\n",
       "}\n",
       "</style><div id=\"sk-container-id-1\" class=\"sk-top-container\"><div class=\"sk-text-repr-fallback\"><pre>ColumnTransformer(force_int_remainder_cols=False, n_jobs=-1,\n",
       "                  remainder=&#x27;passthrough&#x27;,\n",
       "                  transformers=[(&#x27;ohe&#x27;,\n",
       "                                 OneHotEncoder(drop=&#x27;first&#x27;,\n",
       "                                               sparse_output=False),\n",
       "                                 [&#x27;region&#x27;, &#x27;day_of_week&#x27;])])</pre><b>In a Jupyter environment, please rerun this cell to show the HTML representation or trust the notebook. <br />On GitHub, the HTML representation is unable to render, please try loading this page with nbviewer.org.</b></div><div class=\"sk-container\" hidden><div class=\"sk-item sk-dashed-wrapped\"><div class=\"sk-label-container\"><div class=\"sk-label  sk-toggleable\"><input class=\"sk-toggleable__control sk-hidden--visually\" id=\"sk-estimator-id-1\" type=\"checkbox\" ><label for=\"sk-estimator-id-1\" class=\"sk-toggleable__label  sk-toggleable__label-arrow\"><div><div>ColumnTransformer</div></div><div><a class=\"sk-estimator-doc-link \" rel=\"noreferrer\" target=\"_blank\" href=\"https://scikit-learn.org/1.6/modules/generated/sklearn.compose.ColumnTransformer.html\">?<span>Documentation for ColumnTransformer</span></a><span class=\"sk-estimator-doc-link \">i<span>Not fitted</span></span></div></label><div class=\"sk-toggleable__content \"><pre>ColumnTransformer(force_int_remainder_cols=False, n_jobs=-1,\n",
       "                  remainder=&#x27;passthrough&#x27;,\n",
       "                  transformers=[(&#x27;ohe&#x27;,\n",
       "                                 OneHotEncoder(drop=&#x27;first&#x27;,\n",
       "                                               sparse_output=False),\n",
       "                                 [&#x27;region&#x27;, &#x27;day_of_week&#x27;])])</pre></div> </div></div><div class=\"sk-parallel\"><div class=\"sk-parallel-item\"><div class=\"sk-item\"><div class=\"sk-label-container\"><div class=\"sk-label  sk-toggleable\"><input class=\"sk-toggleable__control sk-hidden--visually\" id=\"sk-estimator-id-2\" type=\"checkbox\" ><label for=\"sk-estimator-id-2\" class=\"sk-toggleable__label  sk-toggleable__label-arrow\"><div><div>ohe</div></div></label><div class=\"sk-toggleable__content \"><pre>[&#x27;region&#x27;, &#x27;day_of_week&#x27;]</pre></div> </div></div><div class=\"sk-serial\"><div class=\"sk-item\"><div class=\"sk-estimator  sk-toggleable\"><input class=\"sk-toggleable__control sk-hidden--visually\" id=\"sk-estimator-id-3\" type=\"checkbox\" ><label for=\"sk-estimator-id-3\" class=\"sk-toggleable__label  sk-toggleable__label-arrow\"><div><div>OneHotEncoder</div></div><div><a class=\"sk-estimator-doc-link \" rel=\"noreferrer\" target=\"_blank\" href=\"https://scikit-learn.org/1.6/modules/generated/sklearn.preprocessing.OneHotEncoder.html\">?<span>Documentation for OneHotEncoder</span></a></div></label><div class=\"sk-toggleable__content \"><pre>OneHotEncoder(drop=&#x27;first&#x27;, sparse_output=False)</pre></div> </div></div></div></div></div><div class=\"sk-parallel-item\"><div class=\"sk-item\"><div class=\"sk-label-container\"><div class=\"sk-label  sk-toggleable\"><input class=\"sk-toggleable__control sk-hidden--visually\" id=\"sk-estimator-id-4\" type=\"checkbox\" ><label for=\"sk-estimator-id-4\" class=\"sk-toggleable__label  sk-toggleable__label-arrow\"><div><div>remainder</div></div></label><div class=\"sk-toggleable__content \"><pre></pre></div> </div></div><div class=\"sk-serial\"><div class=\"sk-item\"><div class=\"sk-estimator  sk-toggleable\"><input class=\"sk-toggleable__control sk-hidden--visually\" id=\"sk-estimator-id-5\" type=\"checkbox\" ><label for=\"sk-estimator-id-5\" class=\"sk-toggleable__label  sk-toggleable__label-arrow\"><div><div>passthrough</div></div></label><div class=\"sk-toggleable__content \"><pre>passthrough</pre></div> </div></div></div></div></div></div></div></div></div>"
      ],
      "text/plain": [
       "ColumnTransformer(force_int_remainder_cols=False, n_jobs=-1,\n",
       "                  remainder='passthrough',\n",
       "                  transformers=[('ohe',\n",
       "                                 OneHotEncoder(drop='first',\n",
       "                                               sparse_output=False),\n",
       "                                 ['region', 'day_of_week'])])"
      ]
     },
     "execution_count": 14,
     "metadata": {},
     "output_type": "execute_result"
    }
   ],
   "source": [
    "encoder"
   ]
  },
  {
   "cell_type": "code",
   "execution_count": 15,
   "id": "6da50994",
   "metadata": {},
   "outputs": [],
   "source": [
    "# encode the train and test data\n",
    "\n",
    "X_train_encoded = encoder.fit_transform(X_train)\n",
    "X_test_encoded = encoder.transform(X_test)"
   ]
  },
  {
   "cell_type": "code",
   "execution_count": 16,
   "id": "4628a7e3",
   "metadata": {},
   "outputs": [
    {
     "name": "stderr",
     "output_type": "stream",
     "text": [
      "d:\\uber-demand-prediction\\myenv\\Lib\\site-packages\\tqdm\\auto.py:21: TqdmWarning: IProgress not found. Please update jupyter and ipywidgets. See https://ipywidgets.readthedocs.io/en/stable/user_install.html\n",
      "  from .autonotebook import tqdm as notebook_tqdm\n"
     ]
    }
   ],
   "source": [
    "import optuna\n",
    "import tqdm "
   ]
  },
  {
   "cell_type": "code",
   "execution_count": 17,
   "id": "b5fcf070",
   "metadata": {},
   "outputs": [
    {
     "name": "stderr",
     "output_type": "stream",
     "text": [
      "2025/07/03 12:50:11 INFO mlflow.tracking.fluent: Experiment with name 'Model Selection' does not exist. Creating a new experiment.\n"
     ]
    },
    {
     "data": {
      "text/plain": [
       "<Experiment: artifact_location='mlflow-artifacts:/12a2c2f8972b4d9389ac2636e4442a0d', creation_time=1751527209678, experiment_id='0', last_update_time=1751527209678, lifecycle_stage='active', name='Model Selection', tags={}>"
      ]
     },
     "execution_count": 17,
     "metadata": {},
     "output_type": "execute_result"
    }
   ],
   "source": [
    "# set the experiment\n",
    "\n",
    "mlflow.set_experiment(\"Model Selection\")"
   ]
  },
  {
   "cell_type": "code",
   "execution_count": 18,
   "id": "87592402",
   "metadata": {},
   "outputs": [],
   "source": [
    "def objective(trial):\n",
    "    # start the child run\n",
    "    with mlflow.start_run(nested=True) as child:\n",
    "        \n",
    "        # model name search space\n",
    "        list_of_models = [\"LR\", \"RF\", \"GBR\", \"XGBR\"]\n",
    "        model_name = trial.suggest_categorical(\"model_name\", list_of_models)\n",
    "    \n",
    "        if model_name == \"LR\":\n",
    "            model = LinearRegression()\n",
    "    \n",
    "        elif model_name == \"RF\":\n",
    "            n_estimators_rf = trial.suggest_int(\"n_estimators_rf\",10,100,step=10)\n",
    "            max_depth_rf = trial.suggest_int(\"max_depth_rf\",3,10)\n",
    "            model = RandomForestRegressor(n_estimators=n_estimators_rf, \n",
    "                                          max_depth=max_depth_rf, \n",
    "                                          random_state=42, n_jobs=-1)\n",
    "    \n",
    "        elif model_name == \"GBR\":\n",
    "            n_estimators_gb = trial.suggest_int(\"n_estimators_gb\",10,100,step=10)\n",
    "            learning_rate_gb = trial.suggest_float(\"learning_rate_gb\",1e-4,1e-1, log=True)\n",
    "            model = GradientBoostingRegressor(n_estimators=n_estimators_gb, \n",
    "                                              learning_rate=learning_rate_gb,\n",
    "                                             random_state=42)\n",
    "    \n",
    "        elif model_name == \"XGBR\":\n",
    "            n_estimators_xgb = trial.suggest_int(\"n_estimators_xgb\",10,100,step=10)\n",
    "            learning_rate_xgb = trial.suggest_float(\"learning_rate_xgb\",1e-4,1e-1, log=True)\n",
    "            max_depth_xgb = trial.suggest_int(\"max_depth_xgb\",3,10)\n",
    "            model = XGBRegressor(n_estimators=n_estimators_xgb,\n",
    "                                learning_rate=learning_rate_xgb,\n",
    "                                max_depth=max_depth_xgb)\n",
    "    \n",
    "        # log the model name\n",
    "        mlflow.log_param(\"model_name\",model_name)\n",
    "        \n",
    "        # log the model parameters\n",
    "        mlflow.log_params(model.get_params())\n",
    "        \n",
    "        # fit on the data\n",
    "        model.fit(X_train_encoded,y_train)\n",
    "    \n",
    "        # get the predictions\n",
    "        y_pred = model.predict(X_test_encoded)\n",
    "    \n",
    "        # calculate the loss\n",
    "        loss = mean_absolute_percentage_error(y_test, y_pred)\n",
    "    \n",
    "        # log the metric\n",
    "        mlflow.log_metric(\"MAPE\",loss)\n",
    "        return loss"
   ]
  },
  {
   "cell_type": "code",
   "execution_count": 19,
   "id": "5c8ec045",
   "metadata": {},
   "outputs": [
    {
     "name": "stderr",
     "output_type": "stream",
     "text": [
      "[I 2025-07-03 12:50:34,671] A new study created in memory with name: model_selection\n"
     ]
    },
    {
     "name": "stdout",
     "output_type": "stream",
     "text": [
      "🏃 View run judicious-conch-93 at: https://dagshub.com/aniketnandanwar09/uber-demand-prediction.mlflow/#/experiments/0/runs/2e44327aa4044a62a5e8c4b6f30a6e61\n",
      "🧪 View experiment at: https://dagshub.com/aniketnandanwar09/uber-demand-prediction.mlflow/#/experiments/0\n",
      "🏃 View run selective-sow-784 at: https://dagshub.com/aniketnandanwar09/uber-demand-prediction.mlflow/#/experiments/0/runs/983633b254fb49298aaddb582de03235\n",
      "🧪 View experiment at: https://dagshub.com/aniketnandanwar09/uber-demand-prediction.mlflow/#/experiments/0\n",
      "🏃 View run dapper-moth-794 at: https://dagshub.com/aniketnandanwar09/uber-demand-prediction.mlflow/#/experiments/0/runs/f6a5095cb3d0407b832d3f54aff85e91\n",
      "🧪 View experiment at: https://dagshub.com/aniketnandanwar09/uber-demand-prediction.mlflow/#/experiments/0\n",
      "🏃 View run incongruous-mare-435 at: https://dagshub.com/aniketnandanwar09/uber-demand-prediction.mlflow/#/experiments/0/runs/c696a969fbe64acc8b2796e65d0acede\n",
      "🧪 View experiment at: https://dagshub.com/aniketnandanwar09/uber-demand-prediction.mlflow/#/experiments/0\n"
     ]
    },
    {
     "name": "stderr",
     "output_type": "stream",
     "text": [
      "[I 2025-07-03 12:51:17,645] Trial 5 finished with value: 0.07934790285463077 and parameters: {'model_name': 'LR'}. Best is trial 5 with value: 0.07934790285463077.\n",
      "[I 2025-07-03 12:51:20,622] Trial 10 finished with value: 0.07934790285463077 and parameters: {'model_name': 'LR'}. Best is trial 5 with value: 0.07934790285463077.\n"
     ]
    },
    {
     "name": "stdout",
     "output_type": "stream",
     "text": [
      "🏃 View run redolent-hen-154 at: https://dagshub.com/aniketnandanwar09/uber-demand-prediction.mlflow/#/experiments/0/runs/579d65724d8b440997dfab901dfeb2d0\n",
      "🧪 View experiment at: https://dagshub.com/aniketnandanwar09/uber-demand-prediction.mlflow/#/experiments/0\n"
     ]
    },
    {
     "name": "stderr",
     "output_type": "stream",
     "text": [
      "[I 2025-07-03 12:51:23,611] Trial 9 finished with value: 0.07934790285463077 and parameters: {'model_name': 'LR'}. Best is trial 5 with value: 0.07934790285463077.\n"
     ]
    },
    {
     "name": "stdout",
     "output_type": "stream",
     "text": [
      "🏃 View run sassy-skink-724 at: https://dagshub.com/aniketnandanwar09/uber-demand-prediction.mlflow/#/experiments/0/runs/606f959aecde4d9d972419f4abd33e6e\n",
      "🧪 View experiment at: https://dagshub.com/aniketnandanwar09/uber-demand-prediction.mlflow/#/experiments/0\n",
      "🏃 View run luxuriant-boar-767 at: https://dagshub.com/aniketnandanwar09/uber-demand-prediction.mlflow/#/experiments/0/runs/3560e2faa24d4294b30dff008ab9e7ea\n",
      "🧪 View experiment at: https://dagshub.com/aniketnandanwar09/uber-demand-prediction.mlflow/#/experiments/0\n"
     ]
    },
    {
     "name": "stderr",
     "output_type": "stream",
     "text": [
      "[I 2025-07-03 12:51:31,652] Trial 14 finished with value: 0.07934790285463077 and parameters: {'model_name': 'LR'}. Best is trial 5 with value: 0.07934790285463077.\n",
      "[I 2025-07-03 12:51:38,624] Trial 4 finished with value: 0.12902721652852625 and parameters: {'model_name': 'RF', 'n_estimators_rf': 40, 'max_depth_rf': 10}. Best is trial 5 with value: 0.07934790285463077.\n",
      "[I 2025-07-03 12:51:39,619] Trial 13 finished with value: 0.12869255703306878 and parameters: {'model_name': 'RF', 'n_estimators_rf': 70, 'max_depth_rf': 10}. Best is trial 5 with value: 0.07934790285463077.\n"
     ]
    },
    {
     "name": "stdout",
     "output_type": "stream",
     "text": [
      "🏃 View run thoughtful-bat-696 at: https://dagshub.com/aniketnandanwar09/uber-demand-prediction.mlflow/#/experiments/0/runs/907d0d65662c4713b04feb0330193d1d\n",
      "🧪 View experiment at: https://dagshub.com/aniketnandanwar09/uber-demand-prediction.mlflow/#/experiments/0\n",
      "🏃 View run luminous-yak-58 at: https://dagshub.com/aniketnandanwar09/uber-demand-prediction.mlflow/#/experiments/0/runs/171ae94330184a458f1ca3ecf20a1fc5\n",
      "🧪 View experiment at: https://dagshub.com/aniketnandanwar09/uber-demand-prediction.mlflow/#/experiments/0\n",
      "🏃 View run trusting-yak-737 at: https://dagshub.com/aniketnandanwar09/uber-demand-prediction.mlflow/#/experiments/0/runs/bbc4feeea34144debdd3aa6efb21597c\n",
      "🧪 View experiment at: https://dagshub.com/aniketnandanwar09/uber-demand-prediction.mlflow/#/experiments/0\n"
     ]
    },
    {
     "name": "stderr",
     "output_type": "stream",
     "text": [
      "[I 2025-07-03 12:51:49,637] Trial 1 finished with value: 0.07934790285463077 and parameters: {'model_name': 'LR'}. Best is trial 5 with value: 0.07934790285463077.\n"
     ]
    },
    {
     "name": "stdout",
     "output_type": "stream",
     "text": [
      "🏃 View run nosy-finch-856 at: https://dagshub.com/aniketnandanwar09/uber-demand-prediction.mlflow/#/experiments/0/runs/023b99b4e34248c3bd25c8eacecc05a8\n",
      "🧪 View experiment at: https://dagshub.com/aniketnandanwar09/uber-demand-prediction.mlflow/#/experiments/0\n",
      "🏃 View run youthful-quail-911 at: https://dagshub.com/aniketnandanwar09/uber-demand-prediction.mlflow/#/experiments/0/runs/198adc5a2ce54990a24ad5502400da78\n",
      "🧪 View experiment at: https://dagshub.com/aniketnandanwar09/uber-demand-prediction.mlflow/#/experiments/0\n"
     ]
    },
    {
     "name": "stderr",
     "output_type": "stream",
     "text": [
      "[I 2025-07-03 12:51:55,645] Trial 8 finished with value: 6.518127366962824 and parameters: {'model_name': 'GBR', 'n_estimators_gb': 60, 'learning_rate_gb': 0.00016032223018053375}. Best is trial 5 with value: 0.07934790285463077.\n",
      "[I 2025-07-03 12:51:56,620] Trial 12 finished with value: 6.468470573425293 and parameters: {'model_name': 'XGBR', 'n_estimators_xgb': 40, 'learning_rate_xgb': 0.00042345439598323056, 'max_depth_xgb': 8}. Best is trial 5 with value: 0.07934790285463077.\n",
      "[I 2025-07-03 12:52:00,623] Trial 7 finished with value: 0.346799273930311 and parameters: {'model_name': 'RF', 'n_estimators_rf': 80, 'max_depth_rf': 4}. Best is trial 5 with value: 0.07934790285463077.\n",
      "[I 2025-07-03 12:52:02,649] Trial 15 finished with value: 0.07934790285463077 and parameters: {'model_name': 'LR'}. Best is trial 5 with value: 0.07934790285463077.\n"
     ]
    },
    {
     "name": "stdout",
     "output_type": "stream",
     "text": [
      "🏃 View run youthful-sheep-241 at: https://dagshub.com/aniketnandanwar09/uber-demand-prediction.mlflow/#/experiments/0/runs/12739c5e6e1f41f4b25d8cf7a29bef42\n",
      "🧪 View experiment at: https://dagshub.com/aniketnandanwar09/uber-demand-prediction.mlflow/#/experiments/0\n",
      "🏃 View run smiling-newt-947 at: https://dagshub.com/aniketnandanwar09/uber-demand-prediction.mlflow/#/experiments/0/runs/90ea1e4741354df09aec986082979431\n",
      "🧪 View experiment at: https://dagshub.com/aniketnandanwar09/uber-demand-prediction.mlflow/#/experiments/0\n",
      "🏃 View run rumbling-sow-138 at: https://dagshub.com/aniketnandanwar09/uber-demand-prediction.mlflow/#/experiments/0/runs/5457eb215ef3493aa6a6c935b3791d0e\n",
      "🧪 View experiment at: https://dagshub.com/aniketnandanwar09/uber-demand-prediction.mlflow/#/experiments/0\n",
      "🏃 View run wise-grouse-308 at: https://dagshub.com/aniketnandanwar09/uber-demand-prediction.mlflow/#/experiments/0/runs/4e047a0bf9974d74b41ce775d8c3be68\n",
      "🧪 View experiment at: https://dagshub.com/aniketnandanwar09/uber-demand-prediction.mlflow/#/experiments/0\n"
     ]
    },
    {
     "name": "stderr",
     "output_type": "stream",
     "text": [
      "[I 2025-07-03 12:52:14,641] Trial 2 finished with value: 3.4535969440357497 and parameters: {'model_name': 'GBR', 'n_estimators_gb': 80, 'learning_rate_gb': 0.008712037048469234}. Best is trial 5 with value: 0.07934790285463077.\n",
      "[I 2025-07-03 12:52:18,619] Trial 3 finished with value: 1.4621895698187166 and parameters: {'model_name': 'GBR', 'n_estimators_gb': 100, 'learning_rate_gb': 0.016771656214459186}. Best is trial 5 with value: 0.07934790285463077.\n",
      "[I 2025-07-03 12:52:23,624] Trial 18 finished with value: 6.523750305175781 and parameters: {'model_name': 'XGBR', 'n_estimators_xgb': 80, 'learning_rate_xgb': 0.00010880886439068517, 'max_depth_xgb': 3}. Best is trial 5 with value: 0.07934790285463077.\n",
      "[I 2025-07-03 12:52:25,640] Trial 0 finished with value: 6.442261622531529 and parameters: {'model_name': 'GBR', 'n_estimators_gb': 70, 'learning_rate_gb': 0.00031466569771030435}. Best is trial 5 with value: 0.07934790285463077.\n"
     ]
    },
    {
     "name": "stdout",
     "output_type": "stream",
     "text": [
      "🏃 View run crawling-ant-662 at: https://dagshub.com/aniketnandanwar09/uber-demand-prediction.mlflow/#/experiments/0/runs/244e0ec7652646e0bb0919a31badad42\n",
      "🧪 View experiment at: https://dagshub.com/aniketnandanwar09/uber-demand-prediction.mlflow/#/experiments/0\n",
      "🏃 View run angry-lynx-808 at: https://dagshub.com/aniketnandanwar09/uber-demand-prediction.mlflow/#/experiments/0/runs/b6b76c7934924376aa8701fd07fac3f8\n",
      "🧪 View experiment at: https://dagshub.com/aniketnandanwar09/uber-demand-prediction.mlflow/#/experiments/0\n"
     ]
    },
    {
     "name": "stderr",
     "output_type": "stream",
     "text": [
      "[I 2025-07-03 12:52:41,626] Trial 6 finished with value: 0.19833877206585285 and parameters: {'model_name': 'RF', 'n_estimators_rf': 50, 'max_depth_rf': 6}. Best is trial 5 with value: 0.07934790285463077.\n",
      "[I 2025-07-03 12:52:44,620] Trial 16 finished with value: 6.210500248145075 and parameters: {'model_name': 'GBR', 'n_estimators_gb': 70, 'learning_rate_gb': 0.0008706595672011671}. Best is trial 5 with value: 0.07934790285463077.\n"
     ]
    },
    {
     "name": "stdout",
     "output_type": "stream",
     "text": [
      "🏃 View run blushing-bird-470 at: https://dagshub.com/aniketnandanwar09/uber-demand-prediction.mlflow/#/experiments/0/runs/480d1a661df44e3d8c5dd40a5537425b\n",
      "🧪 View experiment at: https://dagshub.com/aniketnandanwar09/uber-demand-prediction.mlflow/#/experiments/0\n"
     ]
    },
    {
     "name": "stderr",
     "output_type": "stream",
     "text": [
      "[I 2025-07-03 12:53:03,574] Trial 20 finished with value: 0.07934790285463077 and parameters: {'model_name': 'LR'}. Best is trial 5 with value: 0.07934790285463077.\n"
     ]
    },
    {
     "name": "stdout",
     "output_type": "stream",
     "text": [
      "🏃 View run hilarious-goose-300 at: https://dagshub.com/aniketnandanwar09/uber-demand-prediction.mlflow/#/experiments/0/runs/b6ea0044cc1e4126bf38b4d36e1393f4\n",
      "🧪 View experiment at: https://dagshub.com/aniketnandanwar09/uber-demand-prediction.mlflow/#/experiments/0\n"
     ]
    },
    {
     "name": "stderr",
     "output_type": "stream",
     "text": [
      "[I 2025-07-03 12:53:04,807] Trial 19 finished with value: 0.3468547109487106 and parameters: {'model_name': 'RF', 'n_estimators_rf': 90, 'max_depth_rf': 4}. Best is trial 5 with value: 0.07934790285463077.\n"
     ]
    },
    {
     "name": "stdout",
     "output_type": "stream",
     "text": [
      "🏃 View run caring-zebra-959 at: https://dagshub.com/aniketnandanwar09/uber-demand-prediction.mlflow/#/experiments/0/runs/edb2a94c9f294f34806ffe415d6aea5f\n",
      "🧪 View experiment at: https://dagshub.com/aniketnandanwar09/uber-demand-prediction.mlflow/#/experiments/0\n"
     ]
    },
    {
     "name": "stderr",
     "output_type": "stream",
     "text": [
      "[I 2025-07-03 12:53:06,822] Trial 11 finished with value: 0.07934790285463077 and parameters: {'model_name': 'LR'}. Best is trial 5 with value: 0.07934790285463077.\n"
     ]
    },
    {
     "name": "stdout",
     "output_type": "stream",
     "text": [
      "🏃 View run sneaky-kite-914 at: https://dagshub.com/aniketnandanwar09/uber-demand-prediction.mlflow/#/experiments/0/runs/ee873ed477f44232ac19dadf5fc8be01\n",
      "🧪 View experiment at: https://dagshub.com/aniketnandanwar09/uber-demand-prediction.mlflow/#/experiments/0\n",
      "🏃 View run bedecked-cub-59 at: https://dagshub.com/aniketnandanwar09/uber-demand-prediction.mlflow/#/experiments/0/runs/b67d4b2000734dcfafb44f2ffb91cf85\n",
      "🧪 View experiment at: https://dagshub.com/aniketnandanwar09/uber-demand-prediction.mlflow/#/experiments/0\n",
      "🏃 View run mercurial-gnat-667 at: https://dagshub.com/aniketnandanwar09/uber-demand-prediction.mlflow/#/experiments/0/runs/6f59d87090fd432fbd68c96f48ff43d6\n",
      "🧪 View experiment at: https://dagshub.com/aniketnandanwar09/uber-demand-prediction.mlflow/#/experiments/0\n",
      "🏃 View run grandiose-bear-505 at: https://dagshub.com/aniketnandanwar09/uber-demand-prediction.mlflow/#/experiments/0/runs/c517cf2e721c4ce990f8fda668af3310\n",
      "🧪 View experiment at: https://dagshub.com/aniketnandanwar09/uber-demand-prediction.mlflow/#/experiments/0\n"
     ]
    },
    {
     "name": "stderr",
     "output_type": "stream",
     "text": [
      "[I 2025-07-03 12:53:18,080] Trial 27 finished with value: 0.07934790285463077 and parameters: {'model_name': 'LR'}. Best is trial 5 with value: 0.07934790285463077.\n"
     ]
    },
    {
     "name": "stdout",
     "output_type": "stream",
     "text": [
      "🏃 View run nosy-quail-972 at: https://dagshub.com/aniketnandanwar09/uber-demand-prediction.mlflow/#/experiments/0/runs/67805bc72856426c9cae083d48d514a1\n",
      "🧪 View experiment at: https://dagshub.com/aniketnandanwar09/uber-demand-prediction.mlflow/#/experiments/0\n"
     ]
    },
    {
     "name": "stderr",
     "output_type": "stream",
     "text": [
      "[I 2025-07-03 12:53:25,085] Trial 26 finished with value: 0.07934790285463077 and parameters: {'model_name': 'LR'}. Best is trial 5 with value: 0.07934790285463077.\n"
     ]
    },
    {
     "name": "stdout",
     "output_type": "stream",
     "text": [
      "🏃 View run mysterious-ram-717 at: https://dagshub.com/aniketnandanwar09/uber-demand-prediction.mlflow/#/experiments/0/runs/c773c232232a49ea80b9757836743060\n",
      "🧪 View experiment at: https://dagshub.com/aniketnandanwar09/uber-demand-prediction.mlflow/#/experiments/0\n"
     ]
    },
    {
     "name": "stderr",
     "output_type": "stream",
     "text": [
      "[I 2025-07-03 12:53:28,035] Trial 22 finished with value: 0.07934790285463077 and parameters: {'model_name': 'LR'}. Best is trial 5 with value: 0.07934790285463077.\n",
      "[I 2025-07-03 12:53:29,058] Trial 17 finished with value: 6.090576171875 and parameters: {'model_name': 'XGBR', 'n_estimators_xgb': 40, 'learning_rate_xgb': 0.0019492292117974533, 'max_depth_xgb': 7}. Best is trial 5 with value: 0.07934790285463077.\n"
     ]
    },
    {
     "name": "stdout",
     "output_type": "stream",
     "text": [
      "🏃 View run likeable-smelt-423 at: https://dagshub.com/aniketnandanwar09/uber-demand-prediction.mlflow/#/experiments/0/runs/833d60a8d992406f8acf7bce8fb33bbe\n",
      "🧪 View experiment at: https://dagshub.com/aniketnandanwar09/uber-demand-prediction.mlflow/#/experiments/0\n",
      "🏃 View run popular-shad-468 at: https://dagshub.com/aniketnandanwar09/uber-demand-prediction.mlflow/#/experiments/0/runs/c34b78a8c2864b5092ec9820a6fcad58\n",
      "🧪 View experiment at: https://dagshub.com/aniketnandanwar09/uber-demand-prediction.mlflow/#/experiments/0\n",
      "🏃 View run bald-cat-771 at: https://dagshub.com/aniketnandanwar09/uber-demand-prediction.mlflow/#/experiments/0/runs/858eb1a9c56942d0a944374b1dfc86b5\n",
      "🧪 View experiment at: https://dagshub.com/aniketnandanwar09/uber-demand-prediction.mlflow/#/experiments/0\n"
     ]
    },
    {
     "name": "stderr",
     "output_type": "stream",
     "text": [
      "[I 2025-07-03 12:53:34,031] Trial 28 finished with value: 0.07934790285463077 and parameters: {'model_name': 'LR'}. Best is trial 5 with value: 0.07934790285463077.\n",
      "[I 2025-07-03 12:53:35,046] Trial 24 finished with value: 0.07934790285463077 and parameters: {'model_name': 'LR'}. Best is trial 5 with value: 0.07934790285463077.\n",
      "[I 2025-07-03 12:53:36,034] Trial 29 finished with value: 0.07934790285463077 and parameters: {'model_name': 'LR'}. Best is trial 5 with value: 0.07934790285463077.\n",
      "[I 2025-07-03 12:53:41,035] Trial 31 finished with value: 0.07934790285463077 and parameters: {'model_name': 'LR'}. Best is trial 5 with value: 0.07934790285463077.\n",
      "[I 2025-07-03 12:53:42,044] Trial 30 finished with value: 0.07934790285463077 and parameters: {'model_name': 'LR'}. Best is trial 5 with value: 0.07934790285463077.\n",
      "[I 2025-07-03 12:53:43,043] Trial 23 finished with value: 0.07934790285463077 and parameters: {'model_name': 'LR'}. Best is trial 5 with value: 0.07934790285463077.\n"
     ]
    },
    {
     "name": "stdout",
     "output_type": "stream",
     "text": [
      "🏃 View run rumbling-loon-591 at: https://dagshub.com/aniketnandanwar09/uber-demand-prediction.mlflow/#/experiments/0/runs/ba4026234dea45eeba019b4ce802faab\n",
      "🧪 View experiment at: https://dagshub.com/aniketnandanwar09/uber-demand-prediction.mlflow/#/experiments/0\n",
      "🏃 View run brawny-moose-980 at: https://dagshub.com/aniketnandanwar09/uber-demand-prediction.mlflow/#/experiments/0/runs/2a54644270024f7589b1d19906a8231b\n",
      "🧪 View experiment at: https://dagshub.com/aniketnandanwar09/uber-demand-prediction.mlflow/#/experiments/0\n",
      "🏃 View run victorious-fox-857 at: https://dagshub.com/aniketnandanwar09/uber-demand-prediction.mlflow/#/experiments/0/runs/b5faf080a4154a0db8cd48744e405c96\n",
      "🧪 View experiment at: https://dagshub.com/aniketnandanwar09/uber-demand-prediction.mlflow/#/experiments/0\n"
     ]
    },
    {
     "name": "stderr",
     "output_type": "stream",
     "text": [
      "[I 2025-07-03 12:54:05,043] Trial 32 finished with value: 0.07934790285463077 and parameters: {'model_name': 'LR'}. Best is trial 5 with value: 0.07934790285463077.\n",
      "[I 2025-07-03 12:54:07,022] Trial 35 finished with value: 0.07934790285463077 and parameters: {'model_name': 'LR'}. Best is trial 5 with value: 0.07934790285463077.\n"
     ]
    },
    {
     "name": "stdout",
     "output_type": "stream",
     "text": [
      "🏃 View run auspicious-calf-18 at: https://dagshub.com/aniketnandanwar09/uber-demand-prediction.mlflow/#/experiments/0/runs/d2cde0902bfa43928ac1d210fc98eee2\n",
      "🧪 View experiment at: https://dagshub.com/aniketnandanwar09/uber-demand-prediction.mlflow/#/experiments/0\n"
     ]
    },
    {
     "name": "stderr",
     "output_type": "stream",
     "text": [
      "[I 2025-07-03 12:54:11,030] Trial 25 finished with value: 0.07934790285463077 and parameters: {'model_name': 'LR'}. Best is trial 5 with value: 0.07934790285463077.\n",
      "[I 2025-07-03 12:54:20,580] Trial 33 finished with value: 0.07934790285463077 and parameters: {'model_name': 'LR'}. Best is trial 5 with value: 0.07934790285463077.\n"
     ]
    },
    {
     "name": "stdout",
     "output_type": "stream",
     "text": [
      "🏃 View run carefree-goose-766 at: https://dagshub.com/aniketnandanwar09/uber-demand-prediction.mlflow/#/experiments/0/runs/0ba7fc2ca47648cfb7f5384aa180f60d\n",
      "🧪 View experiment at: https://dagshub.com/aniketnandanwar09/uber-demand-prediction.mlflow/#/experiments/0\n",
      "🏃 View run exultant-skunk-655 at: https://dagshub.com/aniketnandanwar09/uber-demand-prediction.mlflow/#/experiments/0/runs/9a74c30e851d4d6d82bcd0592dd8d4dc\n",
      "🧪 View experiment at: https://dagshub.com/aniketnandanwar09/uber-demand-prediction.mlflow/#/experiments/0\n",
      "🏃 View run intelligent-fish-977 at: https://dagshub.com/aniketnandanwar09/uber-demand-prediction.mlflow/#/experiments/0/runs/5d65de3486614021b1ce33300ab114eb\n",
      "🧪 View experiment at: https://dagshub.com/aniketnandanwar09/uber-demand-prediction.mlflow/#/experiments/0\n",
      "🏃 View run silent-shrew-297 at: https://dagshub.com/aniketnandanwar09/uber-demand-prediction.mlflow/#/experiments/0/runs/eec2e72742914f52a55fc7cb4df49a4d\n",
      "🧪 View experiment at: https://dagshub.com/aniketnandanwar09/uber-demand-prediction.mlflow/#/experiments/0\n"
     ]
    },
    {
     "name": "stderr",
     "output_type": "stream",
     "text": [
      "[I 2025-07-03 12:54:35,034] Trial 39 finished with value: 0.07934790285463077 and parameters: {'model_name': 'LR'}. Best is trial 5 with value: 0.07934790285463077.\n",
      "[I 2025-07-03 12:54:38,743] Trial 40 finished with value: 2.9876532554626465 and parameters: {'model_name': 'XGBR', 'n_estimators_xgb': 10, 'learning_rate_xgb': 0.08284629644370821, 'max_depth_xgb': 3}. Best is trial 5 with value: 0.07934790285463077.\n"
     ]
    },
    {
     "name": "stdout",
     "output_type": "stream",
     "text": [
      "🏃 View run inquisitive-ram-2 at: https://dagshub.com/aniketnandanwar09/uber-demand-prediction.mlflow/#/experiments/0/runs/907842d03e7443e5bdcd7355c4774ef2\n",
      "🧪 View experiment at: https://dagshub.com/aniketnandanwar09/uber-demand-prediction.mlflow/#/experiments/0\n"
     ]
    },
    {
     "name": "stderr",
     "output_type": "stream",
     "text": [
      "[I 2025-07-03 12:54:43,034] Trial 44 finished with value: 2.7592480182647705 and parameters: {'model_name': 'XGBR', 'n_estimators_xgb': 10, 'learning_rate_xgb': 0.08472974831608036, 'max_depth_xgb': 10}. Best is trial 5 with value: 0.07934790285463077.\n"
     ]
    },
    {
     "name": "stdout",
     "output_type": "stream",
     "text": [
      "🏃 View run delicate-yak-274 at: https://dagshub.com/aniketnandanwar09/uber-demand-prediction.mlflow/#/experiments/0/runs/2c322b6aa3a94c9bb424b5b666ff474d\n",
      "🧪 View experiment at: https://dagshub.com/aniketnandanwar09/uber-demand-prediction.mlflow/#/experiments/0\n"
     ]
    },
    {
     "name": "stderr",
     "output_type": "stream",
     "text": [
      "[I 2025-07-03 12:54:46,070] Trial 42 finished with value: 2.420549154281616 and parameters: {'model_name': 'XGBR', 'n_estimators_xgb': 10, 'learning_rate_xgb': 0.0969679309606886, 'max_depth_xgb': 10}. Best is trial 5 with value: 0.07934790285463077.\n"
     ]
    },
    {
     "name": "stdout",
     "output_type": "stream",
     "text": [
      "🏃 View run ambitious-carp-657 at: https://dagshub.com/aniketnandanwar09/uber-demand-prediction.mlflow/#/experiments/0/runs/90eceae673b74333be31376edfa3cc90\n",
      "🧪 View experiment at: https://dagshub.com/aniketnandanwar09/uber-demand-prediction.mlflow/#/experiments/0\n"
     ]
    },
    {
     "name": "stderr",
     "output_type": "stream",
     "text": [
      "[I 2025-07-03 12:54:50,043] Trial 41 finished with value: 2.8572630882263184 and parameters: {'model_name': 'XGBR', 'n_estimators_xgb': 10, 'learning_rate_xgb': 0.08144270629575048, 'max_depth_xgb': 10}. Best is trial 5 with value: 0.07934790285463077.\n"
     ]
    },
    {
     "name": "stdout",
     "output_type": "stream",
     "text": [
      "🏃 View run auspicious-trout-332 at: https://dagshub.com/aniketnandanwar09/uber-demand-prediction.mlflow/#/experiments/0/runs/40c478e3dad945f5a30cbbbca2a33cdc\n",
      "🧪 View experiment at: https://dagshub.com/aniketnandanwar09/uber-demand-prediction.mlflow/#/experiments/0\n",
      "🏃 View run receptive-grub-215 at: https://dagshub.com/aniketnandanwar09/uber-demand-prediction.mlflow/#/experiments/0/runs/330ce7e5ab9e49b2b4d14a58999198b2\n",
      "🧪 View experiment at: https://dagshub.com/aniketnandanwar09/uber-demand-prediction.mlflow/#/experiments/0\n"
     ]
    },
    {
     "name": "stderr",
     "output_type": "stream",
     "text": [
      "[I 2025-07-03 12:54:57,039] Trial 38 finished with value: 0.07934790285463077 and parameters: {'model_name': 'LR'}. Best is trial 5 with value: 0.07934790285463077.\n",
      "[I 2025-07-03 12:54:59,057] Trial 21 finished with value: 0.07934790285463077 and parameters: {'model_name': 'LR'}. Best is trial 5 with value: 0.07934790285463077.\n"
     ]
    },
    {
     "name": "stdout",
     "output_type": "stream",
     "text": [
      "🏃 View run funny-snake-138 at: https://dagshub.com/aniketnandanwar09/uber-demand-prediction.mlflow/#/experiments/0/runs/1c4a69e0260d4b3b94e909318dbbfd42\n",
      "🧪 View experiment at: https://dagshub.com/aniketnandanwar09/uber-demand-prediction.mlflow/#/experiments/0\n"
     ]
    },
    {
     "name": "stderr",
     "output_type": "stream",
     "text": [
      "[I 2025-07-03 12:55:01,047] Trial 46 finished with value: 0.07934790285463077 and parameters: {'model_name': 'LR'}. Best is trial 5 with value: 0.07934790285463077.\n"
     ]
    },
    {
     "name": "stdout",
     "output_type": "stream",
     "text": [
      "🏃 View run serious-grouse-666 at: https://dagshub.com/aniketnandanwar09/uber-demand-prediction.mlflow/#/experiments/0/runs/6ac93d21523642b7ae14c6d5a8039ca9\n",
      "🧪 View experiment at: https://dagshub.com/aniketnandanwar09/uber-demand-prediction.mlflow/#/experiments/0\n"
     ]
    },
    {
     "name": "stderr",
     "output_type": "stream",
     "text": [
      "[I 2025-07-03 12:55:06,047] Trial 34 finished with value: 0.07934790285463077 and parameters: {'model_name': 'LR'}. Best is trial 5 with value: 0.07934790285463077.\n"
     ]
    },
    {
     "name": "stdout",
     "output_type": "stream",
     "text": [
      "🏃 View run unique-gull-840 at: https://dagshub.com/aniketnandanwar09/uber-demand-prediction.mlflow/#/experiments/0/runs/270dffd4c1844d3cba6250989a618676\n",
      "🧪 View experiment at: https://dagshub.com/aniketnandanwar09/uber-demand-prediction.mlflow/#/experiments/0\n"
     ]
    },
    {
     "name": "stderr",
     "output_type": "stream",
     "text": [
      "[I 2025-07-03 12:55:08,066] Trial 47 finished with value: 0.07934790285463077 and parameters: {'model_name': 'LR'}. Best is trial 5 with value: 0.07934790285463077.\n"
     ]
    },
    {
     "name": "stdout",
     "output_type": "stream",
     "text": [
      "🏃 View run traveling-rook-513 at: https://dagshub.com/aniketnandanwar09/uber-demand-prediction.mlflow/#/experiments/0/runs/b4862cf3f51c483d95ea996bd47adb16\n",
      "🧪 View experiment at: https://dagshub.com/aniketnandanwar09/uber-demand-prediction.mlflow/#/experiments/0\n"
     ]
    },
    {
     "name": "stderr",
     "output_type": "stream",
     "text": [
      "[I 2025-07-03 12:55:10,073] Trial 45 finished with value: 2.8949763774871826 and parameters: {'model_name': 'XGBR', 'n_estimators_xgb': 10, 'learning_rate_xgb': 0.08020524838695875, 'max_depth_xgb': 10}. Best is trial 5 with value: 0.07934790285463077.\n",
      "[I 2025-07-03 12:55:13,040] Trial 48 finished with value: 3.9665421426490477 and parameters: {'model_name': 'GBR', 'n_estimators_gb': 10, 'learning_rate_gb': 0.053260960738546546}. Best is trial 5 with value: 0.07934790285463077.\n",
      "[I 2025-07-03 12:55:14,038] Trial 49 finished with value: 3.7694027255269673 and parameters: {'model_name': 'GBR', 'n_estimators_gb': 10, 'learning_rate_gb': 0.058480803236656574}. Best is trial 5 with value: 0.07934790285463077.\n"
     ]
    },
    {
     "name": "stdout",
     "output_type": "stream",
     "text": [
      "🏃 View run gentle-hound-814 at: https://dagshub.com/aniketnandanwar09/uber-demand-prediction.mlflow/#/experiments/0/runs/fe2d48eb07d7496f923618ba1cef8de8\n",
      "🧪 View experiment at: https://dagshub.com/aniketnandanwar09/uber-demand-prediction.mlflow/#/experiments/0\n",
      "🏃 View run sincere-yak-891 at: https://dagshub.com/aniketnandanwar09/uber-demand-prediction.mlflow/#/experiments/0/runs/a1f06d188b9c4362a4ede7600748adca\n",
      "🧪 View experiment at: https://dagshub.com/aniketnandanwar09/uber-demand-prediction.mlflow/#/experiments/0\n"
     ]
    },
    {
     "name": "stderr",
     "output_type": "stream",
     "text": [
      "[I 2025-07-03 12:55:18,045] Trial 37 finished with value: 3.315160649722866 and parameters: {'model_name': 'GBR', 'n_estimators_gb': 10, 'learning_rate_gb': 0.0718465890129626}. Best is trial 5 with value: 0.07934790285463077.\n",
      "[I 2025-07-03 12:55:19,075] Trial 43 finished with value: 3.611504077911377 and parameters: {'model_name': 'XGBR', 'n_estimators_xgb': 10, 'learning_rate_xgb': 0.059143547957673064, 'max_depth_xgb': 10}. Best is trial 5 with value: 0.07934790285463077.\n"
     ]
    },
    {
     "name": "stdout",
     "output_type": "stream",
     "text": [
      "🏃 View run grandiose-crow-854 at: https://dagshub.com/aniketnandanwar09/uber-demand-prediction.mlflow/#/experiments/0/runs/2fd9be7d9e684941be7e4d9319731bc7\n",
      "🧪 View experiment at: https://dagshub.com/aniketnandanwar09/uber-demand-prediction.mlflow/#/experiments/0\n"
     ]
    },
    {
     "name": "stderr",
     "output_type": "stream",
     "text": [
      "[I 2025-07-03 12:55:29,156] Trial 36 finished with value: 0.17712952157922202 and parameters: {'model_name': 'RF', 'n_estimators_rf': 10, 'max_depth_rf': 7}. Best is trial 5 with value: 0.07934790285463077.\n"
     ]
    },
    {
     "name": "stdout",
     "output_type": "stream",
     "text": [
      "🏃 View run best_model at: https://dagshub.com/aniketnandanwar09/uber-demand-prediction.mlflow/#/experiments/0/runs/97f0507dbd3244f899754f1234588bae\n",
      "🧪 View experiment at: https://dagshub.com/aniketnandanwar09/uber-demand-prediction.mlflow/#/experiments/0\n"
     ]
    }
   ],
   "source": [
    "# optimize the objective function\n",
    "\n",
    "with mlflow.start_run(run_name=\"best_model\", nested=True) as parent:\n",
    "\n",
    "    # create a study object\n",
    "    study = optuna.create_study(study_name=\"model_selection\", direction=\"minimize\")\n",
    "    # optimize the objective function\n",
    "    study.optimize(func=objective, n_trials=50, n_jobs=-1)\n",
    "    \n",
    "    # log the best parameters\n",
    "    mlflow.log_params(study.best_params)\n",
    "    # log the best error value\n",
    "    mlflow.log_metric(\"Best_MAPE\", study.best_value)"
   ]
  },
  {
   "cell_type": "code",
   "execution_count": 20,
   "id": "6feecfc0",
   "metadata": {},
   "outputs": [
    {
     "data": {
      "text/plain": [
       "0.07934790285463077"
      ]
     },
     "execution_count": 20,
     "metadata": {},
     "output_type": "execute_result"
    }
   ],
   "source": [
    "# best value\n",
    "\n",
    "study.best_value\n"
   ]
  },
  {
   "cell_type": "code",
   "execution_count": 21,
   "id": "bad33683",
   "metadata": {},
   "outputs": [
    {
     "data": {
      "text/plain": [
       "{'model_name': 'LR'}"
      ]
     },
     "execution_count": 21,
     "metadata": {},
     "output_type": "execute_result"
    }
   ],
   "source": [
    "# best parameters\n",
    "study.best_params"
   ]
  },
  {
   "cell_type": "code",
   "execution_count": 22,
   "id": "df950abd",
   "metadata": {},
   "outputs": [
    {
     "data": {
      "text/plain": [
       "params_model_name\n",
       "LR      27\n",
       "XGBR     9\n",
       "GBR      8\n",
       "RF       6\n",
       "Name: count, dtype: int64"
      ]
     },
     "execution_count": 22,
     "metadata": {},
     "output_type": "execute_result"
    }
   ],
   "source": [
    "# model value counts\n",
    "\n",
    "study.trials_dataframe()['params_model_name'].value_counts()"
   ]
  },
  {
   "cell_type": "code",
   "execution_count": 23,
   "id": "30cc3788",
   "metadata": {},
   "outputs": [],
   "source": [
    "from optuna.visualization import (\n",
    "    plot_optimization_history, \n",
    "    plot_parallel_coordinate, \n",
    "    plot_param_importances\n",
    ")"
   ]
  },
  {
   "cell_type": "code",
   "execution_count": 24,
   "id": "1d835b26",
   "metadata": {},
   "outputs": [
    {
     "ename": "ValueError",
     "evalue": "Mime type rendering requires nbformat>=4.2.0 but it is not installed",
     "output_type": "error",
     "traceback": [
      "\u001b[31m---------------------------------------------------------------------------\u001b[39m",
      "\u001b[31mValueError\u001b[39m                                Traceback (most recent call last)",
      "\u001b[36mFile \u001b[39m\u001b[32md:\\uber-demand-prediction\\myenv\\Lib\\site-packages\\IPython\\core\\formatters.py:984\u001b[39m, in \u001b[36mIPythonDisplayFormatter.__call__\u001b[39m\u001b[34m(self, obj)\u001b[39m\n\u001b[32m    982\u001b[39m method = get_real_method(obj, \u001b[38;5;28mself\u001b[39m.print_method)\n\u001b[32m    983\u001b[39m \u001b[38;5;28;01mif\u001b[39;00m method \u001b[38;5;129;01mis\u001b[39;00m \u001b[38;5;129;01mnot\u001b[39;00m \u001b[38;5;28;01mNone\u001b[39;00m:\n\u001b[32m--> \u001b[39m\u001b[32m984\u001b[39m     \u001b[43mmethod\u001b[49m\u001b[43m(\u001b[49m\u001b[43m)\u001b[49m\n\u001b[32m    985\u001b[39m     \u001b[38;5;28;01mreturn\u001b[39;00m \u001b[38;5;28;01mTrue\u001b[39;00m\n",
      "\u001b[36mFile \u001b[39m\u001b[32md:\\uber-demand-prediction\\myenv\\Lib\\site-packages\\plotly\\basedatatypes.py:833\u001b[39m, in \u001b[36mBaseFigure._ipython_display_\u001b[39m\u001b[34m(self)\u001b[39m\n\u001b[32m    830\u001b[39m \u001b[38;5;28;01mimport\u001b[39;00m\u001b[38;5;250m \u001b[39m\u001b[34;01mplotly\u001b[39;00m\u001b[34;01m.\u001b[39;00m\u001b[34;01mio\u001b[39;00m\u001b[38;5;250m \u001b[39m\u001b[38;5;28;01mas\u001b[39;00m\u001b[38;5;250m \u001b[39m\u001b[34;01mpio\u001b[39;00m\n\u001b[32m    832\u001b[39m \u001b[38;5;28;01mif\u001b[39;00m pio.renderers.render_on_display \u001b[38;5;129;01mand\u001b[39;00m pio.renderers.default:\n\u001b[32m--> \u001b[39m\u001b[32m833\u001b[39m     \u001b[43mpio\u001b[49m\u001b[43m.\u001b[49m\u001b[43mshow\u001b[49m\u001b[43m(\u001b[49m\u001b[38;5;28;43mself\u001b[39;49m\u001b[43m)\u001b[49m\n\u001b[32m    834\u001b[39m \u001b[38;5;28;01melse\u001b[39;00m:\n\u001b[32m    835\u001b[39m     \u001b[38;5;28mprint\u001b[39m(\u001b[38;5;28mrepr\u001b[39m(\u001b[38;5;28mself\u001b[39m))\n",
      "\u001b[36mFile \u001b[39m\u001b[32md:\\uber-demand-prediction\\myenv\\Lib\\site-packages\\plotly\\io\\_renderers.py:425\u001b[39m, in \u001b[36mshow\u001b[39m\u001b[34m(fig, renderer, validate, **kwargs)\u001b[39m\n\u001b[32m    420\u001b[39m     \u001b[38;5;28;01mraise\u001b[39;00m \u001b[38;5;167;01mValueError\u001b[39;00m(\n\u001b[32m    421\u001b[39m         \u001b[33m\"\u001b[39m\u001b[33mMime type rendering requires ipython but it is not installed\u001b[39m\u001b[33m\"\u001b[39m\n\u001b[32m    422\u001b[39m     )\n\u001b[32m    424\u001b[39m \u001b[38;5;28;01mif\u001b[39;00m \u001b[38;5;129;01mnot\u001b[39;00m nbformat \u001b[38;5;129;01mor\u001b[39;00m Version(nbformat.__version__) < Version(\u001b[33m\"\u001b[39m\u001b[33m4.2.0\u001b[39m\u001b[33m\"\u001b[39m):\n\u001b[32m--> \u001b[39m\u001b[32m425\u001b[39m     \u001b[38;5;28;01mraise\u001b[39;00m \u001b[38;5;167;01mValueError\u001b[39;00m(\n\u001b[32m    426\u001b[39m         \u001b[33m\"\u001b[39m\u001b[33mMime type rendering requires nbformat>=4.2.0 but it is not installed\u001b[39m\u001b[33m\"\u001b[39m\n\u001b[32m    427\u001b[39m     )\n\u001b[32m    429\u001b[39m display_jupyter_version_warnings()\n\u001b[32m    431\u001b[39m ipython_display.display(bundle, raw=\u001b[38;5;28;01mTrue\u001b[39;00m)\n",
      "\u001b[31mValueError\u001b[39m: Mime type rendering requires nbformat>=4.2.0 but it is not installed"
     ]
    },
    {
     "data": {
      "application/vnd.plotly.v1+json": {
       "config": {
        "plotlyServerURL": "https://plot.ly"
       },
       "data": [
        {
         "mode": "markers",
         "name": "Objective Value",
         "type": "scatter",
         "x": [
          0,
          1,
          2,
          3,
          4,
          5,
          6,
          7,
          8,
          9,
          10,
          11,
          12,
          13,
          14,
          15,
          16,
          17,
          18,
          19,
          20,
          21,
          22,
          23,
          24,
          25,
          26,
          27,
          28,
          29,
          30,
          31,
          32,
          33,
          34,
          35,
          36,
          37,
          38,
          39,
          40,
          41,
          42,
          43,
          44,
          45,
          46,
          47,
          48,
          49
         ],
         "y": [
          6.442261622531529,
          0.07934790285463077,
          3.4535969440357497,
          1.4621895698187166,
          0.12902721652852625,
          0.07934790285463077,
          0.19833877206585285,
          0.346799273930311,
          6.518127366962824,
          0.07934790285463077,
          0.07934790285463077,
          0.07934790285463077,
          6.468470573425293,
          0.12869255703306878,
          0.07934790285463077,
          0.07934790285463077,
          6.210500248145075,
          6.090576171875,
          6.523750305175781,
          0.3468547109487106,
          0.07934790285463077,
          0.07934790285463077,
          0.07934790285463077,
          0.07934790285463077,
          0.07934790285463077,
          0.07934790285463077,
          0.07934790285463077,
          0.07934790285463077,
          0.07934790285463077,
          0.07934790285463077,
          0.07934790285463077,
          0.07934790285463077,
          0.07934790285463077,
          0.07934790285463077,
          0.07934790285463077,
          0.07934790285463077,
          0.17712952157922202,
          3.315160649722866,
          0.07934790285463077,
          0.07934790285463077,
          2.9876532554626465,
          2.8572630882263184,
          2.420549154281616,
          3.611504077911377,
          2.7592480182647705,
          2.8949763774871826,
          0.07934790285463077,
          0.07934790285463077,
          3.9665421426490477,
          3.7694027255269673
         ]
        },
        {
         "mode": "lines",
         "name": "Best Value",
         "type": "scatter",
         "x": [
          0,
          1,
          2,
          3,
          4,
          5,
          6,
          7,
          8,
          9,
          10,
          11,
          12,
          13,
          14,
          15,
          16,
          17,
          18,
          19,
          20,
          21,
          22,
          23,
          24,
          25,
          26,
          27,
          28,
          29,
          30,
          31,
          32,
          33,
          34,
          35,
          36,
          37,
          38,
          39,
          40,
          41,
          42,
          43,
          44,
          45,
          46,
          47,
          48,
          49
         ],
         "y": [
          6.442261622531529,
          0.07934790285463077,
          0.07934790285463077,
          0.07934790285463077,
          0.07934790285463077,
          0.07934790285463077,
          0.07934790285463077,
          0.07934790285463077,
          0.07934790285463077,
          0.07934790285463077,
          0.07934790285463077,
          0.07934790285463077,
          0.07934790285463077,
          0.07934790285463077,
          0.07934790285463077,
          0.07934790285463077,
          0.07934790285463077,
          0.07934790285463077,
          0.07934790285463077,
          0.07934790285463077,
          0.07934790285463077,
          0.07934790285463077,
          0.07934790285463077,
          0.07934790285463077,
          0.07934790285463077,
          0.07934790285463077,
          0.07934790285463077,
          0.07934790285463077,
          0.07934790285463077,
          0.07934790285463077,
          0.07934790285463077,
          0.07934790285463077,
          0.07934790285463077,
          0.07934790285463077,
          0.07934790285463077,
          0.07934790285463077,
          0.07934790285463077,
          0.07934790285463077,
          0.07934790285463077,
          0.07934790285463077,
          0.07934790285463077,
          0.07934790285463077,
          0.07934790285463077,
          0.07934790285463077,
          0.07934790285463077,
          0.07934790285463077,
          0.07934790285463077,
          0.07934790285463077,
          0.07934790285463077,
          0.07934790285463077
         ]
        },
        {
         "marker": {
          "color": "#cccccc"
         },
         "mode": "markers",
         "name": "Infeasible Trial",
         "showlegend": false,
         "type": "scatter",
         "x": [],
         "y": []
        }
       ],
       "layout": {
        "template": {
         "data": {
          "bar": [
           {
            "error_x": {
             "color": "#2a3f5f"
            },
            "error_y": {
             "color": "#2a3f5f"
            },
            "marker": {
             "line": {
              "color": "#E5ECF6",
              "width": 0.5
             },
             "pattern": {
              "fillmode": "overlay",
              "size": 10,
              "solidity": 0.2
             }
            },
            "type": "bar"
           }
          ],
          "barpolar": [
           {
            "marker": {
             "line": {
              "color": "#E5ECF6",
              "width": 0.5
             },
             "pattern": {
              "fillmode": "overlay",
              "size": 10,
              "solidity": 0.2
             }
            },
            "type": "barpolar"
           }
          ],
          "carpet": [
           {
            "aaxis": {
             "endlinecolor": "#2a3f5f",
             "gridcolor": "white",
             "linecolor": "white",
             "minorgridcolor": "white",
             "startlinecolor": "#2a3f5f"
            },
            "baxis": {
             "endlinecolor": "#2a3f5f",
             "gridcolor": "white",
             "linecolor": "white",
             "minorgridcolor": "white",
             "startlinecolor": "#2a3f5f"
            },
            "type": "carpet"
           }
          ],
          "choropleth": [
           {
            "colorbar": {
             "outlinewidth": 0,
             "ticks": ""
            },
            "type": "choropleth"
           }
          ],
          "contour": [
           {
            "colorbar": {
             "outlinewidth": 0,
             "ticks": ""
            },
            "colorscale": [
             [
              0,
              "#0d0887"
             ],
             [
              0.1111111111111111,
              "#46039f"
             ],
             [
              0.2222222222222222,
              "#7201a8"
             ],
             [
              0.3333333333333333,
              "#9c179e"
             ],
             [
              0.4444444444444444,
              "#bd3786"
             ],
             [
              0.5555555555555556,
              "#d8576b"
             ],
             [
              0.6666666666666666,
              "#ed7953"
             ],
             [
              0.7777777777777778,
              "#fb9f3a"
             ],
             [
              0.8888888888888888,
              "#fdca26"
             ],
             [
              1,
              "#f0f921"
             ]
            ],
            "type": "contour"
           }
          ],
          "contourcarpet": [
           {
            "colorbar": {
             "outlinewidth": 0,
             "ticks": ""
            },
            "type": "contourcarpet"
           }
          ],
          "heatmap": [
           {
            "colorbar": {
             "outlinewidth": 0,
             "ticks": ""
            },
            "colorscale": [
             [
              0,
              "#0d0887"
             ],
             [
              0.1111111111111111,
              "#46039f"
             ],
             [
              0.2222222222222222,
              "#7201a8"
             ],
             [
              0.3333333333333333,
              "#9c179e"
             ],
             [
              0.4444444444444444,
              "#bd3786"
             ],
             [
              0.5555555555555556,
              "#d8576b"
             ],
             [
              0.6666666666666666,
              "#ed7953"
             ],
             [
              0.7777777777777778,
              "#fb9f3a"
             ],
             [
              0.8888888888888888,
              "#fdca26"
             ],
             [
              1,
              "#f0f921"
             ]
            ],
            "type": "heatmap"
           }
          ],
          "histogram": [
           {
            "marker": {
             "pattern": {
              "fillmode": "overlay",
              "size": 10,
              "solidity": 0.2
             }
            },
            "type": "histogram"
           }
          ],
          "histogram2d": [
           {
            "colorbar": {
             "outlinewidth": 0,
             "ticks": ""
            },
            "colorscale": [
             [
              0,
              "#0d0887"
             ],
             [
              0.1111111111111111,
              "#46039f"
             ],
             [
              0.2222222222222222,
              "#7201a8"
             ],
             [
              0.3333333333333333,
              "#9c179e"
             ],
             [
              0.4444444444444444,
              "#bd3786"
             ],
             [
              0.5555555555555556,
              "#d8576b"
             ],
             [
              0.6666666666666666,
              "#ed7953"
             ],
             [
              0.7777777777777778,
              "#fb9f3a"
             ],
             [
              0.8888888888888888,
              "#fdca26"
             ],
             [
              1,
              "#f0f921"
             ]
            ],
            "type": "histogram2d"
           }
          ],
          "histogram2dcontour": [
           {
            "colorbar": {
             "outlinewidth": 0,
             "ticks": ""
            },
            "colorscale": [
             [
              0,
              "#0d0887"
             ],
             [
              0.1111111111111111,
              "#46039f"
             ],
             [
              0.2222222222222222,
              "#7201a8"
             ],
             [
              0.3333333333333333,
              "#9c179e"
             ],
             [
              0.4444444444444444,
              "#bd3786"
             ],
             [
              0.5555555555555556,
              "#d8576b"
             ],
             [
              0.6666666666666666,
              "#ed7953"
             ],
             [
              0.7777777777777778,
              "#fb9f3a"
             ],
             [
              0.8888888888888888,
              "#fdca26"
             ],
             [
              1,
              "#f0f921"
             ]
            ],
            "type": "histogram2dcontour"
           }
          ],
          "mesh3d": [
           {
            "colorbar": {
             "outlinewidth": 0,
             "ticks": ""
            },
            "type": "mesh3d"
           }
          ],
          "parcoords": [
           {
            "line": {
             "colorbar": {
              "outlinewidth": 0,
              "ticks": ""
             }
            },
            "type": "parcoords"
           }
          ],
          "pie": [
           {
            "automargin": true,
            "type": "pie"
           }
          ],
          "scatter": [
           {
            "fillpattern": {
             "fillmode": "overlay",
             "size": 10,
             "solidity": 0.2
            },
            "type": "scatter"
           }
          ],
          "scatter3d": [
           {
            "line": {
             "colorbar": {
              "outlinewidth": 0,
              "ticks": ""
             }
            },
            "marker": {
             "colorbar": {
              "outlinewidth": 0,
              "ticks": ""
             }
            },
            "type": "scatter3d"
           }
          ],
          "scattercarpet": [
           {
            "marker": {
             "colorbar": {
              "outlinewidth": 0,
              "ticks": ""
             }
            },
            "type": "scattercarpet"
           }
          ],
          "scattergeo": [
           {
            "marker": {
             "colorbar": {
              "outlinewidth": 0,
              "ticks": ""
             }
            },
            "type": "scattergeo"
           }
          ],
          "scattergl": [
           {
            "marker": {
             "colorbar": {
              "outlinewidth": 0,
              "ticks": ""
             }
            },
            "type": "scattergl"
           }
          ],
          "scattermap": [
           {
            "marker": {
             "colorbar": {
              "outlinewidth": 0,
              "ticks": ""
             }
            },
            "type": "scattermap"
           }
          ],
          "scattermapbox": [
           {
            "marker": {
             "colorbar": {
              "outlinewidth": 0,
              "ticks": ""
             }
            },
            "type": "scattermapbox"
           }
          ],
          "scatterpolar": [
           {
            "marker": {
             "colorbar": {
              "outlinewidth": 0,
              "ticks": ""
             }
            },
            "type": "scatterpolar"
           }
          ],
          "scatterpolargl": [
           {
            "marker": {
             "colorbar": {
              "outlinewidth": 0,
              "ticks": ""
             }
            },
            "type": "scatterpolargl"
           }
          ],
          "scatterternary": [
           {
            "marker": {
             "colorbar": {
              "outlinewidth": 0,
              "ticks": ""
             }
            },
            "type": "scatterternary"
           }
          ],
          "surface": [
           {
            "colorbar": {
             "outlinewidth": 0,
             "ticks": ""
            },
            "colorscale": [
             [
              0,
              "#0d0887"
             ],
             [
              0.1111111111111111,
              "#46039f"
             ],
             [
              0.2222222222222222,
              "#7201a8"
             ],
             [
              0.3333333333333333,
              "#9c179e"
             ],
             [
              0.4444444444444444,
              "#bd3786"
             ],
             [
              0.5555555555555556,
              "#d8576b"
             ],
             [
              0.6666666666666666,
              "#ed7953"
             ],
             [
              0.7777777777777778,
              "#fb9f3a"
             ],
             [
              0.8888888888888888,
              "#fdca26"
             ],
             [
              1,
              "#f0f921"
             ]
            ],
            "type": "surface"
           }
          ],
          "table": [
           {
            "cells": {
             "fill": {
              "color": "#EBF0F8"
             },
             "line": {
              "color": "white"
             }
            },
            "header": {
             "fill": {
              "color": "#C8D4E3"
             },
             "line": {
              "color": "white"
             }
            },
            "type": "table"
           }
          ]
         },
         "layout": {
          "annotationdefaults": {
           "arrowcolor": "#2a3f5f",
           "arrowhead": 0,
           "arrowwidth": 1
          },
          "autotypenumbers": "strict",
          "coloraxis": {
           "colorbar": {
            "outlinewidth": 0,
            "ticks": ""
           }
          },
          "colorscale": {
           "diverging": [
            [
             0,
             "#8e0152"
            ],
            [
             0.1,
             "#c51b7d"
            ],
            [
             0.2,
             "#de77ae"
            ],
            [
             0.3,
             "#f1b6da"
            ],
            [
             0.4,
             "#fde0ef"
            ],
            [
             0.5,
             "#f7f7f7"
            ],
            [
             0.6,
             "#e6f5d0"
            ],
            [
             0.7,
             "#b8e186"
            ],
            [
             0.8,
             "#7fbc41"
            ],
            [
             0.9,
             "#4d9221"
            ],
            [
             1,
             "#276419"
            ]
           ],
           "sequential": [
            [
             0,
             "#0d0887"
            ],
            [
             0.1111111111111111,
             "#46039f"
            ],
            [
             0.2222222222222222,
             "#7201a8"
            ],
            [
             0.3333333333333333,
             "#9c179e"
            ],
            [
             0.4444444444444444,
             "#bd3786"
            ],
            [
             0.5555555555555556,
             "#d8576b"
            ],
            [
             0.6666666666666666,
             "#ed7953"
            ],
            [
             0.7777777777777778,
             "#fb9f3a"
            ],
            [
             0.8888888888888888,
             "#fdca26"
            ],
            [
             1,
             "#f0f921"
            ]
           ],
           "sequentialminus": [
            [
             0,
             "#0d0887"
            ],
            [
             0.1111111111111111,
             "#46039f"
            ],
            [
             0.2222222222222222,
             "#7201a8"
            ],
            [
             0.3333333333333333,
             "#9c179e"
            ],
            [
             0.4444444444444444,
             "#bd3786"
            ],
            [
             0.5555555555555556,
             "#d8576b"
            ],
            [
             0.6666666666666666,
             "#ed7953"
            ],
            [
             0.7777777777777778,
             "#fb9f3a"
            ],
            [
             0.8888888888888888,
             "#fdca26"
            ],
            [
             1,
             "#f0f921"
            ]
           ]
          },
          "colorway": [
           "#636efa",
           "#EF553B",
           "#00cc96",
           "#ab63fa",
           "#FFA15A",
           "#19d3f3",
           "#FF6692",
           "#B6E880",
           "#FF97FF",
           "#FECB52"
          ],
          "font": {
           "color": "#2a3f5f"
          },
          "geo": {
           "bgcolor": "white",
           "lakecolor": "white",
           "landcolor": "#E5ECF6",
           "showlakes": true,
           "showland": true,
           "subunitcolor": "white"
          },
          "hoverlabel": {
           "align": "left"
          },
          "hovermode": "closest",
          "mapbox": {
           "style": "light"
          },
          "paper_bgcolor": "white",
          "plot_bgcolor": "#E5ECF6",
          "polar": {
           "angularaxis": {
            "gridcolor": "white",
            "linecolor": "white",
            "ticks": ""
           },
           "bgcolor": "#E5ECF6",
           "radialaxis": {
            "gridcolor": "white",
            "linecolor": "white",
            "ticks": ""
           }
          },
          "scene": {
           "xaxis": {
            "backgroundcolor": "#E5ECF6",
            "gridcolor": "white",
            "gridwidth": 2,
            "linecolor": "white",
            "showbackground": true,
            "ticks": "",
            "zerolinecolor": "white"
           },
           "yaxis": {
            "backgroundcolor": "#E5ECF6",
            "gridcolor": "white",
            "gridwidth": 2,
            "linecolor": "white",
            "showbackground": true,
            "ticks": "",
            "zerolinecolor": "white"
           },
           "zaxis": {
            "backgroundcolor": "#E5ECF6",
            "gridcolor": "white",
            "gridwidth": 2,
            "linecolor": "white",
            "showbackground": true,
            "ticks": "",
            "zerolinecolor": "white"
           }
          },
          "shapedefaults": {
           "line": {
            "color": "#2a3f5f"
           }
          },
          "ternary": {
           "aaxis": {
            "gridcolor": "white",
            "linecolor": "white",
            "ticks": ""
           },
           "baxis": {
            "gridcolor": "white",
            "linecolor": "white",
            "ticks": ""
           },
           "bgcolor": "#E5ECF6",
           "caxis": {
            "gridcolor": "white",
            "linecolor": "white",
            "ticks": ""
           }
          },
          "title": {
           "x": 0.05
          },
          "xaxis": {
           "automargin": true,
           "gridcolor": "white",
           "linecolor": "white",
           "ticks": "",
           "title": {
            "standoff": 15
           },
           "zerolinecolor": "white",
           "zerolinewidth": 2
          },
          "yaxis": {
           "automargin": true,
           "gridcolor": "white",
           "linecolor": "white",
           "ticks": "",
           "title": {
            "standoff": 15
           },
           "zerolinecolor": "white",
           "zerolinewidth": 2
          }
         }
        },
        "title": {
         "text": "Optimization History Plot"
        },
        "xaxis": {
         "title": {
          "text": "Trial"
         }
        },
        "yaxis": {
         "title": {
          "text": "Objective Value"
         }
        }
       }
      },
      "text/html": [
       "<div>                        <script type=\"text/javascript\">window.PlotlyConfig = {MathJaxConfig: 'local'};</script>\n",
       "        <script charset=\"utf-8\" src=\"https://cdn.plot.ly/plotly-3.0.0.min.js\"></script>                <div id=\"efa5334b-5eb3-4c3a-98e5-8787975e4983\" class=\"plotly-graph-div\" style=\"height:100%; width:100%;\"></div>            <script type=\"text/javascript\">                window.PLOTLYENV=window.PLOTLYENV || {};                                if (document.getElementById(\"efa5334b-5eb3-4c3a-98e5-8787975e4983\")) {                    Plotly.newPlot(                        \"efa5334b-5eb3-4c3a-98e5-8787975e4983\",                        [{\"mode\":\"markers\",\"name\":\"Objective Value\",\"x\":[0,1,2,3,4,5,6,7,8,9,10,11,12,13,14,15,16,17,18,19,20,21,22,23,24,25,26,27,28,29,30,31,32,33,34,35,36,37,38,39,40,41,42,43,44,45,46,47,48,49],\"y\":[6.442261622531529,0.07934790285463077,3.4535969440357497,1.4621895698187166,0.12902721652852625,0.07934790285463077,0.19833877206585285,0.346799273930311,6.518127366962824,0.07934790285463077,0.07934790285463077,0.07934790285463077,6.468470573425293,0.12869255703306878,0.07934790285463077,0.07934790285463077,6.210500248145075,6.090576171875,6.523750305175781,0.3468547109487106,0.07934790285463077,0.07934790285463077,0.07934790285463077,0.07934790285463077,0.07934790285463077,0.07934790285463077,0.07934790285463077,0.07934790285463077,0.07934790285463077,0.07934790285463077,0.07934790285463077,0.07934790285463077,0.07934790285463077,0.07934790285463077,0.07934790285463077,0.07934790285463077,0.17712952157922202,3.315160649722866,0.07934790285463077,0.07934790285463077,2.9876532554626465,2.8572630882263184,2.420549154281616,3.611504077911377,2.7592480182647705,2.8949763774871826,0.07934790285463077,0.07934790285463077,3.9665421426490477,3.7694027255269673],\"type\":\"scatter\"},{\"mode\":\"lines\",\"name\":\"Best Value\",\"x\":[0,1,2,3,4,5,6,7,8,9,10,11,12,13,14,15,16,17,18,19,20,21,22,23,24,25,26,27,28,29,30,31,32,33,34,35,36,37,38,39,40,41,42,43,44,45,46,47,48,49],\"y\":[6.442261622531529,0.07934790285463077,0.07934790285463077,0.07934790285463077,0.07934790285463077,0.07934790285463077,0.07934790285463077,0.07934790285463077,0.07934790285463077,0.07934790285463077,0.07934790285463077,0.07934790285463077,0.07934790285463077,0.07934790285463077,0.07934790285463077,0.07934790285463077,0.07934790285463077,0.07934790285463077,0.07934790285463077,0.07934790285463077,0.07934790285463077,0.07934790285463077,0.07934790285463077,0.07934790285463077,0.07934790285463077,0.07934790285463077,0.07934790285463077,0.07934790285463077,0.07934790285463077,0.07934790285463077,0.07934790285463077,0.07934790285463077,0.07934790285463077,0.07934790285463077,0.07934790285463077,0.07934790285463077,0.07934790285463077,0.07934790285463077,0.07934790285463077,0.07934790285463077,0.07934790285463077,0.07934790285463077,0.07934790285463077,0.07934790285463077,0.07934790285463077,0.07934790285463077,0.07934790285463077,0.07934790285463077,0.07934790285463077,0.07934790285463077],\"type\":\"scatter\"},{\"marker\":{\"color\":\"#cccccc\"},\"mode\":\"markers\",\"name\":\"Infeasible Trial\",\"showlegend\":false,\"x\":[],\"y\":[],\"type\":\"scatter\"}],                        {\"title\":{\"text\":\"Optimization History Plot\"},\"xaxis\":{\"title\":{\"text\":\"Trial\"}},\"yaxis\":{\"title\":{\"text\":\"Objective Value\"}},\"template\":{\"data\":{\"histogram2dcontour\":[{\"type\":\"histogram2dcontour\",\"colorbar\":{\"outlinewidth\":0,\"ticks\":\"\"},\"colorscale\":[[0.0,\"#0d0887\"],[0.1111111111111111,\"#46039f\"],[0.2222222222222222,\"#7201a8\"],[0.3333333333333333,\"#9c179e\"],[0.4444444444444444,\"#bd3786\"],[0.5555555555555556,\"#d8576b\"],[0.6666666666666666,\"#ed7953\"],[0.7777777777777778,\"#fb9f3a\"],[0.8888888888888888,\"#fdca26\"],[1.0,\"#f0f921\"]]}],\"choropleth\":[{\"type\":\"choropleth\",\"colorbar\":{\"outlinewidth\":0,\"ticks\":\"\"}}],\"histogram2d\":[{\"type\":\"histogram2d\",\"colorbar\":{\"outlinewidth\":0,\"ticks\":\"\"},\"colorscale\":[[0.0,\"#0d0887\"],[0.1111111111111111,\"#46039f\"],[0.2222222222222222,\"#7201a8\"],[0.3333333333333333,\"#9c179e\"],[0.4444444444444444,\"#bd3786\"],[0.5555555555555556,\"#d8576b\"],[0.6666666666666666,\"#ed7953\"],[0.7777777777777778,\"#fb9f3a\"],[0.8888888888888888,\"#fdca26\"],[1.0,\"#f0f921\"]]}],\"heatmap\":[{\"type\":\"heatmap\",\"colorbar\":{\"outlinewidth\":0,\"ticks\":\"\"},\"colorscale\":[[0.0,\"#0d0887\"],[0.1111111111111111,\"#46039f\"],[0.2222222222222222,\"#7201a8\"],[0.3333333333333333,\"#9c179e\"],[0.4444444444444444,\"#bd3786\"],[0.5555555555555556,\"#d8576b\"],[0.6666666666666666,\"#ed7953\"],[0.7777777777777778,\"#fb9f3a\"],[0.8888888888888888,\"#fdca26\"],[1.0,\"#f0f921\"]]}],\"contourcarpet\":[{\"type\":\"contourcarpet\",\"colorbar\":{\"outlinewidth\":0,\"ticks\":\"\"}}],\"contour\":[{\"type\":\"contour\",\"colorbar\":{\"outlinewidth\":0,\"ticks\":\"\"},\"colorscale\":[[0.0,\"#0d0887\"],[0.1111111111111111,\"#46039f\"],[0.2222222222222222,\"#7201a8\"],[0.3333333333333333,\"#9c179e\"],[0.4444444444444444,\"#bd3786\"],[0.5555555555555556,\"#d8576b\"],[0.6666666666666666,\"#ed7953\"],[0.7777777777777778,\"#fb9f3a\"],[0.8888888888888888,\"#fdca26\"],[1.0,\"#f0f921\"]]}],\"surface\":[{\"type\":\"surface\",\"colorbar\":{\"outlinewidth\":0,\"ticks\":\"\"},\"colorscale\":[[0.0,\"#0d0887\"],[0.1111111111111111,\"#46039f\"],[0.2222222222222222,\"#7201a8\"],[0.3333333333333333,\"#9c179e\"],[0.4444444444444444,\"#bd3786\"],[0.5555555555555556,\"#d8576b\"],[0.6666666666666666,\"#ed7953\"],[0.7777777777777778,\"#fb9f3a\"],[0.8888888888888888,\"#fdca26\"],[1.0,\"#f0f921\"]]}],\"mesh3d\":[{\"type\":\"mesh3d\",\"colorbar\":{\"outlinewidth\":0,\"ticks\":\"\"}}],\"scatter\":[{\"fillpattern\":{\"fillmode\":\"overlay\",\"size\":10,\"solidity\":0.2},\"type\":\"scatter\"}],\"parcoords\":[{\"type\":\"parcoords\",\"line\":{\"colorbar\":{\"outlinewidth\":0,\"ticks\":\"\"}}}],\"scatterpolargl\":[{\"type\":\"scatterpolargl\",\"marker\":{\"colorbar\":{\"outlinewidth\":0,\"ticks\":\"\"}}}],\"bar\":[{\"error_x\":{\"color\":\"#2a3f5f\"},\"error_y\":{\"color\":\"#2a3f5f\"},\"marker\":{\"line\":{\"color\":\"#E5ECF6\",\"width\":0.5},\"pattern\":{\"fillmode\":\"overlay\",\"size\":10,\"solidity\":0.2}},\"type\":\"bar\"}],\"scattergeo\":[{\"type\":\"scattergeo\",\"marker\":{\"colorbar\":{\"outlinewidth\":0,\"ticks\":\"\"}}}],\"scatterpolar\":[{\"type\":\"scatterpolar\",\"marker\":{\"colorbar\":{\"outlinewidth\":0,\"ticks\":\"\"}}}],\"histogram\":[{\"marker\":{\"pattern\":{\"fillmode\":\"overlay\",\"size\":10,\"solidity\":0.2}},\"type\":\"histogram\"}],\"scattergl\":[{\"type\":\"scattergl\",\"marker\":{\"colorbar\":{\"outlinewidth\":0,\"ticks\":\"\"}}}],\"scatter3d\":[{\"type\":\"scatter3d\",\"line\":{\"colorbar\":{\"outlinewidth\":0,\"ticks\":\"\"}},\"marker\":{\"colorbar\":{\"outlinewidth\":0,\"ticks\":\"\"}}}],\"scattermap\":[{\"type\":\"scattermap\",\"marker\":{\"colorbar\":{\"outlinewidth\":0,\"ticks\":\"\"}}}],\"scattermapbox\":[{\"type\":\"scattermapbox\",\"marker\":{\"colorbar\":{\"outlinewidth\":0,\"ticks\":\"\"}}}],\"scatterternary\":[{\"type\":\"scatterternary\",\"marker\":{\"colorbar\":{\"outlinewidth\":0,\"ticks\":\"\"}}}],\"scattercarpet\":[{\"type\":\"scattercarpet\",\"marker\":{\"colorbar\":{\"outlinewidth\":0,\"ticks\":\"\"}}}],\"carpet\":[{\"aaxis\":{\"endlinecolor\":\"#2a3f5f\",\"gridcolor\":\"white\",\"linecolor\":\"white\",\"minorgridcolor\":\"white\",\"startlinecolor\":\"#2a3f5f\"},\"baxis\":{\"endlinecolor\":\"#2a3f5f\",\"gridcolor\":\"white\",\"linecolor\":\"white\",\"minorgridcolor\":\"white\",\"startlinecolor\":\"#2a3f5f\"},\"type\":\"carpet\"}],\"table\":[{\"cells\":{\"fill\":{\"color\":\"#EBF0F8\"},\"line\":{\"color\":\"white\"}},\"header\":{\"fill\":{\"color\":\"#C8D4E3\"},\"line\":{\"color\":\"white\"}},\"type\":\"table\"}],\"barpolar\":[{\"marker\":{\"line\":{\"color\":\"#E5ECF6\",\"width\":0.5},\"pattern\":{\"fillmode\":\"overlay\",\"size\":10,\"solidity\":0.2}},\"type\":\"barpolar\"}],\"pie\":[{\"automargin\":true,\"type\":\"pie\"}]},\"layout\":{\"autotypenumbers\":\"strict\",\"colorway\":[\"#636efa\",\"#EF553B\",\"#00cc96\",\"#ab63fa\",\"#FFA15A\",\"#19d3f3\",\"#FF6692\",\"#B6E880\",\"#FF97FF\",\"#FECB52\"],\"font\":{\"color\":\"#2a3f5f\"},\"hovermode\":\"closest\",\"hoverlabel\":{\"align\":\"left\"},\"paper_bgcolor\":\"white\",\"plot_bgcolor\":\"#E5ECF6\",\"polar\":{\"bgcolor\":\"#E5ECF6\",\"angularaxis\":{\"gridcolor\":\"white\",\"linecolor\":\"white\",\"ticks\":\"\"},\"radialaxis\":{\"gridcolor\":\"white\",\"linecolor\":\"white\",\"ticks\":\"\"}},\"ternary\":{\"bgcolor\":\"#E5ECF6\",\"aaxis\":{\"gridcolor\":\"white\",\"linecolor\":\"white\",\"ticks\":\"\"},\"baxis\":{\"gridcolor\":\"white\",\"linecolor\":\"white\",\"ticks\":\"\"},\"caxis\":{\"gridcolor\":\"white\",\"linecolor\":\"white\",\"ticks\":\"\"}},\"coloraxis\":{\"colorbar\":{\"outlinewidth\":0,\"ticks\":\"\"}},\"colorscale\":{\"sequential\":[[0.0,\"#0d0887\"],[0.1111111111111111,\"#46039f\"],[0.2222222222222222,\"#7201a8\"],[0.3333333333333333,\"#9c179e\"],[0.4444444444444444,\"#bd3786\"],[0.5555555555555556,\"#d8576b\"],[0.6666666666666666,\"#ed7953\"],[0.7777777777777778,\"#fb9f3a\"],[0.8888888888888888,\"#fdca26\"],[1.0,\"#f0f921\"]],\"sequentialminus\":[[0.0,\"#0d0887\"],[0.1111111111111111,\"#46039f\"],[0.2222222222222222,\"#7201a8\"],[0.3333333333333333,\"#9c179e\"],[0.4444444444444444,\"#bd3786\"],[0.5555555555555556,\"#d8576b\"],[0.6666666666666666,\"#ed7953\"],[0.7777777777777778,\"#fb9f3a\"],[0.8888888888888888,\"#fdca26\"],[1.0,\"#f0f921\"]],\"diverging\":[[0,\"#8e0152\"],[0.1,\"#c51b7d\"],[0.2,\"#de77ae\"],[0.3,\"#f1b6da\"],[0.4,\"#fde0ef\"],[0.5,\"#f7f7f7\"],[0.6,\"#e6f5d0\"],[0.7,\"#b8e186\"],[0.8,\"#7fbc41\"],[0.9,\"#4d9221\"],[1,\"#276419\"]]},\"xaxis\":{\"gridcolor\":\"white\",\"linecolor\":\"white\",\"ticks\":\"\",\"title\":{\"standoff\":15},\"zerolinecolor\":\"white\",\"automargin\":true,\"zerolinewidth\":2},\"yaxis\":{\"gridcolor\":\"white\",\"linecolor\":\"white\",\"ticks\":\"\",\"title\":{\"standoff\":15},\"zerolinecolor\":\"white\",\"automargin\":true,\"zerolinewidth\":2},\"scene\":{\"xaxis\":{\"backgroundcolor\":\"#E5ECF6\",\"gridcolor\":\"white\",\"linecolor\":\"white\",\"showbackground\":true,\"ticks\":\"\",\"zerolinecolor\":\"white\",\"gridwidth\":2},\"yaxis\":{\"backgroundcolor\":\"#E5ECF6\",\"gridcolor\":\"white\",\"linecolor\":\"white\",\"showbackground\":true,\"ticks\":\"\",\"zerolinecolor\":\"white\",\"gridwidth\":2},\"zaxis\":{\"backgroundcolor\":\"#E5ECF6\",\"gridcolor\":\"white\",\"linecolor\":\"white\",\"showbackground\":true,\"ticks\":\"\",\"zerolinecolor\":\"white\",\"gridwidth\":2}},\"shapedefaults\":{\"line\":{\"color\":\"#2a3f5f\"}},\"annotationdefaults\":{\"arrowcolor\":\"#2a3f5f\",\"arrowhead\":0,\"arrowwidth\":1},\"geo\":{\"bgcolor\":\"white\",\"landcolor\":\"#E5ECF6\",\"subunitcolor\":\"white\",\"showland\":true,\"showlakes\":true,\"lakecolor\":\"white\"},\"title\":{\"x\":0.05},\"mapbox\":{\"style\":\"light\"}}}},                        {\"responsive\": true}                    )                };            </script>        </div>"
      ],
      "text/plain": [
       "Figure({\n",
       "    'data': [{'mode': 'markers',\n",
       "              'name': 'Objective Value',\n",
       "              'type': 'scatter',\n",
       "              'x': [0, 1, 2, 3, 4, 5, 6, 7, 8, 9, 10, 11, 12, 13, 14, 15, 16, 17,\n",
       "                    18, 19, 20, 21, 22, 23, 24, 25, 26, 27, 28, 29, 30, 31, 32, 33,\n",
       "                    34, 35, 36, 37, 38, 39, 40, 41, 42, 43, 44, 45, 46, 47, 48, 49],\n",
       "              'y': [6.442261622531529, 0.07934790285463077, 3.4535969440357497,\n",
       "                    1.4621895698187166, 0.12902721652852625, 0.07934790285463077,\n",
       "                    0.19833877206585285, 0.346799273930311, 6.518127366962824,\n",
       "                    0.07934790285463077, 0.07934790285463077, 0.07934790285463077,\n",
       "                    6.468470573425293, 0.12869255703306878, 0.07934790285463077,\n",
       "                    0.07934790285463077, 6.210500248145075, 6.090576171875,\n",
       "                    6.523750305175781, 0.3468547109487106, 0.07934790285463077,\n",
       "                    0.07934790285463077, 0.07934790285463077, 0.07934790285463077,\n",
       "                    0.07934790285463077, 0.07934790285463077, 0.07934790285463077,\n",
       "                    0.07934790285463077, 0.07934790285463077, 0.07934790285463077,\n",
       "                    0.07934790285463077, 0.07934790285463077, 0.07934790285463077,\n",
       "                    0.07934790285463077, 0.07934790285463077, 0.07934790285463077,\n",
       "                    0.17712952157922202, 3.315160649722866, 0.07934790285463077,\n",
       "                    0.07934790285463077, 2.9876532554626465, 2.8572630882263184,\n",
       "                    2.420549154281616, 3.611504077911377, 2.7592480182647705,\n",
       "                    2.8949763774871826, 0.07934790285463077, 0.07934790285463077,\n",
       "                    3.9665421426490477, 3.7694027255269673]},\n",
       "             {'mode': 'lines',\n",
       "              'name': 'Best Value',\n",
       "              'type': 'scatter',\n",
       "              'x': [0, 1, 2, 3, 4, 5, 6, 7, 8, 9, 10, 11, 12, 13, 14, 15, 16, 17,\n",
       "                    18, 19, 20, 21, 22, 23, 24, 25, 26, 27, 28, 29, 30, 31, 32, 33,\n",
       "                    34, 35, 36, 37, 38, 39, 40, 41, 42, 43, 44, 45, 46, 47, 48, 49],\n",
       "              'y': [6.442261622531529, 0.07934790285463077, 0.07934790285463077,\n",
       "                    0.07934790285463077, 0.07934790285463077, 0.07934790285463077,\n",
       "                    0.07934790285463077, 0.07934790285463077, 0.07934790285463077,\n",
       "                    0.07934790285463077, 0.07934790285463077, 0.07934790285463077,\n",
       "                    0.07934790285463077, 0.07934790285463077, 0.07934790285463077,\n",
       "                    0.07934790285463077, 0.07934790285463077, 0.07934790285463077,\n",
       "                    0.07934790285463077, 0.07934790285463077, 0.07934790285463077,\n",
       "                    0.07934790285463077, 0.07934790285463077, 0.07934790285463077,\n",
       "                    0.07934790285463077, 0.07934790285463077, 0.07934790285463077,\n",
       "                    0.07934790285463077, 0.07934790285463077, 0.07934790285463077,\n",
       "                    0.07934790285463077, 0.07934790285463077, 0.07934790285463077,\n",
       "                    0.07934790285463077, 0.07934790285463077, 0.07934790285463077,\n",
       "                    0.07934790285463077, 0.07934790285463077, 0.07934790285463077,\n",
       "                    0.07934790285463077, 0.07934790285463077, 0.07934790285463077,\n",
       "                    0.07934790285463077, 0.07934790285463077, 0.07934790285463077,\n",
       "                    0.07934790285463077, 0.07934790285463077, 0.07934790285463077,\n",
       "                    0.07934790285463077, 0.07934790285463077]},\n",
       "             {'marker': {'color': '#cccccc'},\n",
       "              'mode': 'markers',\n",
       "              'name': 'Infeasible Trial',\n",
       "              'showlegend': False,\n",
       "              'type': 'scatter',\n",
       "              'x': [],\n",
       "              'y': []}],\n",
       "    'layout': {'template': '...',\n",
       "               'title': {'text': 'Optimization History Plot'},\n",
       "               'xaxis': {'title': {'text': 'Trial'}},\n",
       "               'yaxis': {'title': {'text': 'Objective Value'}}}\n",
       "})"
      ]
     },
     "execution_count": 24,
     "metadata": {},
     "output_type": "execute_result"
    }
   ],
   "source": [
    "plot_optimization_history(study)"
   ]
  },
  {
   "cell_type": "code",
   "execution_count": 25,
   "id": "455103f1",
   "metadata": {},
   "outputs": [
    {
     "ename": "ValueError",
     "evalue": "Mime type rendering requires nbformat>=4.2.0 but it is not installed",
     "output_type": "error",
     "traceback": [
      "\u001b[31m---------------------------------------------------------------------------\u001b[39m",
      "\u001b[31mValueError\u001b[39m                                Traceback (most recent call last)",
      "\u001b[36mFile \u001b[39m\u001b[32md:\\uber-demand-prediction\\myenv\\Lib\\site-packages\\IPython\\core\\formatters.py:984\u001b[39m, in \u001b[36mIPythonDisplayFormatter.__call__\u001b[39m\u001b[34m(self, obj)\u001b[39m\n\u001b[32m    982\u001b[39m method = get_real_method(obj, \u001b[38;5;28mself\u001b[39m.print_method)\n\u001b[32m    983\u001b[39m \u001b[38;5;28;01mif\u001b[39;00m method \u001b[38;5;129;01mis\u001b[39;00m \u001b[38;5;129;01mnot\u001b[39;00m \u001b[38;5;28;01mNone\u001b[39;00m:\n\u001b[32m--> \u001b[39m\u001b[32m984\u001b[39m     \u001b[43mmethod\u001b[49m\u001b[43m(\u001b[49m\u001b[43m)\u001b[49m\n\u001b[32m    985\u001b[39m     \u001b[38;5;28;01mreturn\u001b[39;00m \u001b[38;5;28;01mTrue\u001b[39;00m\n",
      "\u001b[36mFile \u001b[39m\u001b[32md:\\uber-demand-prediction\\myenv\\Lib\\site-packages\\plotly\\basedatatypes.py:833\u001b[39m, in \u001b[36mBaseFigure._ipython_display_\u001b[39m\u001b[34m(self)\u001b[39m\n\u001b[32m    830\u001b[39m \u001b[38;5;28;01mimport\u001b[39;00m\u001b[38;5;250m \u001b[39m\u001b[34;01mplotly\u001b[39;00m\u001b[34;01m.\u001b[39;00m\u001b[34;01mio\u001b[39;00m\u001b[38;5;250m \u001b[39m\u001b[38;5;28;01mas\u001b[39;00m\u001b[38;5;250m \u001b[39m\u001b[34;01mpio\u001b[39;00m\n\u001b[32m    832\u001b[39m \u001b[38;5;28;01mif\u001b[39;00m pio.renderers.render_on_display \u001b[38;5;129;01mand\u001b[39;00m pio.renderers.default:\n\u001b[32m--> \u001b[39m\u001b[32m833\u001b[39m     \u001b[43mpio\u001b[49m\u001b[43m.\u001b[49m\u001b[43mshow\u001b[49m\u001b[43m(\u001b[49m\u001b[38;5;28;43mself\u001b[39;49m\u001b[43m)\u001b[49m\n\u001b[32m    834\u001b[39m \u001b[38;5;28;01melse\u001b[39;00m:\n\u001b[32m    835\u001b[39m     \u001b[38;5;28mprint\u001b[39m(\u001b[38;5;28mrepr\u001b[39m(\u001b[38;5;28mself\u001b[39m))\n",
      "\u001b[36mFile \u001b[39m\u001b[32md:\\uber-demand-prediction\\myenv\\Lib\\site-packages\\plotly\\io\\_renderers.py:425\u001b[39m, in \u001b[36mshow\u001b[39m\u001b[34m(fig, renderer, validate, **kwargs)\u001b[39m\n\u001b[32m    420\u001b[39m     \u001b[38;5;28;01mraise\u001b[39;00m \u001b[38;5;167;01mValueError\u001b[39;00m(\n\u001b[32m    421\u001b[39m         \u001b[33m\"\u001b[39m\u001b[33mMime type rendering requires ipython but it is not installed\u001b[39m\u001b[33m\"\u001b[39m\n\u001b[32m    422\u001b[39m     )\n\u001b[32m    424\u001b[39m \u001b[38;5;28;01mif\u001b[39;00m \u001b[38;5;129;01mnot\u001b[39;00m nbformat \u001b[38;5;129;01mor\u001b[39;00m Version(nbformat.__version__) < Version(\u001b[33m\"\u001b[39m\u001b[33m4.2.0\u001b[39m\u001b[33m\"\u001b[39m):\n\u001b[32m--> \u001b[39m\u001b[32m425\u001b[39m     \u001b[38;5;28;01mraise\u001b[39;00m \u001b[38;5;167;01mValueError\u001b[39;00m(\n\u001b[32m    426\u001b[39m         \u001b[33m\"\u001b[39m\u001b[33mMime type rendering requires nbformat>=4.2.0 but it is not installed\u001b[39m\u001b[33m\"\u001b[39m\n\u001b[32m    427\u001b[39m     )\n\u001b[32m    429\u001b[39m display_jupyter_version_warnings()\n\u001b[32m    431\u001b[39m ipython_display.display(bundle, raw=\u001b[38;5;28;01mTrue\u001b[39;00m)\n",
      "\u001b[31mValueError\u001b[39m: Mime type rendering requires nbformat>=4.2.0 but it is not installed"
     ]
    },
    {
     "data": {
      "application/vnd.plotly.v1+json": {
       "config": {
        "plotlyServerURL": "https://plot.ly"
       },
       "data": [
        {
         "dimensions": [
          {
           "label": "Objective Value",
           "range": [
            0.07934790285463077,
            6.523750305175781
           ],
           "values": [
            6.442261622531529,
            0.07934790285463077,
            3.4535969440357497,
            1.4621895698187166,
            0.12902721652852625,
            0.07934790285463077,
            0.19833877206585285,
            0.346799273930311,
            6.518127366962824,
            0.07934790285463077,
            0.07934790285463077,
            0.07934790285463077,
            6.468470573425293,
            0.12869255703306878,
            0.07934790285463077,
            0.07934790285463077,
            6.210500248145075,
            6.090576171875,
            6.523750305175781,
            0.3468547109487106,
            0.07934790285463077,
            0.07934790285463077,
            0.07934790285463077,
            0.07934790285463077,
            0.07934790285463077,
            0.07934790285463077,
            0.07934790285463077,
            0.07934790285463077,
            0.07934790285463077,
            0.07934790285463077,
            0.07934790285463077,
            0.07934790285463077,
            0.07934790285463077,
            0.07934790285463077,
            0.07934790285463077,
            0.07934790285463077,
            0.17712952157922202,
            3.315160649722866,
            0.07934790285463077,
            0.07934790285463077,
            2.9876532554626465,
            2.8572630882263184,
            2.420549154281616,
            3.611504077911377,
            2.7592480182647705,
            2.8949763774871826,
            0.07934790285463077,
            0.07934790285463077,
            3.9665421426490477,
            3.7694027255269673
           ]
          },
          {
           "label": "model_name",
           "range": [
            0,
            3
           ],
           "ticktext": [
            "GBR",
            "LR",
            "RF",
            "XGBR"
           ],
           "tickvals": [
            0,
            1,
            2,
            3
           ],
           "values": [
            0,
            1,
            0,
            0,
            2,
            1,
            2,
            2,
            0,
            1,
            1,
            1,
            3,
            2,
            1,
            1,
            0,
            3,
            3,
            2,
            1,
            1,
            1,
            1,
            1,
            1,
            1,
            1,
            1,
            1,
            1,
            1,
            1,
            1,
            1,
            1,
            2,
            0,
            1,
            1,
            3,
            3,
            3,
            3,
            3,
            3,
            1,
            1,
            0,
            0
           ]
          }
         ],
         "labelangle": 30,
         "labelside": "bottom",
         "line": {
          "color": [
           6.442261622531529,
           0.07934790285463077,
           3.4535969440357497,
           1.4621895698187166,
           0.12902721652852625,
           0.07934790285463077,
           0.19833877206585285,
           0.346799273930311,
           6.518127366962824,
           0.07934790285463077,
           0.07934790285463077,
           0.07934790285463077,
           6.468470573425293,
           0.12869255703306878,
           0.07934790285463077,
           0.07934790285463077,
           6.210500248145075,
           6.090576171875,
           6.523750305175781,
           0.3468547109487106,
           0.07934790285463077,
           0.07934790285463077,
           0.07934790285463077,
           0.07934790285463077,
           0.07934790285463077,
           0.07934790285463077,
           0.07934790285463077,
           0.07934790285463077,
           0.07934790285463077,
           0.07934790285463077,
           0.07934790285463077,
           0.07934790285463077,
           0.07934790285463077,
           0.07934790285463077,
           0.07934790285463077,
           0.07934790285463077,
           0.17712952157922202,
           3.315160649722866,
           0.07934790285463077,
           0.07934790285463077,
           2.9876532554626465,
           2.8572630882263184,
           2.420549154281616,
           3.611504077911377,
           2.7592480182647705,
           2.8949763774871826,
           0.07934790285463077,
           0.07934790285463077,
           3.9665421426490477,
           3.7694027255269673
          ],
          "colorbar": {
           "title": {
            "text": "Objective Value"
           }
          },
          "colorscale": [
           [
            0,
            "rgb(247,251,255)"
           ],
           [
            0.125,
            "rgb(222,235,247)"
           ],
           [
            0.25,
            "rgb(198,219,239)"
           ],
           [
            0.375,
            "rgb(158,202,225)"
           ],
           [
            0.5,
            "rgb(107,174,214)"
           ],
           [
            0.625,
            "rgb(66,146,198)"
           ],
           [
            0.75,
            "rgb(33,113,181)"
           ],
           [
            0.875,
            "rgb(8,81,156)"
           ],
           [
            1,
            "rgb(8,48,107)"
           ]
          ],
          "reversescale": true,
          "showscale": true
         },
         "type": "parcoords"
        }
       ],
       "layout": {
        "template": {
         "data": {
          "bar": [
           {
            "error_x": {
             "color": "#2a3f5f"
            },
            "error_y": {
             "color": "#2a3f5f"
            },
            "marker": {
             "line": {
              "color": "#E5ECF6",
              "width": 0.5
             },
             "pattern": {
              "fillmode": "overlay",
              "size": 10,
              "solidity": 0.2
             }
            },
            "type": "bar"
           }
          ],
          "barpolar": [
           {
            "marker": {
             "line": {
              "color": "#E5ECF6",
              "width": 0.5
             },
             "pattern": {
              "fillmode": "overlay",
              "size": 10,
              "solidity": 0.2
             }
            },
            "type": "barpolar"
           }
          ],
          "carpet": [
           {
            "aaxis": {
             "endlinecolor": "#2a3f5f",
             "gridcolor": "white",
             "linecolor": "white",
             "minorgridcolor": "white",
             "startlinecolor": "#2a3f5f"
            },
            "baxis": {
             "endlinecolor": "#2a3f5f",
             "gridcolor": "white",
             "linecolor": "white",
             "minorgridcolor": "white",
             "startlinecolor": "#2a3f5f"
            },
            "type": "carpet"
           }
          ],
          "choropleth": [
           {
            "colorbar": {
             "outlinewidth": 0,
             "ticks": ""
            },
            "type": "choropleth"
           }
          ],
          "contour": [
           {
            "colorbar": {
             "outlinewidth": 0,
             "ticks": ""
            },
            "colorscale": [
             [
              0,
              "#0d0887"
             ],
             [
              0.1111111111111111,
              "#46039f"
             ],
             [
              0.2222222222222222,
              "#7201a8"
             ],
             [
              0.3333333333333333,
              "#9c179e"
             ],
             [
              0.4444444444444444,
              "#bd3786"
             ],
             [
              0.5555555555555556,
              "#d8576b"
             ],
             [
              0.6666666666666666,
              "#ed7953"
             ],
             [
              0.7777777777777778,
              "#fb9f3a"
             ],
             [
              0.8888888888888888,
              "#fdca26"
             ],
             [
              1,
              "#f0f921"
             ]
            ],
            "type": "contour"
           }
          ],
          "contourcarpet": [
           {
            "colorbar": {
             "outlinewidth": 0,
             "ticks": ""
            },
            "type": "contourcarpet"
           }
          ],
          "heatmap": [
           {
            "colorbar": {
             "outlinewidth": 0,
             "ticks": ""
            },
            "colorscale": [
             [
              0,
              "#0d0887"
             ],
             [
              0.1111111111111111,
              "#46039f"
             ],
             [
              0.2222222222222222,
              "#7201a8"
             ],
             [
              0.3333333333333333,
              "#9c179e"
             ],
             [
              0.4444444444444444,
              "#bd3786"
             ],
             [
              0.5555555555555556,
              "#d8576b"
             ],
             [
              0.6666666666666666,
              "#ed7953"
             ],
             [
              0.7777777777777778,
              "#fb9f3a"
             ],
             [
              0.8888888888888888,
              "#fdca26"
             ],
             [
              1,
              "#f0f921"
             ]
            ],
            "type": "heatmap"
           }
          ],
          "histogram": [
           {
            "marker": {
             "pattern": {
              "fillmode": "overlay",
              "size": 10,
              "solidity": 0.2
             }
            },
            "type": "histogram"
           }
          ],
          "histogram2d": [
           {
            "colorbar": {
             "outlinewidth": 0,
             "ticks": ""
            },
            "colorscale": [
             [
              0,
              "#0d0887"
             ],
             [
              0.1111111111111111,
              "#46039f"
             ],
             [
              0.2222222222222222,
              "#7201a8"
             ],
             [
              0.3333333333333333,
              "#9c179e"
             ],
             [
              0.4444444444444444,
              "#bd3786"
             ],
             [
              0.5555555555555556,
              "#d8576b"
             ],
             [
              0.6666666666666666,
              "#ed7953"
             ],
             [
              0.7777777777777778,
              "#fb9f3a"
             ],
             [
              0.8888888888888888,
              "#fdca26"
             ],
             [
              1,
              "#f0f921"
             ]
            ],
            "type": "histogram2d"
           }
          ],
          "histogram2dcontour": [
           {
            "colorbar": {
             "outlinewidth": 0,
             "ticks": ""
            },
            "colorscale": [
             [
              0,
              "#0d0887"
             ],
             [
              0.1111111111111111,
              "#46039f"
             ],
             [
              0.2222222222222222,
              "#7201a8"
             ],
             [
              0.3333333333333333,
              "#9c179e"
             ],
             [
              0.4444444444444444,
              "#bd3786"
             ],
             [
              0.5555555555555556,
              "#d8576b"
             ],
             [
              0.6666666666666666,
              "#ed7953"
             ],
             [
              0.7777777777777778,
              "#fb9f3a"
             ],
             [
              0.8888888888888888,
              "#fdca26"
             ],
             [
              1,
              "#f0f921"
             ]
            ],
            "type": "histogram2dcontour"
           }
          ],
          "mesh3d": [
           {
            "colorbar": {
             "outlinewidth": 0,
             "ticks": ""
            },
            "type": "mesh3d"
           }
          ],
          "parcoords": [
           {
            "line": {
             "colorbar": {
              "outlinewidth": 0,
              "ticks": ""
             }
            },
            "type": "parcoords"
           }
          ],
          "pie": [
           {
            "automargin": true,
            "type": "pie"
           }
          ],
          "scatter": [
           {
            "fillpattern": {
             "fillmode": "overlay",
             "size": 10,
             "solidity": 0.2
            },
            "type": "scatter"
           }
          ],
          "scatter3d": [
           {
            "line": {
             "colorbar": {
              "outlinewidth": 0,
              "ticks": ""
             }
            },
            "marker": {
             "colorbar": {
              "outlinewidth": 0,
              "ticks": ""
             }
            },
            "type": "scatter3d"
           }
          ],
          "scattercarpet": [
           {
            "marker": {
             "colorbar": {
              "outlinewidth": 0,
              "ticks": ""
             }
            },
            "type": "scattercarpet"
           }
          ],
          "scattergeo": [
           {
            "marker": {
             "colorbar": {
              "outlinewidth": 0,
              "ticks": ""
             }
            },
            "type": "scattergeo"
           }
          ],
          "scattergl": [
           {
            "marker": {
             "colorbar": {
              "outlinewidth": 0,
              "ticks": ""
             }
            },
            "type": "scattergl"
           }
          ],
          "scattermap": [
           {
            "marker": {
             "colorbar": {
              "outlinewidth": 0,
              "ticks": ""
             }
            },
            "type": "scattermap"
           }
          ],
          "scattermapbox": [
           {
            "marker": {
             "colorbar": {
              "outlinewidth": 0,
              "ticks": ""
             }
            },
            "type": "scattermapbox"
           }
          ],
          "scatterpolar": [
           {
            "marker": {
             "colorbar": {
              "outlinewidth": 0,
              "ticks": ""
             }
            },
            "type": "scatterpolar"
           }
          ],
          "scatterpolargl": [
           {
            "marker": {
             "colorbar": {
              "outlinewidth": 0,
              "ticks": ""
             }
            },
            "type": "scatterpolargl"
           }
          ],
          "scatterternary": [
           {
            "marker": {
             "colorbar": {
              "outlinewidth": 0,
              "ticks": ""
             }
            },
            "type": "scatterternary"
           }
          ],
          "surface": [
           {
            "colorbar": {
             "outlinewidth": 0,
             "ticks": ""
            },
            "colorscale": [
             [
              0,
              "#0d0887"
             ],
             [
              0.1111111111111111,
              "#46039f"
             ],
             [
              0.2222222222222222,
              "#7201a8"
             ],
             [
              0.3333333333333333,
              "#9c179e"
             ],
             [
              0.4444444444444444,
              "#bd3786"
             ],
             [
              0.5555555555555556,
              "#d8576b"
             ],
             [
              0.6666666666666666,
              "#ed7953"
             ],
             [
              0.7777777777777778,
              "#fb9f3a"
             ],
             [
              0.8888888888888888,
              "#fdca26"
             ],
             [
              1,
              "#f0f921"
             ]
            ],
            "type": "surface"
           }
          ],
          "table": [
           {
            "cells": {
             "fill": {
              "color": "#EBF0F8"
             },
             "line": {
              "color": "white"
             }
            },
            "header": {
             "fill": {
              "color": "#C8D4E3"
             },
             "line": {
              "color": "white"
             }
            },
            "type": "table"
           }
          ]
         },
         "layout": {
          "annotationdefaults": {
           "arrowcolor": "#2a3f5f",
           "arrowhead": 0,
           "arrowwidth": 1
          },
          "autotypenumbers": "strict",
          "coloraxis": {
           "colorbar": {
            "outlinewidth": 0,
            "ticks": ""
           }
          },
          "colorscale": {
           "diverging": [
            [
             0,
             "#8e0152"
            ],
            [
             0.1,
             "#c51b7d"
            ],
            [
             0.2,
             "#de77ae"
            ],
            [
             0.3,
             "#f1b6da"
            ],
            [
             0.4,
             "#fde0ef"
            ],
            [
             0.5,
             "#f7f7f7"
            ],
            [
             0.6,
             "#e6f5d0"
            ],
            [
             0.7,
             "#b8e186"
            ],
            [
             0.8,
             "#7fbc41"
            ],
            [
             0.9,
             "#4d9221"
            ],
            [
             1,
             "#276419"
            ]
           ],
           "sequential": [
            [
             0,
             "#0d0887"
            ],
            [
             0.1111111111111111,
             "#46039f"
            ],
            [
             0.2222222222222222,
             "#7201a8"
            ],
            [
             0.3333333333333333,
             "#9c179e"
            ],
            [
             0.4444444444444444,
             "#bd3786"
            ],
            [
             0.5555555555555556,
             "#d8576b"
            ],
            [
             0.6666666666666666,
             "#ed7953"
            ],
            [
             0.7777777777777778,
             "#fb9f3a"
            ],
            [
             0.8888888888888888,
             "#fdca26"
            ],
            [
             1,
             "#f0f921"
            ]
           ],
           "sequentialminus": [
            [
             0,
             "#0d0887"
            ],
            [
             0.1111111111111111,
             "#46039f"
            ],
            [
             0.2222222222222222,
             "#7201a8"
            ],
            [
             0.3333333333333333,
             "#9c179e"
            ],
            [
             0.4444444444444444,
             "#bd3786"
            ],
            [
             0.5555555555555556,
             "#d8576b"
            ],
            [
             0.6666666666666666,
             "#ed7953"
            ],
            [
             0.7777777777777778,
             "#fb9f3a"
            ],
            [
             0.8888888888888888,
             "#fdca26"
            ],
            [
             1,
             "#f0f921"
            ]
           ]
          },
          "colorway": [
           "#636efa",
           "#EF553B",
           "#00cc96",
           "#ab63fa",
           "#FFA15A",
           "#19d3f3",
           "#FF6692",
           "#B6E880",
           "#FF97FF",
           "#FECB52"
          ],
          "font": {
           "color": "#2a3f5f"
          },
          "geo": {
           "bgcolor": "white",
           "lakecolor": "white",
           "landcolor": "#E5ECF6",
           "showlakes": true,
           "showland": true,
           "subunitcolor": "white"
          },
          "hoverlabel": {
           "align": "left"
          },
          "hovermode": "closest",
          "mapbox": {
           "style": "light"
          },
          "paper_bgcolor": "white",
          "plot_bgcolor": "#E5ECF6",
          "polar": {
           "angularaxis": {
            "gridcolor": "white",
            "linecolor": "white",
            "ticks": ""
           },
           "bgcolor": "#E5ECF6",
           "radialaxis": {
            "gridcolor": "white",
            "linecolor": "white",
            "ticks": ""
           }
          },
          "scene": {
           "xaxis": {
            "backgroundcolor": "#E5ECF6",
            "gridcolor": "white",
            "gridwidth": 2,
            "linecolor": "white",
            "showbackground": true,
            "ticks": "",
            "zerolinecolor": "white"
           },
           "yaxis": {
            "backgroundcolor": "#E5ECF6",
            "gridcolor": "white",
            "gridwidth": 2,
            "linecolor": "white",
            "showbackground": true,
            "ticks": "",
            "zerolinecolor": "white"
           },
           "zaxis": {
            "backgroundcolor": "#E5ECF6",
            "gridcolor": "white",
            "gridwidth": 2,
            "linecolor": "white",
            "showbackground": true,
            "ticks": "",
            "zerolinecolor": "white"
           }
          },
          "shapedefaults": {
           "line": {
            "color": "#2a3f5f"
           }
          },
          "ternary": {
           "aaxis": {
            "gridcolor": "white",
            "linecolor": "white",
            "ticks": ""
           },
           "baxis": {
            "gridcolor": "white",
            "linecolor": "white",
            "ticks": ""
           },
           "bgcolor": "#E5ECF6",
           "caxis": {
            "gridcolor": "white",
            "linecolor": "white",
            "ticks": ""
           }
          },
          "title": {
           "x": 0.05
          },
          "xaxis": {
           "automargin": true,
           "gridcolor": "white",
           "linecolor": "white",
           "ticks": "",
           "title": {
            "standoff": 15
           },
           "zerolinecolor": "white",
           "zerolinewidth": 2
          },
          "yaxis": {
           "automargin": true,
           "gridcolor": "white",
           "linecolor": "white",
           "ticks": "",
           "title": {
            "standoff": 15
           },
           "zerolinecolor": "white",
           "zerolinewidth": 2
          }
         }
        },
        "title": {
         "text": "Parallel Coordinate Plot"
        }
       }
      },
      "text/html": [
       "<div>                        <script type=\"text/javascript\">window.PlotlyConfig = {MathJaxConfig: 'local'};</script>\n",
       "        <script charset=\"utf-8\" src=\"https://cdn.plot.ly/plotly-3.0.0.min.js\"></script>                <div id=\"ef962fdf-9ef1-41aa-aee8-791f9d189e6e\" class=\"plotly-graph-div\" style=\"height:100%; width:100%;\"></div>            <script type=\"text/javascript\">                window.PLOTLYENV=window.PLOTLYENV || {};                                if (document.getElementById(\"ef962fdf-9ef1-41aa-aee8-791f9d189e6e\")) {                    Plotly.newPlot(                        \"ef962fdf-9ef1-41aa-aee8-791f9d189e6e\",                        [{\"dimensions\":[{\"label\":\"Objective Value\",\"range\":[0.07934790285463077,6.523750305175781],\"values\":[6.442261622531529,0.07934790285463077,3.4535969440357497,1.4621895698187166,0.12902721652852625,0.07934790285463077,0.19833877206585285,0.346799273930311,6.518127366962824,0.07934790285463077,0.07934790285463077,0.07934790285463077,6.468470573425293,0.12869255703306878,0.07934790285463077,0.07934790285463077,6.210500248145075,6.090576171875,6.523750305175781,0.3468547109487106,0.07934790285463077,0.07934790285463077,0.07934790285463077,0.07934790285463077,0.07934790285463077,0.07934790285463077,0.07934790285463077,0.07934790285463077,0.07934790285463077,0.07934790285463077,0.07934790285463077,0.07934790285463077,0.07934790285463077,0.07934790285463077,0.07934790285463077,0.07934790285463077,0.17712952157922202,3.315160649722866,0.07934790285463077,0.07934790285463077,2.9876532554626465,2.8572630882263184,2.420549154281616,3.611504077911377,2.7592480182647705,2.8949763774871826,0.07934790285463077,0.07934790285463077,3.9665421426490477,3.7694027255269673]},{\"label\":\"model_name\",\"range\":[0,3],\"ticktext\":[\"GBR\",\"LR\",\"RF\",\"XGBR\"],\"tickvals\":[0,1,2,3],\"values\":[0,1,0,0,2,1,2,2,0,1,1,1,3,2,1,1,0,3,3,2,1,1,1,1,1,1,1,1,1,1,1,1,1,1,1,1,2,0,1,1,3,3,3,3,3,3,1,1,0,0]}],\"labelangle\":30,\"labelside\":\"bottom\",\"line\":{\"color\":[6.442261622531529,0.07934790285463077,3.4535969440357497,1.4621895698187166,0.12902721652852625,0.07934790285463077,0.19833877206585285,0.346799273930311,6.518127366962824,0.07934790285463077,0.07934790285463077,0.07934790285463077,6.468470573425293,0.12869255703306878,0.07934790285463077,0.07934790285463077,6.210500248145075,6.090576171875,6.523750305175781,0.3468547109487106,0.07934790285463077,0.07934790285463077,0.07934790285463077,0.07934790285463077,0.07934790285463077,0.07934790285463077,0.07934790285463077,0.07934790285463077,0.07934790285463077,0.07934790285463077,0.07934790285463077,0.07934790285463077,0.07934790285463077,0.07934790285463077,0.07934790285463077,0.07934790285463077,0.17712952157922202,3.315160649722866,0.07934790285463077,0.07934790285463077,2.9876532554626465,2.8572630882263184,2.420549154281616,3.611504077911377,2.7592480182647705,2.8949763774871826,0.07934790285463077,0.07934790285463077,3.9665421426490477,3.7694027255269673],\"colorbar\":{\"title\":{\"text\":\"Objective Value\"}},\"colorscale\":[[0.0,\"rgb(247,251,255)\"],[0.125,\"rgb(222,235,247)\"],[0.25,\"rgb(198,219,239)\"],[0.375,\"rgb(158,202,225)\"],[0.5,\"rgb(107,174,214)\"],[0.625,\"rgb(66,146,198)\"],[0.75,\"rgb(33,113,181)\"],[0.875,\"rgb(8,81,156)\"],[1.0,\"rgb(8,48,107)\"]],\"reversescale\":true,\"showscale\":true},\"type\":\"parcoords\"}],                        {\"title\":{\"text\":\"Parallel Coordinate Plot\"},\"template\":{\"data\":{\"histogram2dcontour\":[{\"type\":\"histogram2dcontour\",\"colorbar\":{\"outlinewidth\":0,\"ticks\":\"\"},\"colorscale\":[[0.0,\"#0d0887\"],[0.1111111111111111,\"#46039f\"],[0.2222222222222222,\"#7201a8\"],[0.3333333333333333,\"#9c179e\"],[0.4444444444444444,\"#bd3786\"],[0.5555555555555556,\"#d8576b\"],[0.6666666666666666,\"#ed7953\"],[0.7777777777777778,\"#fb9f3a\"],[0.8888888888888888,\"#fdca26\"],[1.0,\"#f0f921\"]]}],\"choropleth\":[{\"type\":\"choropleth\",\"colorbar\":{\"outlinewidth\":0,\"ticks\":\"\"}}],\"histogram2d\":[{\"type\":\"histogram2d\",\"colorbar\":{\"outlinewidth\":0,\"ticks\":\"\"},\"colorscale\":[[0.0,\"#0d0887\"],[0.1111111111111111,\"#46039f\"],[0.2222222222222222,\"#7201a8\"],[0.3333333333333333,\"#9c179e\"],[0.4444444444444444,\"#bd3786\"],[0.5555555555555556,\"#d8576b\"],[0.6666666666666666,\"#ed7953\"],[0.7777777777777778,\"#fb9f3a\"],[0.8888888888888888,\"#fdca26\"],[1.0,\"#f0f921\"]]}],\"heatmap\":[{\"type\":\"heatmap\",\"colorbar\":{\"outlinewidth\":0,\"ticks\":\"\"},\"colorscale\":[[0.0,\"#0d0887\"],[0.1111111111111111,\"#46039f\"],[0.2222222222222222,\"#7201a8\"],[0.3333333333333333,\"#9c179e\"],[0.4444444444444444,\"#bd3786\"],[0.5555555555555556,\"#d8576b\"],[0.6666666666666666,\"#ed7953\"],[0.7777777777777778,\"#fb9f3a\"],[0.8888888888888888,\"#fdca26\"],[1.0,\"#f0f921\"]]}],\"contourcarpet\":[{\"type\":\"contourcarpet\",\"colorbar\":{\"outlinewidth\":0,\"ticks\":\"\"}}],\"contour\":[{\"type\":\"contour\",\"colorbar\":{\"outlinewidth\":0,\"ticks\":\"\"},\"colorscale\":[[0.0,\"#0d0887\"],[0.1111111111111111,\"#46039f\"],[0.2222222222222222,\"#7201a8\"],[0.3333333333333333,\"#9c179e\"],[0.4444444444444444,\"#bd3786\"],[0.5555555555555556,\"#d8576b\"],[0.6666666666666666,\"#ed7953\"],[0.7777777777777778,\"#fb9f3a\"],[0.8888888888888888,\"#fdca26\"],[1.0,\"#f0f921\"]]}],\"surface\":[{\"type\":\"surface\",\"colorbar\":{\"outlinewidth\":0,\"ticks\":\"\"},\"colorscale\":[[0.0,\"#0d0887\"],[0.1111111111111111,\"#46039f\"],[0.2222222222222222,\"#7201a8\"],[0.3333333333333333,\"#9c179e\"],[0.4444444444444444,\"#bd3786\"],[0.5555555555555556,\"#d8576b\"],[0.6666666666666666,\"#ed7953\"],[0.7777777777777778,\"#fb9f3a\"],[0.8888888888888888,\"#fdca26\"],[1.0,\"#f0f921\"]]}],\"mesh3d\":[{\"type\":\"mesh3d\",\"colorbar\":{\"outlinewidth\":0,\"ticks\":\"\"}}],\"scatter\":[{\"fillpattern\":{\"fillmode\":\"overlay\",\"size\":10,\"solidity\":0.2},\"type\":\"scatter\"}],\"parcoords\":[{\"type\":\"parcoords\",\"line\":{\"colorbar\":{\"outlinewidth\":0,\"ticks\":\"\"}}}],\"scatterpolargl\":[{\"type\":\"scatterpolargl\",\"marker\":{\"colorbar\":{\"outlinewidth\":0,\"ticks\":\"\"}}}],\"bar\":[{\"error_x\":{\"color\":\"#2a3f5f\"},\"error_y\":{\"color\":\"#2a3f5f\"},\"marker\":{\"line\":{\"color\":\"#E5ECF6\",\"width\":0.5},\"pattern\":{\"fillmode\":\"overlay\",\"size\":10,\"solidity\":0.2}},\"type\":\"bar\"}],\"scattergeo\":[{\"type\":\"scattergeo\",\"marker\":{\"colorbar\":{\"outlinewidth\":0,\"ticks\":\"\"}}}],\"scatterpolar\":[{\"type\":\"scatterpolar\",\"marker\":{\"colorbar\":{\"outlinewidth\":0,\"ticks\":\"\"}}}],\"histogram\":[{\"marker\":{\"pattern\":{\"fillmode\":\"overlay\",\"size\":10,\"solidity\":0.2}},\"type\":\"histogram\"}],\"scattergl\":[{\"type\":\"scattergl\",\"marker\":{\"colorbar\":{\"outlinewidth\":0,\"ticks\":\"\"}}}],\"scatter3d\":[{\"type\":\"scatter3d\",\"line\":{\"colorbar\":{\"outlinewidth\":0,\"ticks\":\"\"}},\"marker\":{\"colorbar\":{\"outlinewidth\":0,\"ticks\":\"\"}}}],\"scattermap\":[{\"type\":\"scattermap\",\"marker\":{\"colorbar\":{\"outlinewidth\":0,\"ticks\":\"\"}}}],\"scattermapbox\":[{\"type\":\"scattermapbox\",\"marker\":{\"colorbar\":{\"outlinewidth\":0,\"ticks\":\"\"}}}],\"scatterternary\":[{\"type\":\"scatterternary\",\"marker\":{\"colorbar\":{\"outlinewidth\":0,\"ticks\":\"\"}}}],\"scattercarpet\":[{\"type\":\"scattercarpet\",\"marker\":{\"colorbar\":{\"outlinewidth\":0,\"ticks\":\"\"}}}],\"carpet\":[{\"aaxis\":{\"endlinecolor\":\"#2a3f5f\",\"gridcolor\":\"white\",\"linecolor\":\"white\",\"minorgridcolor\":\"white\",\"startlinecolor\":\"#2a3f5f\"},\"baxis\":{\"endlinecolor\":\"#2a3f5f\",\"gridcolor\":\"white\",\"linecolor\":\"white\",\"minorgridcolor\":\"white\",\"startlinecolor\":\"#2a3f5f\"},\"type\":\"carpet\"}],\"table\":[{\"cells\":{\"fill\":{\"color\":\"#EBF0F8\"},\"line\":{\"color\":\"white\"}},\"header\":{\"fill\":{\"color\":\"#C8D4E3\"},\"line\":{\"color\":\"white\"}},\"type\":\"table\"}],\"barpolar\":[{\"marker\":{\"line\":{\"color\":\"#E5ECF6\",\"width\":0.5},\"pattern\":{\"fillmode\":\"overlay\",\"size\":10,\"solidity\":0.2}},\"type\":\"barpolar\"}],\"pie\":[{\"automargin\":true,\"type\":\"pie\"}]},\"layout\":{\"autotypenumbers\":\"strict\",\"colorway\":[\"#636efa\",\"#EF553B\",\"#00cc96\",\"#ab63fa\",\"#FFA15A\",\"#19d3f3\",\"#FF6692\",\"#B6E880\",\"#FF97FF\",\"#FECB52\"],\"font\":{\"color\":\"#2a3f5f\"},\"hovermode\":\"closest\",\"hoverlabel\":{\"align\":\"left\"},\"paper_bgcolor\":\"white\",\"plot_bgcolor\":\"#E5ECF6\",\"polar\":{\"bgcolor\":\"#E5ECF6\",\"angularaxis\":{\"gridcolor\":\"white\",\"linecolor\":\"white\",\"ticks\":\"\"},\"radialaxis\":{\"gridcolor\":\"white\",\"linecolor\":\"white\",\"ticks\":\"\"}},\"ternary\":{\"bgcolor\":\"#E5ECF6\",\"aaxis\":{\"gridcolor\":\"white\",\"linecolor\":\"white\",\"ticks\":\"\"},\"baxis\":{\"gridcolor\":\"white\",\"linecolor\":\"white\",\"ticks\":\"\"},\"caxis\":{\"gridcolor\":\"white\",\"linecolor\":\"white\",\"ticks\":\"\"}},\"coloraxis\":{\"colorbar\":{\"outlinewidth\":0,\"ticks\":\"\"}},\"colorscale\":{\"sequential\":[[0.0,\"#0d0887\"],[0.1111111111111111,\"#46039f\"],[0.2222222222222222,\"#7201a8\"],[0.3333333333333333,\"#9c179e\"],[0.4444444444444444,\"#bd3786\"],[0.5555555555555556,\"#d8576b\"],[0.6666666666666666,\"#ed7953\"],[0.7777777777777778,\"#fb9f3a\"],[0.8888888888888888,\"#fdca26\"],[1.0,\"#f0f921\"]],\"sequentialminus\":[[0.0,\"#0d0887\"],[0.1111111111111111,\"#46039f\"],[0.2222222222222222,\"#7201a8\"],[0.3333333333333333,\"#9c179e\"],[0.4444444444444444,\"#bd3786\"],[0.5555555555555556,\"#d8576b\"],[0.6666666666666666,\"#ed7953\"],[0.7777777777777778,\"#fb9f3a\"],[0.8888888888888888,\"#fdca26\"],[1.0,\"#f0f921\"]],\"diverging\":[[0,\"#8e0152\"],[0.1,\"#c51b7d\"],[0.2,\"#de77ae\"],[0.3,\"#f1b6da\"],[0.4,\"#fde0ef\"],[0.5,\"#f7f7f7\"],[0.6,\"#e6f5d0\"],[0.7,\"#b8e186\"],[0.8,\"#7fbc41\"],[0.9,\"#4d9221\"],[1,\"#276419\"]]},\"xaxis\":{\"gridcolor\":\"white\",\"linecolor\":\"white\",\"ticks\":\"\",\"title\":{\"standoff\":15},\"zerolinecolor\":\"white\",\"automargin\":true,\"zerolinewidth\":2},\"yaxis\":{\"gridcolor\":\"white\",\"linecolor\":\"white\",\"ticks\":\"\",\"title\":{\"standoff\":15},\"zerolinecolor\":\"white\",\"automargin\":true,\"zerolinewidth\":2},\"scene\":{\"xaxis\":{\"backgroundcolor\":\"#E5ECF6\",\"gridcolor\":\"white\",\"linecolor\":\"white\",\"showbackground\":true,\"ticks\":\"\",\"zerolinecolor\":\"white\",\"gridwidth\":2},\"yaxis\":{\"backgroundcolor\":\"#E5ECF6\",\"gridcolor\":\"white\",\"linecolor\":\"white\",\"showbackground\":true,\"ticks\":\"\",\"zerolinecolor\":\"white\",\"gridwidth\":2},\"zaxis\":{\"backgroundcolor\":\"#E5ECF6\",\"gridcolor\":\"white\",\"linecolor\":\"white\",\"showbackground\":true,\"ticks\":\"\",\"zerolinecolor\":\"white\",\"gridwidth\":2}},\"shapedefaults\":{\"line\":{\"color\":\"#2a3f5f\"}},\"annotationdefaults\":{\"arrowcolor\":\"#2a3f5f\",\"arrowhead\":0,\"arrowwidth\":1},\"geo\":{\"bgcolor\":\"white\",\"landcolor\":\"#E5ECF6\",\"subunitcolor\":\"white\",\"showland\":true,\"showlakes\":true,\"lakecolor\":\"white\"},\"title\":{\"x\":0.05},\"mapbox\":{\"style\":\"light\"}}}},                        {\"responsive\": true}                    )                };            </script>        </div>"
      ],
      "text/plain": [
       "Figure({\n",
       "    'data': [{'dimensions': [{'label': 'Objective Value',\n",
       "                              'range': [0.07934790285463077, 6.523750305175781],\n",
       "                              'values': [6.442261622531529, 0.07934790285463077,\n",
       "                                         3.4535969440357497, 1.4621895698187166,\n",
       "                                         0.12902721652852625, 0.07934790285463077,\n",
       "                                         0.19833877206585285, 0.346799273930311,\n",
       "                                         6.518127366962824, 0.07934790285463077,\n",
       "                                         0.07934790285463077, 0.07934790285463077,\n",
       "                                         6.468470573425293, 0.12869255703306878,\n",
       "                                         0.07934790285463077, 0.07934790285463077,\n",
       "                                         6.210500248145075, 6.090576171875,\n",
       "                                         6.523750305175781, 0.3468547109487106,\n",
       "                                         0.07934790285463077, 0.07934790285463077,\n",
       "                                         0.07934790285463077, 0.07934790285463077,\n",
       "                                         0.07934790285463077, 0.07934790285463077,\n",
       "                                         0.07934790285463077, 0.07934790285463077,\n",
       "                                         0.07934790285463077, 0.07934790285463077,\n",
       "                                         0.07934790285463077, 0.07934790285463077,\n",
       "                                         0.07934790285463077, 0.07934790285463077,\n",
       "                                         0.07934790285463077, 0.07934790285463077,\n",
       "                                         0.17712952157922202, 3.315160649722866,\n",
       "                                         0.07934790285463077, 0.07934790285463077,\n",
       "                                         2.9876532554626465, 2.8572630882263184,\n",
       "                                         2.420549154281616, 3.611504077911377,\n",
       "                                         2.7592480182647705, 2.8949763774871826,\n",
       "                                         0.07934790285463077, 0.07934790285463077,\n",
       "                                         3.9665421426490477, 3.7694027255269673]},\n",
       "                             {'label': 'model_name',\n",
       "                              'range': [0, 3],\n",
       "                              'ticktext': [GBR, LR, RF, XGBR],\n",
       "                              'tickvals': [0, 1, 2, 3],\n",
       "                              'values': [0, 1, 0, 0, 2, 1, 2, 2, 0, 1, 1, 1, 3, 2,\n",
       "                                         1, 1, 0, 3, 3, 2, 1, 1, 1, 1, 1, 1, 1, 1,\n",
       "                                         1, 1, 1, 1, 1, 1, 1, 1, 2, 0, 1, 1, 3, 3,\n",
       "                                         3, 3, 3, 3, 1, 1, 0, 0]}],\n",
       "              'labelangle': 30,\n",
       "              'labelside': 'bottom',\n",
       "              'line': {'color': [6.442261622531529, 0.07934790285463077,\n",
       "                                 3.4535969440357497, 1.4621895698187166,\n",
       "                                 0.12902721652852625, 0.07934790285463077,\n",
       "                                 0.19833877206585285, 0.346799273930311,\n",
       "                                 6.518127366962824, 0.07934790285463077,\n",
       "                                 0.07934790285463077, 0.07934790285463077,\n",
       "                                 6.468470573425293, 0.12869255703306878,\n",
       "                                 0.07934790285463077, 0.07934790285463077,\n",
       "                                 6.210500248145075, 6.090576171875,\n",
       "                                 6.523750305175781, 0.3468547109487106,\n",
       "                                 0.07934790285463077, 0.07934790285463077,\n",
       "                                 0.07934790285463077, 0.07934790285463077,\n",
       "                                 0.07934790285463077, 0.07934790285463077,\n",
       "                                 0.07934790285463077, 0.07934790285463077,\n",
       "                                 0.07934790285463077, 0.07934790285463077,\n",
       "                                 0.07934790285463077, 0.07934790285463077,\n",
       "                                 0.07934790285463077, 0.07934790285463077,\n",
       "                                 0.07934790285463077, 0.07934790285463077,\n",
       "                                 0.17712952157922202, 3.315160649722866,\n",
       "                                 0.07934790285463077, 0.07934790285463077,\n",
       "                                 2.9876532554626465, 2.8572630882263184,\n",
       "                                 2.420549154281616, 3.611504077911377,\n",
       "                                 2.7592480182647705, 2.8949763774871826,\n",
       "                                 0.07934790285463077, 0.07934790285463077,\n",
       "                                 3.9665421426490477, 3.7694027255269673],\n",
       "                       'colorbar': {'title': {'text': 'Objective Value'}},\n",
       "                       'colorscale': [[0.0, 'rgb(247,251,255)'], [0.125,\n",
       "                                      'rgb(222,235,247)'], [0.25,\n",
       "                                      'rgb(198,219,239)'], [0.375,\n",
       "                                      'rgb(158,202,225)'], [0.5,\n",
       "                                      'rgb(107,174,214)'], [0.625,\n",
       "                                      'rgb(66,146,198)'], [0.75,\n",
       "                                      'rgb(33,113,181)'], [0.875, 'rgb(8,81,156)'],\n",
       "                                      [1.0, 'rgb(8,48,107)']],\n",
       "                       'reversescale': True,\n",
       "                       'showscale': True},\n",
       "              'type': 'parcoords'}],\n",
       "    'layout': {'template': '...', 'title': {'text': 'Parallel Coordinate Plot'}}\n",
       "})"
      ]
     },
     "execution_count": 25,
     "metadata": {},
     "output_type": "execute_result"
    }
   ],
   "source": [
    "plot_parallel_coordinate(study, params=[\"model_name\"])"
   ]
  },
  {
   "cell_type": "code",
   "execution_count": 26,
   "id": "0f80453e",
   "metadata": {},
   "outputs": [],
   "source": [
    "def tune_ridge(trial):\n",
    "    # hyperparameter space\n",
    "    alpha = trial.suggest_float(\"alpha\",30,100)\n",
    "    \n",
    "    # make the model object\n",
    "    ridge = Ridge(alpha=alpha, random_state=42)\n",
    "    \n",
    "    # train the model\n",
    "    ridge.fit(X_train_encoded, y_train)\n",
    "    \n",
    "    # get predictions\n",
    "    y_pred = ridge.predict(X_test_encoded)\n",
    "    \n",
    "    # calculate loss\n",
    "    loss = mean_absolute_percentage_error(y_test, y_pred)\n",
    "\n",
    "    return loss"
   ]
  },
  {
   "cell_type": "code",
   "execution_count": 27,
   "id": "e5ea87f9",
   "metadata": {},
   "outputs": [
    {
     "name": "stderr",
     "output_type": "stream",
     "text": [
      "[I 2025-07-03 12:57:23,527] A new study created in memory with name: tune_model\n"
     ]
    }
   ],
   "source": [
    "# create study\n",
    "\n",
    "study = optuna.create_study(study_name=\"tune_model\", direction=\"minimize\")"
   ]
  },
  {
   "cell_type": "code",
   "execution_count": 28,
   "id": "710f1c62",
   "metadata": {},
   "outputs": [
    {
     "name": "stderr",
     "output_type": "stream",
     "text": [
      "                                                                                     "
     ]
    },
    {
     "name": "stdout",
     "output_type": "stream",
     "text": [
      "[I 2025-07-03 12:57:36,050] Trial 11 finished with value: 0.07917175810215299 and parameters: {'alpha': 93.8737352780069}. Best is trial 11 with value: 0.07917175810215299.\n",
      "[I 2025-07-03 12:57:36,066] Trial 12 finished with value: 0.07919576541246127 and parameters: {'alpha': 76.45352174661457}. Best is trial 11 with value: 0.07917175810215299.\n",
      "[I 2025-07-03 12:57:36,092] Trial 9 finished with value: 0.07916691057601613 and parameters: {'alpha': 97.69676391439943}. Best is trial 9 with value: 0.07916691057601613.\n",
      "[I 2025-07-03 12:57:36,093] Trial 3 finished with value: 0.0791821622646131 and parameters: {'alpha': 86.07300273061423}. Best is trial 9 with value: 0.07916691057601613.\n",
      "[I 2025-07-03 12:57:36,098] Trial 15 finished with value: 0.07919207111341815 and parameters: {'alpha': 79.0092330430374}. Best is trial 9 with value: 0.07916691057601613.\n",
      "[I 2025-07-03 12:57:36,100] Trial 5 finished with value: 0.07917351821416717 and parameters: {'alpha': 92.52718144616162}. Best is trial 9 with value: 0.07916691057601613.\n",
      "[I 2025-07-03 12:57:36,100] Trial 2 finished with value: 0.07922935167896623 and parameters: {'alpha': 54.800962141842064}. Best is trial 9 with value: 0.07916691057601613.\n",
      "[I 2025-07-03 12:57:36,102] Trial 0 finished with value: 0.07916450727398355 and parameters: {'alpha': 99.64020968025591}. Best is trial 0 with value: 0.07916450727398355.\n"
     ]
    },
    {
     "name": "stderr",
     "output_type": "stream",
     "text": [
      "                                                                                      \r"
     ]
    },
    {
     "name": "stdout",
     "output_type": "stream",
     "text": [
      "[I 2025-07-03 12:57:36,103] Trial 7 finished with value: 0.07917019271839656 and parameters: {'alpha': 95.08974463606624}. Best is trial 0 with value: 0.07916450727398355.\n",
      "[I 2025-07-03 12:57:36,103] Trial 1 finished with value: 0.07919346481038782 and parameters: {'alpha': 78.03742898918262}. Best is trial 0 with value: 0.07916450727398355.\n",
      "[I 2025-07-03 12:57:36,105] Trial 13 finished with value: 0.07916614306215745 and parameters: {'alpha': 98.31510036790853}. Best is trial 0 with value: 0.07916450727398355.\n"
     ]
    },
    {
     "name": "stderr",
     "output_type": "stream",
     "text": [
      "Best trial: 0. Best value: 0.0791645:  14%|█▍        | 14/100 [00:04<00:19,  4.35it/s]"
     ]
    },
    {
     "name": "stdout",
     "output_type": "stream",
     "text": [
      "[I 2025-07-03 12:57:36,106] Trial 10 finished with value: 0.079252033022699 and parameters: {'alpha': 42.03240545196022}. Best is trial 0 with value: 0.07916450727398355.\n",
      "[I 2025-07-03 12:57:36,107] Trial 6 finished with value: 0.07917881397844158 and parameters: {'alpha': 88.54685087861529}. Best is trial 0 with value: 0.07916450727398355.\n",
      "[I 2025-07-03 12:57:36,108] Trial 4 finished with value: 0.07917235929512643 and parameters: {'alpha': 93.41265426910479}. Best is trial 0 with value: 0.07916450727398355.\n",
      "[I 2025-07-03 12:57:36,109] Trial 8 finished with value: 0.07924779861391086 and parameters: {'alpha': 44.28779795832599}. Best is trial 0 with value: 0.07916450727398355.\n"
     ]
    },
    {
     "name": "stderr",
     "output_type": "stream",
     "text": [
      "Best trial: 0. Best value: 0.0791645:  20%|██        | 20/100 [00:05<00:10,  7.92it/s]"
     ]
    },
    {
     "name": "stdout",
     "output_type": "stream",
     "text": [
      "[I 2025-07-03 12:57:36,110] Trial 14 finished with value: 0.07919677382528437 and parameters: {'alpha': 75.76269697919722}. Best is trial 0 with value: 0.07916450727398355.\n",
      "[I 2025-07-03 12:57:36,575] Trial 18 finished with value: 0.07921179994735332 and parameters: {'alpha': 65.71157549089367}. Best is trial 0 with value: 0.07916450727398355.\n",
      "[I 2025-07-03 12:57:36,576] Trial 16 finished with value: 0.07927539661574796 and parameters: {'alpha': 30.16124652959674}. Best is trial 0 with value: 0.07916450727398355.\n",
      "[I 2025-07-03 12:57:36,581] Trial 17 finished with value: 0.07920786733200483 and parameters: {'alpha': 68.28815779956741}. Best is trial 0 with value: 0.07916450727398355.\n",
      "[I 2025-07-03 12:57:36,584] Trial 19 finished with value: 0.07921505901952804 and parameters: {'alpha': 63.61102834979557}. Best is trial 0 with value: 0.07916450727398355.\n",
      "[I 2025-07-03 12:57:36,634] Trial 20 finished with value: 0.07921195675305061 and parameters: {'alpha': 65.60995264274958}. Best is trial 0 with value: 0.07916450727398355.\n"
     ]
    },
    {
     "name": "stderr",
     "output_type": "stream",
     "text": [
      "Best trial: 0. Best value: 0.0791645:  24%|██▍       | 24/100 [00:05<00:06, 11.68it/s]"
     ]
    },
    {
     "name": "stdout",
     "output_type": "stream",
     "text": [
      "[I 2025-07-03 12:57:36,636] Trial 21 finished with value: 0.0792109338768684 and parameters: {'alpha': 66.27421083489449}. Best is trial 0 with value: 0.07916450727398355.\n",
      "[I 2025-07-03 12:57:36,722] Trial 22 finished with value: 0.07921262404458546 and parameters: {'alpha': 65.17800235156928}. Best is trial 0 with value: 0.07916450727398355.\n",
      "[I 2025-07-03 12:57:36,766] Trial 23 finished with value: 0.0792092026751718 and parameters: {'alpha': 67.40818014502229}. Best is trial 0 with value: 0.07916450727398355.\n",
      "[I 2025-07-03 12:57:36,775] Trial 24 finished with value: 0.0792062882908643 and parameters: {'alpha': 69.33500543148307}. Best is trial 0 with value: 0.07916450727398355.\n"
     ]
    },
    {
     "name": "stderr",
     "output_type": "stream",
     "text": [
      "Best trial: 34. Best value: 0.0791642:  29%|██▉       | 29/100 [00:05<00:05, 13.83it/s]"
     ]
    },
    {
     "name": "stdout",
     "output_type": "stream",
     "text": [
      "[I 2025-07-03 12:57:36,830] Trial 25 finished with value: 0.07921483919307296 and parameters: {'alpha': 63.75152943152845}. Best is trial 0 with value: 0.07916450727398355.\n",
      "[I 2025-07-03 12:57:36,871] Trial 26 finished with value: 0.07920963273486795 and parameters: {'alpha': 67.12553961191216}. Best is trial 0 with value: 0.07916450727398355.\n",
      "[I 2025-07-03 12:57:36,996] Trial 27 finished with value: 0.07916777398587695 and parameters: {'alpha': 97.00574536519005}. Best is trial 0 with value: 0.07916450727398355.\n",
      "[I 2025-07-03 12:57:37,035] Trial 28 finished with value: 0.07918360338292256 and parameters: {'alpha': 85.019942785935}. Best is trial 0 with value: 0.07916450727398355.\n",
      "[I 2025-07-03 12:57:37,108] Trial 29 finished with value: 0.07916454939059454 and parameters: {'alpha': 99.6059097214812}. Best is trial 0 with value: 0.07916450727398355.\n"
     ]
    },
    {
     "name": "stderr",
     "output_type": "stream",
     "text": [
      "                                                                                       "
     ]
    },
    {
     "name": "stdout",
     "output_type": "stream",
     "text": [
      "[I 2025-07-03 12:57:37,201] Trial 30 finished with value: 0.07916668765117706 and parameters: {'alpha': 97.87629474218454}. Best is trial 0 with value: 0.07916450727398355.\n",
      "[I 2025-07-03 12:57:37,288] Trial 32 finished with value: 0.07916576259649438 and parameters: {'alpha': 98.6217769693209}. Best is trial 0 with value: 0.07916450727398355.\n",
      "[I 2025-07-03 12:57:37,293] Trial 31 finished with value: 0.07916425912213802 and parameters: {'alpha': 99.84232488305051}. Best is trial 31 with value: 0.07916425912213802.\n",
      "[I 2025-07-03 12:57:37,324] Trial 33 finished with value: 0.07918352658255445 and parameters: {'alpha': 85.07585042736368}. Best is trial 31 with value: 0.07916425912213802.\n",
      "[I 2025-07-03 12:57:37,379] Trial 34 finished with value: 0.07916416723533141 and parameters: {'alpha': 99.9171733621474}. Best is trial 34 with value: 0.07916416723533141.\n",
      "[I 2025-07-03 12:57:37,464] Trial 35 finished with value: 0.07916480361064458 and parameters: {'alpha': 99.39893784708813}. Best is trial 34 with value: 0.07916416723533141.\n"
     ]
    },
    {
     "name": "stderr",
     "output_type": "stream",
     "text": [
      "Best trial: 39. Best value: 0.0791641:  39%|███▉      | 39/100 [00:05<00:03, 18.89it/s]"
     ]
    },
    {
     "name": "stdout",
     "output_type": "stream",
     "text": [
      "[I 2025-07-03 12:57:37,470] Trial 36 finished with value: 0.07916563758379402 and parameters: {'alpha': 98.72263006797758}. Best is trial 34 with value: 0.07916416723533141.\n",
      "[I 2025-07-03 12:57:37,475] Trial 37 finished with value: 0.07916458387807565 and parameters: {'alpha': 99.57782827009059}. Best is trial 34 with value: 0.07916416723533141.\n",
      "[I 2025-07-03 12:57:37,487] Trial 38 finished with value: 0.0791646829666875 and parameters: {'alpha': 99.49715428059821}. Best is trial 34 with value: 0.07916416723533141.\n",
      "[I 2025-07-03 12:57:37,582] Trial 39 finished with value: 0.07916408773809665 and parameters: {'alpha': 99.98193326743872}. Best is trial 39 with value: 0.07916408773809665.\n"
     ]
    },
    {
     "name": "stderr",
     "output_type": "stream",
     "text": [
      "Best trial: 39. Best value: 0.0791641:  45%|████▌     | 45/100 [00:06<00:02, 20.26it/s]"
     ]
    },
    {
     "name": "stdout",
     "output_type": "stream",
     "text": [
      "[I 2025-07-03 12:57:37,583] Trial 40 finished with value: 0.07916575356591422 and parameters: {'alpha': 98.62905992707076}. Best is trial 39 with value: 0.07916408773809665.\n",
      "[I 2025-07-03 12:57:37,631] Trial 41 finished with value: 0.07917996298782617 and parameters: {'alpha': 87.6948160309477}. Best is trial 39 with value: 0.07916408773809665.\n",
      "[I 2025-07-03 12:57:37,734] Trial 42 finished with value: 0.07917886822566887 and parameters: {'alpha': 88.50654523110798}. Best is trial 39 with value: 0.07916408773809665.\n",
      "[I 2025-07-03 12:57:37,740] Trial 43 finished with value: 0.07917607359057106 and parameters: {'alpha': 90.59352116489438}. Best is trial 39 with value: 0.07916408773809665.\n",
      "[I 2025-07-03 12:57:37,897] Trial 44 finished with value: 0.07917716514708893 and parameters: {'alpha': 89.77546217137271}. Best is trial 39 with value: 0.07916408773809665.\n",
      "[I 2025-07-03 12:57:37,900] Trial 45 finished with value: 0.07917698217475108 and parameters: {'alpha': 89.91233001270841}. Best is trial 39 with value: 0.07916408773809665.\n"
     ]
    },
    {
     "name": "stderr",
     "output_type": "stream",
     "text": [
      "                                                                                       \r"
     ]
    },
    {
     "name": "stdout",
     "output_type": "stream",
     "text": [
      "[I 2025-07-03 12:57:37,975] Trial 47 finished with value: 0.07917826250114293 and parameters: {'alpha': 88.95716600225711}. Best is trial 39 with value: 0.07916408773809665.\n",
      "[I 2025-07-03 12:57:37,988] Trial 46 finished with value: 0.07917848206598521 and parameters: {'alpha': 88.7936447587339}. Best is trial 39 with value: 0.07916408773809665.\n",
      "[I 2025-07-03 12:57:37,996] Trial 49 finished with value: 0.07917754342565783 and parameters: {'alpha': 89.4930100339681}. Best is trial 39 with value: 0.07916408773809665.\n",
      "[I 2025-07-03 12:57:38,041] Trial 48 finished with value: 0.07917656393508572 and parameters: {'alpha': 90.2253945208383}. Best is trial 39 with value: 0.07916408773809665.\n"
     ]
    },
    {
     "name": "stderr",
     "output_type": "stream",
     "text": [
      "                                                                                       "
     ]
    },
    {
     "name": "stdout",
     "output_type": "stream",
     "text": [
      "[I 2025-07-03 12:57:38,126] Trial 50 finished with value: 0.07917548213313706 and parameters: {'alpha': 91.03934247373851}. Best is trial 39 with value: 0.07916408773809665.\n",
      "[I 2025-07-03 12:57:38,169] Trial 53 finished with value: 0.07917455719606564 and parameters: {'alpha': 91.73883146392282}. Best is trial 39 with value: 0.07916408773809665.\n",
      "[I 2025-07-03 12:57:38,174] Trial 52 finished with value: 0.07917391252711539 and parameters: {'alpha': 92.22749907445952}. Best is trial 39 with value: 0.07916408773809665.\n",
      "[I 2025-07-03 12:57:38,176] Trial 51 finished with value: 0.07917396830929521 and parameters: {'alpha': 92.18511398596522}. Best is trial 39 with value: 0.07916408773809665.\n",
      "[I 2025-07-03 12:57:38,315] Trial 55 finished with value: 0.07917201904502125 and parameters: {'alpha': 93.67340243876473}. Best is trial 39 with value: 0.07916408773809665.\n",
      "[I 2025-07-03 12:57:38,328] Trial 54 finished with value: 0.07917158166885133 and parameters: {'alpha': 94.00953544341249}. Best is trial 39 with value: 0.07916408773809665.\n"
     ]
    },
    {
     "name": "stderr",
     "output_type": "stream",
     "text": [
      "Best trial: 39. Best value: 0.0791641:  61%|██████    | 61/100 [00:06<00:01, 23.29it/s]"
     ]
    },
    {
     "name": "stdout",
     "output_type": "stream",
     "text": [
      "[I 2025-07-03 12:57:38,423] Trial 56 finished with value: 0.07916955690228789 and parameters: {'alpha': 95.5891821717074}. Best is trial 39 with value: 0.07916408773809665.\n",
      "[I 2025-07-03 12:57:38,474] Trial 57 finished with value: 0.079171836864434 and parameters: {'alpha': 93.81326377123328}. Best is trial 39 with value: 0.07916408773809665.\n",
      "[I 2025-07-03 12:57:38,475] Trial 58 finished with value: 0.07917109703260639 and parameters: {'alpha': 94.38524775281626}. Best is trial 39 with value: 0.07916408773809665.\n",
      "[I 2025-07-03 12:57:38,569] Trial 59 finished with value: 0.07917149293375172 and parameters: {'alpha': 94.07826700014489}. Best is trial 39 with value: 0.07916408773809665.\n",
      "[I 2025-07-03 12:57:38,577] Trial 60 finished with value: 0.07917016432542225 and parameters: {'alpha': 95.11192614863283}. Best is trial 39 with value: 0.07916408773809665.\n",
      "[I 2025-07-03 12:57:38,580] Trial 61 finished with value: 0.07916996985509082 and parameters: {'alpha': 95.26393751348802}. Best is trial 39 with value: 0.07916408773809665.\n"
     ]
    },
    {
     "name": "stderr",
     "output_type": "stream",
     "text": [
      "Best trial: 39. Best value: 0.0791641:  70%|███████   | 70/100 [00:07<00:01, 28.00it/s]"
     ]
    },
    {
     "name": "stdout",
     "output_type": "stream",
     "text": [
      "[I 2025-07-03 12:57:38,620] Trial 62 finished with value: 0.07917174074764238 and parameters: {'alpha': 93.88706000993535}. Best is trial 39 with value: 0.07916408773809665.\n",
      "[I 2025-07-03 12:57:38,684] Trial 63 finished with value: 0.0791875878539707 and parameters: {'alpha': 82.15852331270547}. Best is trial 39 with value: 0.07916408773809665.\n",
      "[I 2025-07-03 12:57:38,687] Trial 64 finished with value: 0.0791879857545177 and parameters: {'alpha': 81.87749017137693}. Best is trial 39 with value: 0.07916408773809665.\n",
      "[I 2025-07-03 12:57:38,718] Trial 65 finished with value: 0.07916980274625536 and parameters: {'alpha': 95.39467346608406}. Best is trial 39 with value: 0.07916408773809665.\n",
      "[I 2025-07-03 12:57:38,836] Trial 66 finished with value: 0.07922339311229291 and parameters: {'alpha': 58.39637330605515}. Best is trial 39 with value: 0.07916408773809665.\n",
      "[I 2025-07-03 12:57:38,843] Trial 67 finished with value: 0.07918658836742769 and parameters: {'alpha': 82.86921061484955}. Best is trial 39 with value: 0.07916408773809665.\n",
      "[I 2025-07-03 12:57:38,880] Trial 68 finished with value: 0.07916419822690382 and parameters: {'alpha': 99.89192797067062}. Best is trial 39 with value: 0.07916408773809665.\n",
      "[I 2025-07-03 12:57:39,014] Trial 70 finished with value: 0.07918776676129899 and parameters: {'alpha': 82.0321515568196}. Best is trial 39 with value: 0.07916408773809665.\n",
      "[I 2025-07-03 12:57:39,015] Trial 69 finished with value: 0.07916411321044825 and parameters: {'alpha': 99.96118265536556}. Best is trial 39 with value: 0.07916408773809665.\n"
     ]
    },
    {
     "name": "stderr",
     "output_type": "stream",
     "text": [
      "Best trial: 39. Best value: 0.0791641:  78%|███████▊  | 78/100 [00:07<00:00, 43.06it/s]"
     ]
    },
    {
     "name": "stdout",
     "output_type": "stream",
     "text": [
      "[I 2025-07-03 12:57:39,018] Trial 71 finished with value: 0.07922825702228024 and parameters: {'alpha': 55.4536680393182}. Best is trial 39 with value: 0.07916408773809665.\n",
      "[I 2025-07-03 12:57:39,041] Trial 72 finished with value: 0.07916421778022212 and parameters: {'alpha': 99.87600031935348}. Best is trial 39 with value: 0.07916408773809665.\n",
      "[I 2025-07-03 12:57:39,123] Trial 74 finished with value: 0.07923821684870126 and parameters: {'alpha': 49.62263514946214}. Best is trial 39 with value: 0.07916408773809665.\n",
      "[I 2025-07-03 12:57:39,163] Trial 73 finished with value: 0.07916412955180069 and parameters: {'alpha': 99.94787063711851}. Best is trial 39 with value: 0.07916408773809665.\n",
      "[I 2025-07-03 12:57:39,167] Trial 75 finished with value: 0.07924622334332734 and parameters: {'alpha': 45.13970127478494}. Best is trial 39 with value: 0.07916408773809665.\n",
      "[I 2025-07-03 12:57:39,208] Trial 76 finished with value: 0.0792497965544503 and parameters: {'alpha': 43.220501574352355}. Best is trial 39 with value: 0.07916408773809665.\n",
      "[I 2025-07-03 12:57:39,224] Trial 77 finished with value: 0.07924711952528196 and parameters: {'alpha': 44.65284690157701}. Best is trial 39 with value: 0.07916408773809665.\n",
      "[I 2025-07-03 12:57:39,225] Trial 78 finished with value: 0.07916773524067112 and parameters: {'alpha': 97.03667598492589}. Best is trial 39 with value: 0.07916408773809665.\n"
     ]
    },
    {
     "name": "stderr",
     "output_type": "stream",
     "text": [
      "Best trial: 39. Best value: 0.0791641:  94%|█████████▍| 94/100 [00:08<00:00, 12.49it/s]"
     ]
    },
    {
     "name": "stdout",
     "output_type": "stream",
     "text": [
      "[I 2025-07-03 12:57:40,234] Trial 80 finished with value: 0.07916765675312003 and parameters: {'alpha': 97.09933563309269}. Best is trial 39 with value: 0.07916408773809665.\n",
      "[I 2025-07-03 12:57:40,239] Trial 93 finished with value: 0.07916800848535487 and parameters: {'alpha': 96.81885061130035}. Best is trial 39 with value: 0.07916408773809665.\n",
      "[I 2025-07-03 12:57:40,240] Trial 86 finished with value: 0.07916890344854323 and parameters: {'alpha': 96.10786359808417}. Best is trial 39 with value: 0.07916408773809665.\n",
      "[I 2025-07-03 12:57:40,241] Trial 81 finished with value: 0.07916737218345625 and parameters: {'alpha': 97.32655193433266}. Best is trial 39 with value: 0.07916408773809665.\n",
      "[I 2025-07-03 12:57:40,242] Trial 83 finished with value: 0.07916754052175311 and parameters: {'alpha': 97.19213350683098}. Best is trial 39 with value: 0.07916408773809665.\n",
      "[I 2025-07-03 12:57:40,245] Trial 92 finished with value: 0.07916760048437048 and parameters: {'alpha': 97.14425912229945}. Best is trial 39 with value: 0.07916408773809665.\n",
      "[I 2025-07-03 12:57:40,247] Trial 89 finished with value: 0.07916814004804718 and parameters: {'alpha': 96.71419400278437}. Best is trial 39 with value: 0.07916408773809665.\n",
      "[I 2025-07-03 12:57:40,297] Trial 94 finished with value: 0.07916769946769033 and parameters: {'alpha': 97.06523454300086}. Best is trial 39 with value: 0.07916408773809665.\n",
      "[I 2025-07-03 12:57:40,301] Trial 90 finished with value: 0.07916762564673842 and parameters: {'alpha': 97.12416994604271}. Best is trial 39 with value: 0.07916408773809665.\n",
      "[I 2025-07-03 12:57:40,301] Trial 91 finished with value: 0.07916854296950106 and parameters: {'alpha': 96.39410643338601}. Best is trial 39 with value: 0.07916408773809665.\n",
      "[I 2025-07-03 12:57:40,306] Trial 82 finished with value: 0.07916843084554655 and parameters: {'alpha': 96.48315437122092}. Best is trial 39 with value: 0.07916408773809665.\n",
      "[I 2025-07-03 12:57:40,308] Trial 87 finished with value: 0.07916788180288443 and parameters: {'alpha': 96.91970874412405}. Best is trial 39 with value: 0.07916408773809665.\n",
      "[I 2025-07-03 12:57:40,309] Trial 79 finished with value: 0.07916791208266886 and parameters: {'alpha': 96.89559908816746}. Best is trial 39 with value: 0.07916408773809665.\n",
      "[I 2025-07-03 12:57:40,309] Trial 84 finished with value: 0.0791677005451135 and parameters: {'alpha': 97.06437439552614}. Best is trial 39 with value: 0.07916408773809665.\n",
      "[I 2025-07-03 12:57:40,311] Trial 85 finished with value: 0.07916760956124015 and parameters: {'alpha': 97.13701227606026}. Best is trial 39 with value: 0.07916408773809665.\n",
      "[I 2025-07-03 12:57:40,335] Trial 88 finished with value: 0.07916766468718262 and parameters: {'alpha': 97.09300142032315}. Best is trial 39 with value: 0.07916408773809665.\n"
     ]
    },
    {
     "name": "stderr",
     "output_type": "stream",
     "text": [
      "Best trial: 39. Best value: 0.0791641: 100%|██████████| 100/100 [00:08<00:00, 11.59it/s]"
     ]
    },
    {
     "name": "stdout",
     "output_type": "stream",
     "text": [
      "[I 2025-07-03 12:57:40,524] Trial 95 finished with value: 0.07916545928775069 and parameters: {'alpha': 98.86659940405437}. Best is trial 39 with value: 0.07916408773809665.\n",
      "[I 2025-07-03 12:57:40,571] Trial 96 finished with value: 0.07916416746289191 and parameters: {'alpha': 99.91698799264327}. Best is trial 39 with value: 0.07916408773809665.\n",
      "[I 2025-07-03 12:57:40,579] Trial 97 finished with value: 0.07916435899748578 and parameters: {'alpha': 99.76097426331053}. Best is trial 39 with value: 0.07916408773809665.\n",
      "[I 2025-07-03 12:57:40,588] Trial 98 finished with value: 0.07916412240605206 and parameters: {'alpha': 99.95369170078395}. Best is trial 39 with value: 0.07916408773809665.\n",
      "[I 2025-07-03 12:57:40,593] Trial 99 finished with value: 0.0791650579860793 and parameters: {'alpha': 99.19191553748408}. Best is trial 39 with value: 0.07916408773809665.\n"
     ]
    },
    {
     "name": "stderr",
     "output_type": "stream",
     "text": [
      "\n"
     ]
    }
   ],
   "source": [
    "# optimize\n",
    "\n",
    "study.optimize(func=tune_ridge, n_trials=100, n_jobs=-1, show_progress_bar=True)"
   ]
  },
  {
   "cell_type": "code",
   "execution_count": 29,
   "id": "ccabb912",
   "metadata": {},
   "outputs": [
    {
     "data": {
      "text/plain": [
       "{'alpha': 99.98193326743872}"
      ]
     },
     "execution_count": 29,
     "metadata": {},
     "output_type": "execute_result"
    }
   ],
   "source": [
    "# best parameters\n",
    "\n",
    "study.best_params\n"
   ]
  },
  {
   "cell_type": "code",
   "execution_count": 30,
   "id": "130c60c4",
   "metadata": {},
   "outputs": [
    {
     "data": {
      "text/plain": [
       "0.07916408773809665"
      ]
     },
     "execution_count": 30,
     "metadata": {},
     "output_type": "execute_result"
    }
   ],
   "source": [
    "# best value\n",
    "\n",
    "study.best_value"
   ]
  },
  {
   "cell_type": "code",
   "execution_count": null,
   "id": "69225432",
   "metadata": {},
   "outputs": [],
   "source": []
  },
  {
   "cell_type": "code",
   "execution_count": null,
   "id": "8d3dcba2",
   "metadata": {},
   "outputs": [],
   "source": []
  }
 ],
 "metadata": {
  "kernelspec": {
   "display_name": "myenv",
   "language": "python",
   "name": "python3"
  },
  "language_info": {
   "codemirror_mode": {
    "name": "ipython",
    "version": 3
   },
   "file_extension": ".py",
   "mimetype": "text/x-python",
   "name": "python",
   "nbconvert_exporter": "python",
   "pygments_lexer": "ipython3",
   "version": "3.13.1"
  }
 },
 "nbformat": 4,
 "nbformat_minor": 5
}
